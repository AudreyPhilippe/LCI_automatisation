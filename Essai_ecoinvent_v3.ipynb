{
 "cells": [
  {
   "cell_type": "markdown",
   "id": "1f74f373-16b1-4ef0-a5fa-917ca25cc41e",
   "metadata": {},
   "source": [
    "# Python librairies need (need to check the version)"
   ]
  },
  {
   "cell_type": "code",
   "execution_count": 14,
   "id": "8b6a29b7-06ee-4060-af55-9f939adbdbb9",
   "metadata": {},
   "outputs": [],
   "source": [
    "import matplotlib.pyplot as plt\n",
    "import pandas as pd\n",
    "import numpy as np\n",
    "from pathlib import Path\n",
    "import random as rd\n",
    "from tkinter import * \n",
    "import openpyxl\n",
    "import ipywidgets as widgets\n",
    "from jupyter_ui_poll import ui_events\n",
    "import time\n",
    "import nest_asyncio\n",
    "nest_asyncio.apply()"
   ]
  },
  {
   "cell_type": "markdown",
   "id": "33a5aee1-e633-46e1-ac1d-ecaf9f28fbf9",
   "metadata": {},
   "source": [
    "# All the path + need to add the excel file for the LCI\n",
    "path of the folder\n",
    "\n",
    "one folder for each element\n",
    "\n",
    "name of the excel file for the LCI"
   ]
  },
  {
   "cell_type": "code",
   "execution_count": 15,
   "id": "ff50b02d-7e0d-4f77-b6aa-beeebd0c8edb",
   "metadata": {},
   "outputs": [],
   "source": [
    "#path folder\n",
    "path=Path('C:/Users/philippea/Desktop/Impmet_LCI_auto') \n",
    "folder_LCI='Data_LCI'\n",
    "path_LCI=path / folder_LCI\n",
    "folder_python='Data_python'\n",
    "path_python= path / folder_python\n",
    "\n",
    "file_step1='LCI_modelling.xlsx'\n",
    "path_step1= path_LCI / file_step1\n",
    "file_step2='LCI_modelling_step2.xlsx'\n",
    "path_step2= path_LCI / file_step2\n",
    "file_step3='LCI_modelling_step3_BW.xlsx'\n",
    "path_step3= path_LCI / file_step3\n",
    "\n",
    "file_ei='Database-Overview-for-ecoinvent-v3.9.1.xlsx'\n",
    "path_ei= path_python / file_ei\n",
    "sheet_ei='Cut-Off AO'\n",
    "\n",
    "file_LCI_step0='LCI_Review&Compilation_W_v1.xlsx' #TO CHANGE\n",
    "path_step0= path_LCI / file_LCI_step0\n",
    "\n",
    "file_mapping='unit_name_ecoinvent.xlsx'\n",
    "path_mapping= path_python / file_mapping\n"
   ]
  },
  {
   "cell_type": "markdown",
   "id": "b84b233f-d2b8-4006-9cb8-3253fdc53dd8",
   "metadata": {},
   "source": [
    "# Code: From green to blue"
   ]
  },
  {
   "cell_type": "markdown",
   "id": "a91f4b2e-ad4c-4e28-9e22-449149516a86",
   "metadata": {},
   "source": [
    "Check that all the sheets with data are named like that 'PRi_XXX' with i the number of the route\n",
    "\n",
    "Also check if no other sheet have \"PR\" in their name"
   ]
  },
  {
   "cell_type": "code",
   "execution_count": 16,
   "id": "2590c0ec-e7f8-44b9-b691-11b7a1f4088d",
   "metadata": {},
   "outputs": [
    {
     "data": {
      "text/plain": [
       "['PR1_WC_China',\n",
       " 'PR2_WC_UnitedStates',\n",
       " 'PR3_WC_Europe',\n",
       " 'PR4_APT_Europe_Recycling']"
      ]
     },
     "execution_count": 16,
     "metadata": {},
     "output_type": "execute_result"
    }
   ],
   "source": [
    "\n",
    "doc=pd.ExcelFile(path_step0)\n",
    "all_sheets=doc.sheet_names#.str.contains('PR')\n",
    "sheet_names_list = [name for name in all_sheets if \"PR\" in name] #change with startwith \n",
    "sheet_names_list"
   ]
  },
  {
   "cell_type": "code",
   "execution_count": 17,
   "id": "6c1bfe80-de14-4b86-b4aa-9ffc3f51dfbd",
   "metadata": {},
   "outputs": [],
   "source": [
    "list_name_columns_LCI=[\"Flow\\n(As reported by the authors)\",\t\"Type of flow\",\t\"Classification of flows\",\t\"Value\",\t\n",
    "                       \"Unit\\n(As reported by the authors)\",\t \"Reference flow\\n(to which the LCI is reported)\",\n",
    "                       \"Associated unit operation\\n(as reported by the authors)\",\t\"Order of the unit operation(s) in the process chain\", \n",
    "                       \"Corresponding life cycle stage\"]\n",
    "list_name_add_blue=[\"Ei - Activity name\",  \"Elementary flow\",\t\"Ei - Reference product\",\t\"Elementary flow category\", \"Elementary flow sub-category\",\n",
    "                    \"Ei - Location\", \"Unit\", \"Modified value to ei unit\", \"modified value (ref flow BW activity)\", \"modified value allocated flow\"  ,\t\"Comment on calculations\"]\n"
   ]
  },
  {
   "cell_type": "code",
   "execution_count": 21,
   "id": "7c115624-4d73-4851-a3c2-934148640f40",
   "metadata": {
    "scrolled": true
   },
   "outputs": [],
   "source": [
    "\n",
    "\n",
    "i=0\n",
    "for sheet in sheet_names_list:\n",
    "    data_LCI_PRi=pd.read_excel(path_step0,sheet_name=sheet,header=[0])\n",
    "    columns_need=data_LCI_PRi.loc[:,list_name_columns_LCI].copy()\n",
    "    columns_need=columns_need.reindex(columns=[*columns_need.columns.tolist(), *list_name_add_blue])\n",
    "    i+=1\n",
    "    with pd.ExcelWriter(path_step1,engine='openpyxl',mode='a',if_sheet_exists='replace') as writer:  \n",
    "        columns_need.to_excel(writer, sheet_name='PR' + str(i) + '_LCI_Modelling',index=False)"
   ]
  },
  {
   "cell_type": "markdown",
   "id": "15142fa2-ead5-4635-ba0e-7c330ee61a8d",
   "metadata": {},
   "source": [
    "# Manual: Need to fill columns:\n",
    "\n",
    "J (Ei - Activity name), you can use the file Database-Overview-for-ecoinvent-v3.9.1.xlsx, sheet cut-off AO in the folder Data_python\n",
    "\n",
    "K (Elementary flow), you can use the file  Database-Overview-for-ecoinvent-v3.9.1.xlsx, sheet elementary exchanges in the folder Data_python\n",
    "\n",
    "O (Ei - location), use the ecoinvent names (maybe create an excel with all the names? )"
   ]
  },
  {
   "cell_type": "markdown",
   "id": "9b06fcc3-01de-4ace-97c1-43a7b23ea591",
   "metadata": {},
   "source": [
    "# Code: Fill column L and check column N and add unit (column O)"
   ]
  },
  {
   "cell_type": "markdown",
   "id": "6513133d-139a-4f48-8cf5-798e0bd56cd0",
   "metadata": {},
   "source": [
    "Run the next cell if there is no problem in the country attribution you can save it else check the spelling it can also be that the location is to precise for ecoinvent and run again the cell"
   ]
  },
  {
   "cell_type": "markdown",
   "id": "e7512914-1ca6-4e0c-9bb7-74b712448db2",
   "metadata": {},
   "source": [
    "Pour l'instant seule la feuille PR1 est traitée, pour faire d'autres feuilles changer le numéro en ligne 1 de la cellule en dessous et de la dernière cellule (à modifier)"
   ]
  },
  {
   "cell_type": "code",
   "execution_count": 21,
   "id": "4399937c-9652-463c-92c6-a706373851d6",
   "metadata": {},
   "outputs": [
    {
     "data": {
      "text/plain": [
       "['PR1_LCI_Modelling', 'PR2_LCI_Modelling', 'PR3_LCI_Modelling']"
      ]
     },
     "execution_count": 21,
     "metadata": {},
     "output_type": "execute_result"
    }
   ],
   "source": [
    "doc=pd.ExcelFile(path_step1)\n",
    "all_sheets_model=doc.sheet_names#.str.contains('PR')\n",
    "sheet_names_list_model = [name for name in all_sheets_model if \"PR\" in name] #change with startwith \n",
    "sheet_names_list_model"
   ]
  },
  {
   "cell_type": "code",
   "execution_count": null,
   "id": "0f13f942-0cda-49fb-9079-23124fe34544",
   "metadata": {
    "scrolled": true
   },
   "outputs": [],
   "source": [
    "num_PR=1\n",
    "\n",
    "dict_flow_efcat=pd.read_excel(path_mapping,sheet_name='EI_flow_cat',header=None)#,index_col=0,header=None)\n",
    "dict_flow_efcat=dict(dict_flow_efcat.values)\n",
    "\n",
    "dict_unit=pd.read_excel(path_mapping,sheet_name='unit_ei_BW')\n",
    "dict_unit=dict(dict_unit.values)\n",
    "ecoinvent_data=pd.read_excel(path_ei,sheet_name=sheet_ei,header=[0])\n",
    "\n",
    "ei_ef_data=pd.read_excel(path_ei,sheet_name='Elementary Exchanges',header=[0])\n",
    "\n",
    "for sheet in sheet_names_list_model:\n",
    "\n",
    "    data_LCI_PRi_model=pd.read_excel(path_step1,sheet_name='PR'+ str(num_PR) +'_LCI_Modelling',header=[0]) \n",
    "\n",
    "    print( 'The production route is ' + str(sheet))\n",
    "    \n",
    "    \n",
    "    data_LCI_PRi_model_Activity=data_LCI_PRi_model.loc[data_LCI_PRi_model['Ei - Activity name']==data_LCI_PRi_model['Ei - Activity name']]\n",
    "    list_activity=data_LCI_PRi_model_Activity['Ei - Activity name'].drop_duplicates()\n",
    "    \n",
    "    pb=False\n",
    "    \n",
    "    act_fill_later=[]\n",
    "    \n",
    "    prod_later=[]\n",
    "    unit_later=[]\n",
    "    count=0\n",
    "    for activity in list_activity:\n",
    "        #print(fill)\n",
    "        #find the reference product + unit\n",
    "        product_name=ecoinvent_data.loc[ecoinvent_data['Activity Name']==activity].loc[:,'Reference Product Name'].drop_duplicates()\n",
    "        unit=ecoinvent_data.loc[ecoinvent_data['Activity Name']==activity].loc[:,'Unit'].drop_duplicates()\n",
    "        if len(product_name)>1:\n",
    "            count+=1\n",
    "            list_dict_product=list(dict(product_name).values())\n",
    "    \n",
    "            sel_prod=widgets.RadioButtons(\n",
    "                options=list_dict_product,\n",
    "                #    value='pineapple', # Defaults to 'pineapple'\n",
    "                #    layout={'width': 'max-content'}, # If the items' names are long\n",
    "                    description=\"Choose the best option for the activity:\" + str(activity),\n",
    "                    disabled=False,\n",
    "                    layout={'width': 'max-content'}\n",
    "                )\n",
    "    \n",
    "            display(sel_prod)\n",
    "            act_fill_later.append(activity)\n",
    "    \n",
    "            # print(\"error more than 1 product for the activity\")\n",
    "            # break\n",
    "            #prod_later.append(sel_prod.value)\n",
    "        if len(unit)>1:\n",
    "            list_dict_unit=list(dict(unit).values())\n",
    "    \n",
    "            sel_unit=widgets.RadioButtons(\n",
    "                options=list_dict_unit,\n",
    "                #    value='pineapple', # Defaults to 'pineapple'\n",
    "                #    layout={'width': 'max-content'}, # If the items' names are long\n",
    "                    description=\"Choose the best option for the activity:\" + str(activity),\n",
    "                    disabled=False,\n",
    "                    layout={'width': 'max-content'}\n",
    "                )\n",
    "    \n",
    "            display(sel_unit)\n",
    "    \n",
    "            # print(\"error more than 1 product for the activity\")\n",
    "            # break\n",
    "    \n",
    "            \n",
    "            #unit_later.append(sel_unit.value)\n",
    "    \n",
    "            \n",
    "            # Create an instance of tkinter frame or window\n",
    "            #unit=pd.Series(data=radio.get())\n",
    "        if len(product_name)>1:\n",
    "            button = widgets.Button(description = \"Click when good\")\n",
    "            output = widgets.Output()\n",
    "            display(button, output)\n",
    "            \n",
    "            clicked = False\n",
    "            def on_button_clicked(b):\n",
    "                global clicked\n",
    "                clicked = True\n",
    "                with output:\n",
    "                    print(\"button clicked\")\n",
    "            \n",
    "            button.on_click(on_button_clicked)\n",
    "            \n",
    "            with ui_events() as poll:\n",
    "                while not clicked:\n",
    "                    poll(10) # poll queued UI events including button\n",
    "                    time.sleep(1) # wait for 1 second before checking again\n",
    "            \n",
    "            unit_later.append(sel_unit.value)\n",
    "            prod_later.append(sel_prod.value)\n",
    "            print('python waited for the button click')\n",
    "            # _check_id_button=widgets.Button(description='Values selected')\n",
    "    \n",
    "            # display(_check_id_button)\n",
    "            # def _check_id(b):\n",
    "            #     loop = asyncio.get_event_loop()\n",
    "            #     result = loop.run_until_complete(contract.evaluate_transaction('queryUnprotectedEntry', [_id_info.value], user))\n",
    "            #     unit_later.append(sel_unit.value)\n",
    "            #     prod_later.append(sel_prod.value)\n",
    "            # _check_id_button.on_click(_check_id)\n",
    "    \n",
    "                                                 \n",
    "            # btn=widgets.Button(description='Values selected')\n",
    "            # display(btn)\n",
    "            \n",
    "            # def fill(b):\n",
    "            #     unit_later.append(sel_unit.value)\n",
    "            #     prod_later.append(sel_prod.value)\n",
    "            #     print('aaaaaaaa')\n",
    "            \n",
    "            # btn.on_click(fill)\n",
    "        if len(product_name)==1 :\n",
    "            index=data_LCI_PRi_model.loc[data_LCI_PRi_model['Ei - Activity name']==activity].index\n",
    "            #data_LCI_PRi_model.loc[data_LCI_PRi_model['Ei - Activity name']==activity].loc[:,'Ei - Reference product']=product_name\n",
    "            data_LCI_PRi_model.loc[index,'Ei - Reference product']=str(product_name.values[0])\n",
    "            data_LCI_PRi_model.loc[index,'Unit']=dict_unit[str(unit.values[0])]\n",
    "            data=data_LCI_PRi_model.loc[(data_LCI_PRi_model['Ei - Activity name']==activity) & (data_LCI_PRi_model['Ei - Reference product']==str(product_name.values[0]))].loc[:,'Ei - Location']\n",
    "            list_country=ecoinvent_data.loc[(ecoinvent_data['Activity Name']==activity) & (ecoinvent_data['Reference Product Name']==str(product_name.values[0]))].loc[:,'Geography']\n",
    "            # data_LCI_PRi_model.loc[index,'Ei - Reference product']=product_name\n",
    "            # data_LCI_PRi_model.loc[index,'Unit']=unit\n",
    "            # data=data_LCI_PRi_model.loc[(data_LCI_PRi_model['Ei - Activity name']==activity) & (data_LCI_PRi_model['Ei - Reference product']==product_name)].loc[:,'Ei - Location']\n",
    "            # list_country=ecoinvent_data.loc[(ecoinvent_data['Activity Name']==activity) & (ecoinvent_data['Reference Product Name']==product_name)].loc[:,'Geography']\n",
    "            for country in data:\n",
    "                if country not in list_country.values:\n",
    "                    print( 'problem ' + country + ' ' + activity + ' ' + str(product_name.values[0]))\n",
    "                    pb=True\n",
    "\n",
    "    \n",
    "    if act_fill_later != []:\n",
    "        i=0\n",
    "        for activity in act_fill_later:\n",
    "            product_name=prod_later[i]\n",
    "            unit=unit_later[i]\n",
    "            index=data_LCI_PRi_model.loc[data_LCI_PRi_model['Ei - Activity name']==activity].index\n",
    "            data_LCI_PRi_model.loc[index,'Ei - Reference product']=product_name\n",
    "            data_LCI_PRi_model.loc[index,'Unit']=unit\n",
    "            data=data_LCI_PRi_model.loc[(data_LCI_PRi_model['Ei - Activity name']==activity) & (data_LCI_PRi_model['Ei - Reference product']==product_name)].loc[:,'Ei - Location']\n",
    "            list_country=ecoinvent_data.loc[(ecoinvent_data['Activity Name']==activity) & (ecoinvent_data['Reference Product Name']==product_name)].loc[:,'Geography']\n",
    "            i+=1\n",
    "            for country in data:\n",
    "                if country not in list_country.values:\n",
    "                    print( 'problem ' + country + ' ' + activity + ' ' + str(product_name))\n",
    "                    pb=True\n",
    "    \n",
    "    if pb == False:\n",
    "        print ('There is no problem in the country attribution') \n",
    "    \n",
    "    data_LCI_PRi_model_ef=data_LCI_PRi_model.loc[data_LCI_PRi_model['Elementary flow']==data_LCI_PRi_model['Elementary flow']]\n",
    "    list_ef=data_LCI_PRi_model_ef['Elementary flow'].drop_duplicates()\n",
    "\n",
    "    for ef in list_ef:\n",
    "        unit_ef=ei_ef_data.loc[ei_ef_data['Name']==ef].loc[:,'Unit Name'].drop_duplicates() \n",
    "        index_ef=data_LCI_PRi_model.loc[data_LCI_PRi_model['Elementary flow']==ef].index\n",
    "        if len(unit_ef)==1:\n",
    "            data_LCI_PRi_model.loc[index_ef,'Unit']=dict_unit[str(unit_ef.values[0])]\n",
    "\n",
    "    #unit=ecoinvent_data.loc[ecoinvent_data['Activity Name']==activity].loc[:,'Unit'].drop_duplicates()\n",
    "    \n",
    "    for flow_type in dict_flow_efcat:\n",
    "        data_LCI_PRi_model.loc[data_LCI_PRi_model['Classification of flows']==flow_type,'Elementary flow category']=dict_flow_efcat[flow_type]#data_LCI_PRi_model.loc[data_LCI_PRi_model['Classification of flows']==flow_type]['Elementary flow category'].replace(flow\n",
    "    \n",
    "    \n",
    "    if pb ==False:\n",
    "        with pd.ExcelWriter(path_step2,engine='openpyxl',mode='a',if_sheet_exists='replace') as writer:  \n",
    "            data_LCI_PRi_model.to_excel(writer, sheet_name='PR' + str(num_PR) + '_LCI_Modelling',index=False) #MODIFY str(1) if another sheet\n",
    "\n",
    "    num_PR+=1\n"
   ]
  },
  {
   "cell_type": "code",
   "execution_count": 55,
   "id": "1c42b07f-6524-40eb-9183-b09bb1844415",
   "metadata": {},
   "outputs": [
    {
     "data": {
      "text/plain": [
       "0"
      ]
     },
     "execution_count": 55,
     "metadata": {},
     "output_type": "execute_result"
    }
   ],
   "source": [
    "data_LCI_PRi_model_ef=data_LCI_PRi_model.loc[data_LCI_PRi_model['Elementary flow']==data_LCI_PRi_model['Elementary flow']]\n",
    "list_ef=data_LCI_PRi_model_ef['Elementary flow'].drop_duplicates()\n",
    "\n",
    "    # for ef in list_ef:\n",
    "    #     unit_ef=ei_ef_data.loc[ei_ef_data['Name']==ef].loc[:,'Unit Name'].drop_duplicates() \n",
    "    #     index_ef=data_LCI_PRi_model.loc[data_LCI_PRi_model['Elementary flow']==ef].index\n",
    "    #     data_LCI_PRi_model.loc[index_ef,'Unit']=dict_unit[str(unit_ef.values[0])]\n",
    "\n",
    "len(unit_ef)"
   ]
  },
  {
   "cell_type": "markdown",
   "id": "7d3ce6b9-d67a-469f-a88e-4c11741681d5",
   "metadata": {},
   "source": [
    "#  MANUAL fill the modelling step 2 file\n",
    "\n",
    "File the values column (check the unit and the reference flow for the LCA)\n",
    "\n",
    "for elementary flow fill the subcompartement where it is needed"
   ]
  },
  {
   "cell_type": "markdown",
   "id": "3111c5f9-f895-4322-bf22-b80b588cc660",
   "metadata": {},
   "source": [
    " # Code: From blue to BW format\n",
    "\n",
    " Comme avant ne fonctionne que pour PR1, si besoin changer sheet_name (à modifier)"
   ]
  },
  {
   "cell_type": "code",
   "execution_count": 39,
   "id": "3461dc89-c0fd-483b-898f-395650e7c6de",
   "metadata": {},
   "outputs": [
    {
     "name": "stdout",
     "output_type": "stream",
     "text": [
      "The production route isPR1_LCI_Modelling\n"
     ]
    },
    {
     "data": {
      "application/vnd.jupyter.widget-view+json": {
       "model_id": "c613e36d593c4ec2b3935425aaf7b743",
       "version_major": 2,
       "version_minor": 0
      },
      "text/plain": [
       "Text(value='', description='Activity name')"
      ]
     },
     "metadata": {},
     "output_type": "display_data"
    },
    {
     "data": {
      "application/vnd.jupyter.widget-view+json": {
       "model_id": "223e4b344bb34dd380abe7e7bbf7d221",
       "version_major": 2,
       "version_minor": 0
      },
      "text/plain": [
       "Text(value='', description='Reference product')"
      ]
     },
     "metadata": {},
     "output_type": "display_data"
    },
    {
     "data": {
      "application/vnd.jupyter.widget-view+json": {
       "model_id": "655e8b31a0b44716a711c47f20cc45bd",
       "version_major": 2,
       "version_minor": 0
      },
      "text/plain": [
       "Text(value='', description='Location')"
      ]
     },
     "metadata": {},
     "output_type": "display_data"
    },
    {
     "data": {
      "application/vnd.jupyter.widget-view+json": {
       "model_id": "578aa275e4c946418527d9060bac92a1",
       "version_major": 2,
       "version_minor": 0
      },
      "text/plain": [
       "Text(value='', description='Amount')"
      ]
     },
     "metadata": {},
     "output_type": "display_data"
    },
    {
     "data": {
      "application/vnd.jupyter.widget-view+json": {
       "model_id": "e935da8454c348f1b99028be9fa64db6",
       "version_major": 2,
       "version_minor": 0
      },
      "text/plain": [
       "Dropdown(description='Unit', options=('cubic meter', 'kilogram', 'kilowatt hour', 'megajoule', 'unit', 'ton ki…"
      ]
     },
     "metadata": {},
     "output_type": "display_data"
    },
    {
     "data": {
      "application/vnd.jupyter.widget-view+json": {
       "model_id": "07d5886b3fe44776b0844184766f5ef4",
       "version_major": 2,
       "version_minor": 0
      },
      "text/plain": [
       "Text(value='', description='Comment')"
      ]
     },
     "metadata": {},
     "output_type": "display_data"
    },
    {
     "data": {
      "application/vnd.jupyter.widget-view+json": {
       "model_id": "37b5d4c047054b0fa09e50b4c98cccca",
       "version_major": 2,
       "version_minor": 0
      },
      "text/plain": [
       "Text(value='', description='Exchanges')"
      ]
     },
     "metadata": {},
     "output_type": "display_data"
    },
    {
     "data": {
      "application/vnd.jupyter.widget-view+json": {
       "model_id": "cbcc11f3e05e4c3b9b563d2cb4ea244e",
       "version_major": 2,
       "version_minor": 0
      },
      "text/plain": [
       "VBox(children=(Checkbox(value=False, description='W ore mining'), Checkbox(value=False, description='W concent…"
      ]
     },
     "metadata": {},
     "output_type": "display_data"
    },
    {
     "data": {
      "application/vnd.jupyter.widget-view+json": {
       "model_id": "63663d7740a44c5582a1103f685bb9d4",
       "version_major": 2,
       "version_minor": 0
      },
      "text/plain": [
       "Checkbox(value=False, description='If it is the last operation')"
      ]
     },
     "metadata": {},
     "output_type": "display_data"
    },
    {
     "data": {
      "application/vnd.jupyter.widget-view+json": {
       "model_id": "954a7a515ca54b6d9d035528f1cf6798",
       "version_major": 2,
       "version_minor": 0
      },
      "text/plain": [
       "Button(description='Click when good', style=ButtonStyle())"
      ]
     },
     "metadata": {},
     "output_type": "display_data"
    },
    {
     "data": {
      "application/vnd.jupyter.widget-view+json": {
       "model_id": "3f992c59eb2640149d5cfefbd9e49ece",
       "version_major": 2,
       "version_minor": 0
      },
      "text/plain": [
       "Output()"
      ]
     },
     "metadata": {},
     "output_type": "display_data"
    },
    {
     "name": "stdout",
     "output_type": "stream",
     "text": [
      "python waited for the button click\n",
      "The production route isPR2_LCI_Modelling\n"
     ]
    },
    {
     "data": {
      "application/vnd.jupyter.widget-view+json": {
       "model_id": "0c6f6ff0c00449fcbdd8e3493ffc6d68",
       "version_major": 2,
       "version_minor": 0
      },
      "text/plain": [
       "Text(value='', description='Activity name')"
      ]
     },
     "metadata": {},
     "output_type": "display_data"
    },
    {
     "data": {
      "application/vnd.jupyter.widget-view+json": {
       "model_id": "43b38b1c63d04444acaeb08496a79c5c",
       "version_major": 2,
       "version_minor": 0
      },
      "text/plain": [
       "Text(value='', description='Reference product')"
      ]
     },
     "metadata": {},
     "output_type": "display_data"
    },
    {
     "data": {
      "application/vnd.jupyter.widget-view+json": {
       "model_id": "ae6fb8169670439bbf4f6f9e00545f7c",
       "version_major": 2,
       "version_minor": 0
      },
      "text/plain": [
       "Text(value='', description='Location')"
      ]
     },
     "metadata": {},
     "output_type": "display_data"
    },
    {
     "data": {
      "application/vnd.jupyter.widget-view+json": {
       "model_id": "92055c959899405ea1063bb1c7d94228",
       "version_major": 2,
       "version_minor": 0
      },
      "text/plain": [
       "Text(value='', description='Amount')"
      ]
     },
     "metadata": {},
     "output_type": "display_data"
    },
    {
     "data": {
      "application/vnd.jupyter.widget-view+json": {
       "model_id": "2cb1cdb6286e4052b503027ac145cc88",
       "version_major": 2,
       "version_minor": 0
      },
      "text/plain": [
       "Dropdown(description='Unit', options=('cubic meter', 'kilogram', 'kilowatt hour', 'megajoule', 'unit', 'ton ki…"
      ]
     },
     "metadata": {},
     "output_type": "display_data"
    },
    {
     "data": {
      "application/vnd.jupyter.widget-view+json": {
       "model_id": "2f3ee366ebf34263be294e5de049851c",
       "version_major": 2,
       "version_minor": 0
      },
      "text/plain": [
       "Text(value='', description='Comment')"
      ]
     },
     "metadata": {},
     "output_type": "display_data"
    },
    {
     "data": {
      "application/vnd.jupyter.widget-view+json": {
       "model_id": "62144ec71f5d40119677563bbbdbed27",
       "version_major": 2,
       "version_minor": 0
      },
      "text/plain": [
       "Text(value='', description='Exchanges')"
      ]
     },
     "metadata": {},
     "output_type": "display_data"
    },
    {
     "data": {
      "application/vnd.jupyter.widget-view+json": {
       "model_id": "8a8a655c501a4e95ab26d26f0dd2d815",
       "version_major": 2,
       "version_minor": 0
      },
      "text/plain": [
       "VBox(children=(Checkbox(value=False, description='Mining'), Checkbox(value=False, description='Transport'), Ch…"
      ]
     },
     "metadata": {},
     "output_type": "display_data"
    },
    {
     "data": {
      "application/vnd.jupyter.widget-view+json": {
       "model_id": "c045fb1db9e14f89adef866a6dc7597f",
       "version_major": 2,
       "version_minor": 0
      },
      "text/plain": [
       "Checkbox(value=False, description='If it is the last operation')"
      ]
     },
     "metadata": {},
     "output_type": "display_data"
    },
    {
     "data": {
      "application/vnd.jupyter.widget-view+json": {
       "model_id": "a83adbb5f9be4c9d910ef0848f94277b",
       "version_major": 2,
       "version_minor": 0
      },
      "text/plain": [
       "Button(description='Click when good', style=ButtonStyle())"
      ]
     },
     "metadata": {},
     "output_type": "display_data"
    },
    {
     "data": {
      "application/vnd.jupyter.widget-view+json": {
       "model_id": "e335765a7a5a4749888fc26d835f9184",
       "version_major": 2,
       "version_minor": 0
      },
      "text/plain": [
       "Output()"
      ]
     },
     "metadata": {},
     "output_type": "display_data"
    },
    {
     "name": "stdout",
     "output_type": "stream",
     "text": [
      "python waited for the button click\n",
      "The production route isPR3_LCI_Modelling\n"
     ]
    },
    {
     "data": {
      "application/vnd.jupyter.widget-view+json": {
       "model_id": "057097ce78fc4b988f5e781e416348e5",
       "version_major": 2,
       "version_minor": 0
      },
      "text/plain": [
       "Text(value='', description='Activity name')"
      ]
     },
     "metadata": {},
     "output_type": "display_data"
    },
    {
     "data": {
      "application/vnd.jupyter.widget-view+json": {
       "model_id": "a3dc6075cac44ed9a24875fbf1a40fba",
       "version_major": 2,
       "version_minor": 0
      },
      "text/plain": [
       "Text(value='', description='Reference product')"
      ]
     },
     "metadata": {},
     "output_type": "display_data"
    },
    {
     "data": {
      "application/vnd.jupyter.widget-view+json": {
       "model_id": "7aa239e18d424f11aeb67efc86de0ddc",
       "version_major": 2,
       "version_minor": 0
      },
      "text/plain": [
       "Text(value='', description='Location')"
      ]
     },
     "metadata": {},
     "output_type": "display_data"
    },
    {
     "data": {
      "application/vnd.jupyter.widget-view+json": {
       "model_id": "aa0b2b78f2b74fabb4ed620a8bbb04c4",
       "version_major": 2,
       "version_minor": 0
      },
      "text/plain": [
       "Text(value='', description='Amount')"
      ]
     },
     "metadata": {},
     "output_type": "display_data"
    },
    {
     "data": {
      "application/vnd.jupyter.widget-view+json": {
       "model_id": "f84d2a9f0ac146c4ae230f23416239e4",
       "version_major": 2,
       "version_minor": 0
      },
      "text/plain": [
       "Dropdown(description='Unit', options=('cubic meter', 'kilogram', 'kilowatt hour', 'megajoule', 'unit', 'ton ki…"
      ]
     },
     "metadata": {},
     "output_type": "display_data"
    },
    {
     "data": {
      "application/vnd.jupyter.widget-view+json": {
       "model_id": "5343623c196c4a46aee55a1545c4ce7f",
       "version_major": 2,
       "version_minor": 0
      },
      "text/plain": [
       "Text(value='', description='Comment')"
      ]
     },
     "metadata": {},
     "output_type": "display_data"
    },
    {
     "data": {
      "application/vnd.jupyter.widget-view+json": {
       "model_id": "a9c3a9b52ee244b08a63cd198692526b",
       "version_major": 2,
       "version_minor": 0
      },
      "text/plain": [
       "Text(value='', description='Exchanges')"
      ]
     },
     "metadata": {},
     "output_type": "display_data"
    },
    {
     "data": {
      "application/vnd.jupyter.widget-view+json": {
       "model_id": "67f0caa5dd4147a2b10b67173627bc63",
       "version_major": 2,
       "version_minor": 0
      },
      "text/plain": [
       "VBox(children=(Checkbox(value=False, description='Oxidation'), Checkbox(value=False, description='Alkali leach…"
      ]
     },
     "metadata": {},
     "output_type": "display_data"
    },
    {
     "data": {
      "application/vnd.jupyter.widget-view+json": {
       "model_id": "e047f43dc1d0451692c3a28b59860849",
       "version_major": 2,
       "version_minor": 0
      },
      "text/plain": [
       "Checkbox(value=False, description='If it is the last operation')"
      ]
     },
     "metadata": {},
     "output_type": "display_data"
    },
    {
     "data": {
      "application/vnd.jupyter.widget-view+json": {
       "model_id": "8503061b9dfc4303a1a6ad3a05c59444",
       "version_major": 2,
       "version_minor": 0
      },
      "text/plain": [
       "Button(description='Click when good', style=ButtonStyle())"
      ]
     },
     "metadata": {},
     "output_type": "display_data"
    },
    {
     "data": {
      "application/vnd.jupyter.widget-view+json": {
       "model_id": "901ff8d95cec4b40bd6a84f753810471",
       "version_major": 2,
       "version_minor": 0
      },
      "text/plain": [
       "Output()"
      ]
     },
     "metadata": {},
     "output_type": "display_data"
    },
    {
     "name": "stdout",
     "output_type": "stream",
     "text": [
      "python waited for the button click\n"
     ]
    }
   ],
   "source": [
    "num_PR=1\n",
    "\n",
    "\n",
    "for sheet in sheet_names_list_model:\n",
    "\n",
    "\n",
    "    data_activity_blue=pd.read_excel(path_step2,sheet_name='PR'+ str(num_PR) +'_LCI_Modelling') \n",
    "    \n",
    "    print( 'The production route is' + str(sheet))\n",
    "\n",
    "    \n",
    "    unit_ope_list=list(data_activity_blue.loc[:,'Associated unit operation\\n(as reported by the authors)'].drop_duplicates().apply(str))\n",
    "    \n",
    "    lines_name_BW=[\"Activity\", \"reference product\", \"location\", \"amount\", \"unit\", \"comment\", \"Exchanges\"]\n",
    "    last_ope=False\n",
    "    \n",
    "    columns_name_BW=[\"name\", \"reference product\",\t\"location\",\t\"amount\",\t\"unit\",\t\"database\",\t\"type\",\t\"categories\",\t\"uncertainty type\",\n",
    "                     \"loc\",\t\"scale\", \"minimum\", \"maximum\"]\n",
    "    \n",
    "    start_row=0\n",
    "    \n",
    "    while last_ope!=True:\n",
    "    \n",
    "        activity=widgets.Text(value='', disabled=False,description='Activity name') # Value saved here\n",
    "        ref_prod=widgets.Text(value='', disabled=False,description='Reference product')\n",
    "        location=widgets.Text(value='', disabled=False,description='Location')\n",
    "        amount=widgets.Text(value='', disabled=False,description='Amount')\n",
    "        unit=widgets.Dropdown(options=list(dict_unit.values()),description='Unit',disabled=False)\n",
    "        #widgets.Text(value='', disabled=False ,description='Unit')\n",
    "        comment=widgets.Text(value='', disabled=False ,description='Comment')\n",
    "        exchanges=widgets.Text(value='', disabled=False ,description='Exchanges')\n",
    "    \n",
    "        display(activity)\n",
    "        display(ref_prod)\n",
    "        display(location)\n",
    "        display(amount)\n",
    "        display(unit)\n",
    "        display(comment)\n",
    "        display(exchanges)\n",
    "    \n",
    "    \n",
    "    \n",
    "        checkboxes = [widgets.Checkbox(value=False, description=label) for label in unit_ope_list]\n",
    "        output = widgets.VBox(children=checkboxes)\n",
    "        display(output)\n",
    "    \n",
    "    \n",
    "        var1=widgets.Checkbox(\n",
    "            value=False,\n",
    "            description='If it is the last operation',\n",
    "            disabled=False,\n",
    "            indent=True)\n",
    "    \n",
    "        display(var1)\n",
    "    \n",
    "    \n",
    "        button = widgets.Button(description = \"Click when good\")\n",
    "        output = widgets.Output()\n",
    "        display(button, output)\n",
    "            \n",
    "        clicked = False\n",
    "        def on_button_clicked(b):\n",
    "            global clicked\n",
    "            clicked = True\n",
    "            with output:\n",
    "                print(\"button clicked\")\n",
    "            \n",
    "        button.on_click(on_button_clicked)\n",
    "            \n",
    "        with ui_events() as poll:\n",
    "            while not clicked:\n",
    "                poll(10) # poll queued UI events including button\n",
    "                time.sleep(1) # wait for 1 second before checking again\n",
    "            \n",
    "    \n",
    "            print('python waited for the button click')\n",
    "        \n",
    "       \n",
    "        \n",
    "        n=len(unit_ope_list)\n",
    "\n",
    "        \n",
    "        act=activity.value\n",
    "        ref=ref_prod.value\n",
    "        loc=location.value\n",
    "        amount_val=amount.value\n",
    "        unit_val=unit.value\n",
    "        com=comment.value\n",
    "        ex=exchanges.value\n",
    "        \n",
    "        last_ope=var1.value\n",
    "        \n",
    "        list_ope= []\n",
    "        for i in range(0, len(checkboxes)):\n",
    "            if checkboxes[i].value == True:\n",
    "                list_ope = list_ope + [checkboxes[i].description]\n",
    "    \n",
    "        \n",
    "        df = pd.DataFrame(lines_name_BW)\n",
    "        df['col2']=[act,ref,loc,amount_val,unit_val,com, ex]\n",
    "        df=df.rename(columns=df.iloc[0])\n",
    "        df=df.drop(df.index[0])\n",
    "    \n",
    "        with pd.ExcelWriter(path_step3,engine='openpyxl',mode='a',if_sheet_exists='overlay') as writer:  \n",
    "            df.to_excel(writer, sheet_name='PR' + str(num_PR) + '_LCI_BW',index=False,header=True,startrow=start_row)#A MODIFIER SI AUTRE PR\n",
    "    \n",
    "    \n",
    "    \n",
    "            #writer.save()\n",
    "        start_row+=7\n",
    "    \n",
    "        # list_ope=[]\n",
    "        # for el in boxes: #to have the list of operation unit for this activity\n",
    "        #     if el[1].get()==1:\n",
    "        #         list_ope.append(el[0])\n",
    "    \n",
    "        #add first inventory\n",
    "        \n",
    "        #data_activity=pd.read_excel(path_LCI_BW,header=None,index_col=0)\n",
    "        \n",
    "        line1=[act,ref,loc,amount_val,unit_val, '', 'production', '' ,'','','','','']\n",
    "        data_LCI_activity_BW=pd.DataFrame(data=[line1],columns=columns_name_BW)\n",
    "        \n",
    "        \n",
    "        data_selected=data_activity_blue.loc[data_activity_blue['Associated unit operation\\n(as reported by the authors)'].isin(list_ope)].copy() # pour selectionner les lines qui ont les étapes demandées \n",
    "        #data_activity_blue\n",
    "        col_need_BW_activity=['Ei - Activity name','Ei - Reference product', 'Ei - Location', \"modified value allocated flow\",'Unit']\n",
    "        data_activity_ei_selec=data_selected.loc[:,col_need_BW_activity].dropna(subset=['Ei - Activity name']).reset_index(drop=True).copy()\n",
    "        \n",
    "        data_activity_ei_selec.columns=[\"name\", \"reference product\",\t\"location\",\t\"amount\",\t\"unit\"]\n",
    "        data_activity_BW=pd.DataFrame(data=data_activity_ei_selec,columns=columns_name_BW)\n",
    "        data_activity_BW['database']='ecoinvent 3.9.1 cutoff'\n",
    "        data_activity_BW['type']='technosphere'\n",
    "        \n",
    "        col_need_BW_flow=['Elementary flow','Elementary flow category', 'Ei - Location', \"modified value allocated flow\",'Unit']\n",
    "        #!! need to change elementary flow category with :: and sub category\n",
    "        data_flow_selec=data_selected.loc[:,col_need_BW_flow].dropna(subset=['Elementary flow']).reset_index(drop=True).copy()\n",
    "        data_flow_selec.columns=[\"name\", \"categories\",\t\"location\",\t\"amount\",\t\"unit\"]\n",
    "        \n",
    "        data_flow_BW=pd.DataFrame(data=data_flow_selec,columns=columns_name_BW)\n",
    "        data_flow_BW['database']='biosphere3'\n",
    "        data_flow_BW['type']='biosphere'\n",
    "        \n",
    "        all_pd=[data_LCI_activity_BW,data_activity_BW,data_flow_BW]\n",
    "        data_BW=pd.concat(all_pd,ignore_index=True)\n",
    "    \n",
    "        with pd.ExcelWriter(path_step3,engine='openpyxl',mode='a',if_sheet_exists='overlay') as writer:  #, engine='xlsxwriter'\n",
    "           data_BW.to_excel(writer, sheet_name='PR' + str(num_PR) + '_LCI_BW',index=False,startrow=start_row)#A MODIFIER SI AUTRE PR\n",
    "    \n",
    "    \n",
    "    \n",
    "    \n",
    "        start_row=start_row+len(data_BW)+2\n",
    "    \n",
    "        if last_ope==1:    \n",
    "            last_ope= True\n",
    "\n",
    "\n",
    "    num_PR+=1\n"
   ]
  },
  {
   "cell_type": "markdown",
   "id": "06bf0a39-2462-46b2-b9e9-1235052d1096",
   "metadata": {},
   "source": [
    "# END"
   ]
  },
  {
   "cell_type": "code",
   "execution_count": null,
   "id": "348aa765-5c95-4682-9a8d-f9d09997a4be",
   "metadata": {},
   "outputs": [],
   "source": []
  },
  {
   "cell_type": "code",
   "execution_count": null,
   "id": "b44a8b92-e4ce-4cce-ab4f-10589e9e13cf",
   "metadata": {},
   "outputs": [],
   "source": []
  },
  {
   "cell_type": "code",
   "execution_count": null,
   "id": "aa0c001c-df13-4811-a522-0e2f51310e6f",
   "metadata": {},
   "outputs": [],
   "source": []
  },
  {
   "cell_type": "code",
   "execution_count": null,
   "id": "3d136e2d-c501-48d4-92e0-4f2c8835d28e",
   "metadata": {},
   "outputs": [],
   "source": []
  },
  {
   "cell_type": "code",
   "execution_count": null,
   "id": "e7ca9950-2d06-47f7-9fff-9293f673429e",
   "metadata": {},
   "outputs": [],
   "source": []
  },
  {
   "cell_type": "code",
   "execution_count": null,
   "id": "342de713-92b5-48de-8f5b-96789db351ec",
   "metadata": {},
   "outputs": [],
   "source": []
  },
  {
   "cell_type": "code",
   "execution_count": null,
   "id": "fefe3aa3-cb1b-41c2-8714-d5d50db3f007",
   "metadata": {},
   "outputs": [],
   "source": []
  },
  {
   "cell_type": "code",
   "execution_count": null,
   "id": "96e0f0f6-7690-4a93-8a1b-209aeabf23c9",
   "metadata": {},
   "outputs": [],
   "source": []
  },
  {
   "cell_type": "code",
   "execution_count": null,
   "id": "75584158-f135-4b91-bb80-4266877f094f",
   "metadata": {},
   "outputs": [],
   "source": []
  },
  {
   "cell_type": "code",
   "execution_count": null,
   "id": "4b81045f-734d-403c-b39d-620495344793",
   "metadata": {},
   "outputs": [],
   "source": []
  },
  {
   "cell_type": "code",
   "execution_count": null,
   "id": "604ada6c-e80d-4a9f-a628-44b1a012e02f",
   "metadata": {},
   "outputs": [],
   "source": []
  },
  {
   "cell_type": "code",
   "execution_count": null,
   "id": "31022322-7544-43e2-af1f-99874baf82a2",
   "metadata": {},
   "outputs": [],
   "source": []
  },
  {
   "cell_type": "code",
   "execution_count": null,
   "id": "047f764c-1765-4fb0-9b18-5ca3d008c600",
   "metadata": {},
   "outputs": [],
   "source": []
  },
  {
   "cell_type": "code",
   "execution_count": 45,
   "id": "6c104755-4a5c-4a3a-be03-026bcc815c2c",
   "metadata": {},
   "outputs": [],
   "source": [
    "lines_name_BW=[\"Activity\", \"reference product\", \"location\", \"amount\", \"unit\", \"comment\", \"Exchanges\"]\n",
    "\n",
    "win = Tk()\n",
    "win.geometry(\"500x350\")\n",
    "\n",
    "activity=StringVar() # Value saved here\n",
    "ref_prod=StringVar()\n",
    "location=StringVar()\n",
    "amount=StringVar()\n",
    "unit=StringVar()\n",
    "comment=StringVar()\n",
    "exchanges=StringVar()\n",
    "\n",
    "n=len(unit_ope_list)\n",
    "# #for j in range(n):\n",
    "var1=IntVar()\n",
    "# var2=IntVar()\n",
    "\n",
    "def search(variable):\n",
    "  #print(variable.get())\n",
    "  return (variable.get())\n",
    "\n",
    "i=1\n",
    "Entry(win, width=7, textvariable=activity).grid(column=2, row=i)\n",
    "Label(win, text=lines_name_BW[i-1]).grid(column=1, row=i)\n",
    "i+=1\n",
    "Entry(win, width=7, textvariable=ref_prod).grid(column=2, row=i)\n",
    "Label(win, text=lines_name_BW[i-1]).grid(column=1, row=i)\n",
    "i+=1\n",
    "Entry(win, width=7, textvariable=location).grid(column=2, row=i)\n",
    "Label(win, text=lines_name_BW[i-1]).grid(column=1, row=i)\n",
    "i+=1\n",
    "Entry(win, width=7, textvariable=amount).grid(column=2, row=i)\n",
    "Label(win, text=lines_name_BW[i-1]).grid(column=1, row=i)\n",
    "i+=1\n",
    "Entry(win, width=7, textvariable=unit).grid(column=2, row=i)\n",
    "Label(win, text=lines_name_BW[i-1]).grid(column=1, row=i)\n",
    "i+=1\n",
    "Entry(win, width=7, textvariable=comment).grid(column=2, row=i)\n",
    "Label(win, text=lines_name_BW[i-1]).grid(column=1, row=i)\n",
    "i+=1\n",
    "Entry(win, width=7, textvariable=exchanges).grid(column=2, row=i)\n",
    "Label(win, text=lines_name_BW[i-1]).grid(column=1, row=i)\n",
    "i+=1\n",
    "\n",
    "boxes=[]\n",
    "for text,value in enumerate(unit_ope_list):\n",
    "    var = IntVar()\n",
    "    Checkbutton(win,text=value,variable=var).grid(column=2, row=i)\n",
    "    i+=1\n",
    "    boxes.append([value.strip(),var])\n",
    "# Checkbutton(win, text=unit_ope_list[0],variable=var1, onvalue=1, offvalue=0).grid(column=2, row=i)\n",
    "# i+=1\n",
    "Checkbutton(win, text=\"Is it the last unit operation?\",variable=var1).grid(column=2, row=i)\n",
    "\n",
    "#a continuer à faire pour tous les cas\n",
    "\n",
    "Button(win, text=\"Search\", command=win.destroy).grid(column=2, row=i+4) #search(activity)\n",
    "\n",
    "win.mainloop()\n",
    "\n",
    "act=activity.get()\n",
    "ref=ref_prod.get()\n",
    "loc=location.get()\n",
    "amount_val=amount.get()\n",
    "unit_val=unit.get()\n",
    "com=comment.get()\n",
    "ex=exchanges.get()\n",
    "\n",
    "last_ope=var1.get()"
   ]
  },
  {
   "cell_type": "code",
   "execution_count": 42,
   "id": "d0ab49da-c364-4e28-863d-1add1ed1c464",
   "metadata": {},
   "outputs": [
    {
     "data": {
      "text/plain": [
       "1"
      ]
     },
     "execution_count": 42,
     "metadata": {},
     "output_type": "execute_result"
    }
   ],
   "source": [
    "var1.get()"
   ]
  },
  {
   "cell_type": "code",
   "execution_count": 97,
   "id": "a29b7a51-56c1-4645-9ab1-e6cd15b0a661",
   "metadata": {},
   "outputs": [
    {
     "name": "stdout",
     "output_type": "stream",
     "text": [
      "zzzzzzz\n"
     ]
    },
    {
     "data": {
      "text/plain": [
       "'zzzzzzz'"
      ]
     },
     "execution_count": 97,
     "metadata": {},
     "output_type": "execute_result"
    }
   ],
   "source": [
    "win = Tk()\n",
    "win.geometry(\"1000x350\")\n",
    "variable1=StringVar() # Value saved here\n",
    "\n",
    "def search():\n",
    "  print(variable1.get())\n",
    "  return (variable1.get())\n",
    "\n",
    "Entry(win, width=7, textvariable=variable1).grid(column=2, row=1)\n",
    "Label(win, text=\"label\").grid(column=1, row=1)\n",
    "\n",
    "Button(win, text=\"Search\", command=search).grid(column=2, row=13)\n",
    "\n",
    "win.mainloop()\n",
    "variable1.get()"
   ]
  },
  {
   "cell_type": "code",
   "execution_count": 98,
   "id": "bccd07de-5a19-420a-a275-2351f68b27e7",
   "metadata": {},
   "outputs": [
    {
     "data": {
      "text/plain": [
       "'zzzzzzz'"
      ]
     },
     "execution_count": 98,
     "metadata": {},
     "output_type": "execute_result"
    }
   ],
   "source": [
    "variable1.get()"
   ]
  },
  {
   "cell_type": "code",
   "execution_count": 86,
   "id": "763cf2bb-1056-452b-8617-b07282d6d7eb",
   "metadata": {},
   "outputs": [
    {
     "name": "stdout",
     "output_type": "stream",
     "text": [
      "reference product\n"
     ]
    },
    {
     "ename": "AttributeError",
     "evalue": "'NoneType' object has no attribute 'get'",
     "output_type": "error",
     "traceback": [
      "\u001b[1;31m---------------------------------------------------------------------------\u001b[0m",
      "\u001b[1;31mAttributeError\u001b[0m                            Traceback (most recent call last)",
      "Cell \u001b[1;32mIn[86], line 13\u001b[0m\n\u001b[0;32m     11\u001b[0m     Label(win, text\u001b[38;5;241m=\u001b[39mname)\u001b[38;5;241m.\u001b[39mgrid(column\u001b[38;5;241m=\u001b[39m\u001b[38;5;241m1\u001b[39m, row\u001b[38;5;241m=\u001b[39mi)\n\u001b[0;32m     12\u001b[0m     \u001b[38;5;66;03m#entry.pack()\u001b[39;00m\n\u001b[1;32m---> 13\u001b[0m     entries\u001b[38;5;241m.\u001b[39mappend(\u001b[43ment\u001b[49m\u001b[38;5;241;43m.\u001b[39;49m\u001b[43mget\u001b[49m())\n\u001b[0;32m     14\u001b[0m     i\u001b[38;5;241m+\u001b[39m\u001b[38;5;241m=\u001b[39m\u001b[38;5;241m1\u001b[39m\n\u001b[0;32m     17\u001b[0m \u001b[38;5;66;03m#Label(win, text=\"label\")\u001b[39;00m\n",
      "\u001b[1;31mAttributeError\u001b[0m: 'NoneType' object has no attribute 'get'"
     ]
    }
   ],
   "source": [
    "lines_name_BW=[ \"reference product\", \"location\", \"amount\", \"unit\", \"comment\", \"Exchanges\"]\n",
    "\n",
    "win = Tk()\n",
    "win.geometry(\"1000x350\")\n",
    "\n",
    "i=1\n",
    "entries=[]\n",
    "for name in lines_name_BW:\n",
    "    print(name)\n",
    "    ent=Entry(win,textvariable=StringVar()).grid(column=2, row=i)\n",
    "    Label(win, text=name).grid(column=1, row=i)\n",
    "    #entry.pack()\n",
    "    entries.append(ent.get())\n",
    "    i+=1\n",
    "\n",
    "\n",
    "#Label(win, text=\"label\")\n",
    "Button(win, text=\"Search\", command=win.destroy).grid(column=2, row=i)\n",
    "\n",
    "win.mainloop()"
   ]
  },
  {
   "cell_type": "code",
   "execution_count": 83,
   "id": "970be3ab-0197-43ba-bb86-aae8ed6c6ac6",
   "metadata": {},
   "outputs": [
    {
     "data": {
      "text/plain": [
       "[None, None, None, None, None, None]"
      ]
     },
     "execution_count": 83,
     "metadata": {},
     "output_type": "execute_result"
    }
   ],
   "source": [
    "entries"
   ]
  },
  {
   "cell_type": "code",
   "execution_count": 84,
   "id": "54a16a1b-5fa7-45ec-8000-69bbb265d3a5",
   "metadata": {},
   "outputs": [
    {
     "ename": "AttributeError",
     "evalue": "'NoneType' object has no attribute 'get'",
     "output_type": "error",
     "traceback": [
      "\u001b[1;31m---------------------------------------------------------------------------\u001b[0m",
      "\u001b[1;31mAttributeError\u001b[0m                            Traceback (most recent call last)",
      "Cell \u001b[1;32mIn[84], line 3\u001b[0m\n\u001b[0;32m      1\u001b[0m contents\u001b[38;5;241m=\u001b[39m[]\n\u001b[0;32m      2\u001b[0m \u001b[38;5;28;01mfor\u001b[39;00m e \u001b[38;5;129;01min\u001b[39;00m entries:\n\u001b[1;32m----> 3\u001b[0m     contents\u001b[38;5;241m.\u001b[39mappend(\u001b[43me\u001b[49m\u001b[38;5;241;43m.\u001b[39;49m\u001b[43mget\u001b[49m())\n\u001b[0;32m      5\u001b[0m contents\n",
      "\u001b[1;31mAttributeError\u001b[0m: 'NoneType' object has no attribute 'get'"
     ]
    }
   ],
   "source": [
    "contents=[]\n",
    "for e in entries:\n",
    "    contents.append(e.get())\n",
    "\n",
    "contents"
   ]
  },
  {
   "cell_type": "code",
   "execution_count": 35,
   "id": "1c1157f3-0f61-4d75-a897-be266d4531c4",
   "metadata": {},
   "outputs": [
    {
     "name": "stdout",
     "output_type": "stream",
     "text": [
      "W ore mining\n",
      "W concentration\n",
      "W ore mining + W concentration\n",
      "APT production\n",
      "WC production\n"
     ]
    },
    {
     "data": {
      "text/plain": [
       "0    \n",
       "dtype: object"
      ]
     },
     "execution_count": 35,
     "metadata": {},
     "output_type": "execute_result"
    }
   ],
   "source": [
    "#to chose the unit operation need for each activity model in BW format\n",
    "\n",
    "list_dict_ope=data_activity_blue.loc[:,'Associated unit operation\\n(as reported by the authors)'].drop_duplicates()\n",
    "# Create an instance of tkinter frame or window\n",
    "win = Tk()\n",
    "\n",
    "# Set the size of the window\n",
    "win.geometry(\"1000x350\")\n",
    "\n",
    "# Define a function to get the output for selected option\n",
    "def selection():\n",
    "   selected = \"You selected the option \" + str(radio.get())\n",
    "   label.config(text=selected)\n",
    "\n",
    "radio = StringVar()\n",
    "Label(text=\"Choose all the unit operation need for this activity:\", font=('Aerial 14')).pack()\n",
    "\n",
    "\n",
    "for (text, value) in list_dict_ope.items(): \n",
    "    print(value)\n",
    "    Checkbutton(win, text = value, variable = radio, onvalue=1, offvalue=0,command=selection).pack(side = TOP, ipady = 5) \n",
    "# Define a label widget\n",
    "label = Label(win)\n",
    "label.pack(pady=20)\n",
    "\n",
    "exit_button = Button(win, text=\"Exit\", command=win.destroy) \n",
    "exit_button.pack(pady=40) \n",
    "\n",
    "win.mainloop()\n",
    "# print(\"error more than 1 product for the activity\")\n",
    "# break\n",
    "product_name=pd.Series(data=radio.get())\n",
    "\n",
    "product_name"
   ]
  },
  {
   "cell_type": "code",
   "execution_count": 27,
   "id": "e5eae1ad-17f3-4bef-977c-0b916c75a746",
   "metadata": {},
   "outputs": [],
   "source": [
    "#lines 1 to 7\n",
    "lines_name_BW=[ \"reference product\", \"location\", \"amount\", \"unit\", \"comment\", \"Exchanges\"]\n",
    "df = pd.DataFrame({'Activity':lines_name_BW})\n",
    "\n",
    "with pd.ExcelWriter('C:/Users/philippea/Desktop/Python/Impmet/LCI_modelling_step3_BW.xlsx',mode='w') as writer:  \n",
    "    df.to_excel(writer, sheet_name='PR' + str(0) + '_LCI_BW',index=False)\n",
    "    #writer.save()\n",
    "\n"
   ]
  },
  {
   "cell_type": "code",
   "execution_count": 2,
   "id": "9d65aa4a-4404-46e2-85b4-c61f8580db4c",
   "metadata": {},
   "outputs": [],
   "source": [
    "columns_name_BW=[\"name\", \"reference product\",\t\"location\",\t\"amount\",\t\"unit\",\t\"database\",\t\"type\",\t\"categories\",\t\"uncertainty type\",\n",
    "                 \"loc\",\t\"scale\", \"minimum\", \"maximum\"]\n",
    "\n"
   ]
  },
  {
   "cell_type": "code",
   "execution_count": 8,
   "id": "ce706b0e-999f-4079-88db-e5928fa6f357",
   "metadata": {},
   "outputs": [
    {
     "data": {
      "text/html": [
       "<div>\n",
       "<style scoped>\n",
       "    .dataframe tbody tr th:only-of-type {\n",
       "        vertical-align: middle;\n",
       "    }\n",
       "\n",
       "    .dataframe tbody tr th {\n",
       "        vertical-align: top;\n",
       "    }\n",
       "\n",
       "    .dataframe thead th {\n",
       "        text-align: right;\n",
       "    }\n",
       "</style>\n",
       "<table border=\"1\" class=\"dataframe\">\n",
       "  <thead>\n",
       "    <tr style=\"text-align: right;\">\n",
       "      <th></th>\n",
       "      <th>name</th>\n",
       "      <th>reference product</th>\n",
       "      <th>location</th>\n",
       "      <th>amount</th>\n",
       "      <th>unit</th>\n",
       "      <th>database</th>\n",
       "      <th>type</th>\n",
       "      <th>categories</th>\n",
       "      <th>uncertainty type</th>\n",
       "      <th>loc</th>\n",
       "      <th>scale</th>\n",
       "      <th>minimum</th>\n",
       "      <th>maximum</th>\n",
       "    </tr>\n",
       "  </thead>\n",
       "  <tbody>\n",
       "    <tr>\n",
       "      <th>0</th>\n",
       "      <td>[M+C] tungsten ore mining and concentration</td>\n",
       "      <td>tungsten concentrate</td>\n",
       "      <td>CN</td>\n",
       "      <td>1.00</td>\n",
       "      <td>kilogram</td>\n",
       "      <td></td>\n",
       "      <td>production</td>\n",
       "      <td></td>\n",
       "      <td></td>\n",
       "      <td></td>\n",
       "      <td></td>\n",
       "      <td></td>\n",
       "      <td></td>\n",
       "    </tr>\n",
       "    <tr>\n",
       "      <th>1</th>\n",
       "      <td>market for explosive, tovex</td>\n",
       "      <td>explosive, tovex</td>\n",
       "      <td>GLO</td>\n",
       "      <td>510.00</td>\n",
       "      <td>kg</td>\n",
       "      <td>ecoinvent 3.9.1 cutoff</td>\n",
       "      <td>technosphere</td>\n",
       "      <td>NaN</td>\n",
       "      <td>NaN</td>\n",
       "      <td>NaN</td>\n",
       "      <td>NaN</td>\n",
       "      <td>NaN</td>\n",
       "      <td>NaN</td>\n",
       "    </tr>\n",
       "    <tr>\n",
       "      <th>2</th>\n",
       "      <td>market for steel, low-alloyed</td>\n",
       "      <td>steel, low-alloyed</td>\n",
       "      <td>GLO</td>\n",
       "      <td>680.00</td>\n",
       "      <td>kg</td>\n",
       "      <td>ecoinvent 3.9.1 cutoff</td>\n",
       "      <td>technosphere</td>\n",
       "      <td>NaN</td>\n",
       "      <td>NaN</td>\n",
       "      <td>NaN</td>\n",
       "      <td>NaN</td>\n",
       "      <td>NaN</td>\n",
       "      <td>NaN</td>\n",
       "    </tr>\n",
       "    <tr>\n",
       "      <th>3</th>\n",
       "      <td>particleboard production, uncoated, from virgi...</td>\n",
       "      <td>particleboard, uncoated</td>\n",
       "      <td>RoW</td>\n",
       "      <td>1.77</td>\n",
       "      <td>m3</td>\n",
       "      <td>ecoinvent 3.9.1 cutoff</td>\n",
       "      <td>technosphere</td>\n",
       "      <td>NaN</td>\n",
       "      <td>NaN</td>\n",
       "      <td>NaN</td>\n",
       "      <td>NaN</td>\n",
       "      <td>NaN</td>\n",
       "      <td>NaN</td>\n",
       "    </tr>\n",
       "    <tr>\n",
       "      <th>4</th>\n",
       "      <td>Not to be modelled</td>\n",
       "      <td>NaN</td>\n",
       "      <td>NaN</td>\n",
       "      <td>NaN</td>\n",
       "      <td>NaN</td>\n",
       "      <td>ecoinvent 3.9.1 cutoff</td>\n",
       "      <td>technosphere</td>\n",
       "      <td>NaN</td>\n",
       "      <td>NaN</td>\n",
       "      <td>NaN</td>\n",
       "      <td>NaN</td>\n",
       "      <td>NaN</td>\n",
       "      <td>NaN</td>\n",
       "    </tr>\n",
       "    <tr>\n",
       "      <th>5</th>\n",
       "      <td>market for steel, low-alloyed</td>\n",
       "      <td>steel, low-alloyed</td>\n",
       "      <td>GLO</td>\n",
       "      <td>200.00</td>\n",
       "      <td>kg</td>\n",
       "      <td>ecoinvent 3.9.1 cutoff</td>\n",
       "      <td>technosphere</td>\n",
       "      <td>NaN</td>\n",
       "      <td>NaN</td>\n",
       "      <td>NaN</td>\n",
       "      <td>NaN</td>\n",
       "      <td>NaN</td>\n",
       "      <td>NaN</td>\n",
       "    </tr>\n",
       "    <tr>\n",
       "      <th>6</th>\n",
       "      <td>market for iron pellet</td>\n",
       "      <td>iron pellet</td>\n",
       "      <td>GLO</td>\n",
       "      <td>150.00</td>\n",
       "      <td>kg</td>\n",
       "      <td>ecoinvent 3.9.1 cutoff</td>\n",
       "      <td>technosphere</td>\n",
       "      <td>NaN</td>\n",
       "      <td>NaN</td>\n",
       "      <td>NaN</td>\n",
       "      <td>NaN</td>\n",
       "      <td>NaN</td>\n",
       "      <td>NaN</td>\n",
       "    </tr>\n",
       "    <tr>\n",
       "      <th>7</th>\n",
       "      <td>market for sodium ethyl xanthate</td>\n",
       "      <td>sodium ethyl xanthate</td>\n",
       "      <td>GLO</td>\n",
       "      <td>28.54</td>\n",
       "      <td>kg</td>\n",
       "      <td>ecoinvent 3.9.1 cutoff</td>\n",
       "      <td>technosphere</td>\n",
       "      <td>NaN</td>\n",
       "      <td>NaN</td>\n",
       "      <td>NaN</td>\n",
       "      <td>NaN</td>\n",
       "      <td>NaN</td>\n",
       "      <td>NaN</td>\n",
       "    </tr>\n",
       "    <tr>\n",
       "      <th>8</th>\n",
       "      <td>market for light fuel oil</td>\n",
       "      <td>light fuel oil</td>\n",
       "      <td>RoW</td>\n",
       "      <td>8.80</td>\n",
       "      <td>kg</td>\n",
       "      <td>ecoinvent 3.9.1 cutoff</td>\n",
       "      <td>technosphere</td>\n",
       "      <td>NaN</td>\n",
       "      <td>NaN</td>\n",
       "      <td>NaN</td>\n",
       "      <td>NaN</td>\n",
       "      <td>NaN</td>\n",
       "      <td>NaN</td>\n",
       "    </tr>\n",
       "    <tr>\n",
       "      <th>9</th>\n",
       "      <td>market for kerosene</td>\n",
       "      <td>kerosene</td>\n",
       "      <td>RoW</td>\n",
       "      <td>53.34</td>\n",
       "      <td>kg</td>\n",
       "      <td>ecoinvent 3.9.1 cutoff</td>\n",
       "      <td>technosphere</td>\n",
       "      <td>NaN</td>\n",
       "      <td>NaN</td>\n",
       "      <td>NaN</td>\n",
       "      <td>NaN</td>\n",
       "      <td>NaN</td>\n",
       "      <td>NaN</td>\n",
       "    </tr>\n",
       "    <tr>\n",
       "      <th>10</th>\n",
       "      <td>market for sodium hydroxide, without water, in...</td>\n",
       "      <td>sodium hydroxide, without water, in 50% soluti...</td>\n",
       "      <td>GLO</td>\n",
       "      <td>106.68</td>\n",
       "      <td>kg</td>\n",
       "      <td>ecoinvent 3.9.1 cutoff</td>\n",
       "      <td>technosphere</td>\n",
       "      <td>NaN</td>\n",
       "      <td>NaN</td>\n",
       "      <td>NaN</td>\n",
       "      <td>NaN</td>\n",
       "      <td>NaN</td>\n",
       "      <td>NaN</td>\n",
       "    </tr>\n",
       "    <tr>\n",
       "      <th>11</th>\n",
       "      <td>market for fatty acid</td>\n",
       "      <td>fatty acid</td>\n",
       "      <td>GLO</td>\n",
       "      <td>53.34</td>\n",
       "      <td>kg</td>\n",
       "      <td>ecoinvent 3.9.1 cutoff</td>\n",
       "      <td>technosphere</td>\n",
       "      <td>NaN</td>\n",
       "      <td>NaN</td>\n",
       "      <td>NaN</td>\n",
       "      <td>NaN</td>\n",
       "      <td>NaN</td>\n",
       "      <td>NaN</td>\n",
       "    </tr>\n",
       "    <tr>\n",
       "      <th>12</th>\n",
       "      <td>market for sodium silicate, solid</td>\n",
       "      <td>sodium silicate, solid</td>\n",
       "      <td>RoW</td>\n",
       "      <td>150.00</td>\n",
       "      <td>kg</td>\n",
       "      <td>ecoinvent 3.9.1 cutoff</td>\n",
       "      <td>technosphere</td>\n",
       "      <td>NaN</td>\n",
       "      <td>NaN</td>\n",
       "      <td>NaN</td>\n",
       "      <td>NaN</td>\n",
       "      <td>NaN</td>\n",
       "      <td>NaN</td>\n",
       "    </tr>\n",
       "    <tr>\n",
       "      <th>13</th>\n",
       "      <td>market for copper sulfate</td>\n",
       "      <td>copper sulfate</td>\n",
       "      <td>GLO</td>\n",
       "      <td>32.00</td>\n",
       "      <td>kg</td>\n",
       "      <td>ecoinvent 3.9.1 cutoff</td>\n",
       "      <td>technosphere</td>\n",
       "      <td>NaN</td>\n",
       "      <td>NaN</td>\n",
       "      <td>NaN</td>\n",
       "      <td>NaN</td>\n",
       "      <td>NaN</td>\n",
       "      <td>NaN</td>\n",
       "    </tr>\n",
       "    <tr>\n",
       "      <th>14</th>\n",
       "      <td>market for sodium silicate, solid</td>\n",
       "      <td>sodium silicate, solid</td>\n",
       "      <td>RoW</td>\n",
       "      <td>66.67</td>\n",
       "      <td>kg</td>\n",
       "      <td>ecoinvent 3.9.1 cutoff</td>\n",
       "      <td>technosphere</td>\n",
       "      <td>NaN</td>\n",
       "      <td>NaN</td>\n",
       "      <td>NaN</td>\n",
       "      <td>NaN</td>\n",
       "      <td>NaN</td>\n",
       "      <td>NaN</td>\n",
       "    </tr>\n",
       "    <tr>\n",
       "      <th>15</th>\n",
       "      <td>treatment of sewage sludge, 75% water, WWT, WW...</td>\n",
       "      <td>sewage sludge, 75% water, WWT, WW, average</td>\n",
       "      <td>RoW</td>\n",
       "      <td>88210.00</td>\n",
       "      <td>kg</td>\n",
       "      <td>ecoinvent 3.9.1 cutoff</td>\n",
       "      <td>technosphere</td>\n",
       "      <td>NaN</td>\n",
       "      <td>NaN</td>\n",
       "      <td>NaN</td>\n",
       "      <td>NaN</td>\n",
       "      <td>NaN</td>\n",
       "      <td>NaN</td>\n",
       "    </tr>\n",
       "    <tr>\n",
       "      <th>16</th>\n",
       "      <td>treatment of non-sulfidic overburden, off-site</td>\n",
       "      <td>non-sulfidic overburden, off-site</td>\n",
       "      <td>GLO</td>\n",
       "      <td>363760.00</td>\n",
       "      <td>kg</td>\n",
       "      <td>ecoinvent 3.9.1 cutoff</td>\n",
       "      <td>technosphere</td>\n",
       "      <td>NaN</td>\n",
       "      <td>NaN</td>\n",
       "      <td>NaN</td>\n",
       "      <td>NaN</td>\n",
       "      <td>NaN</td>\n",
       "      <td>NaN</td>\n",
       "    </tr>\n",
       "    <tr>\n",
       "      <th>17</th>\n",
       "      <td>market for waste wood, untreated</td>\n",
       "      <td>waste wood, untreated</td>\n",
       "      <td>RoW</td>\n",
       "      <td>46200.00</td>\n",
       "      <td>kg</td>\n",
       "      <td>ecoinvent 3.9.1 cutoff</td>\n",
       "      <td>technosphere</td>\n",
       "      <td>NaN</td>\n",
       "      <td>NaN</td>\n",
       "      <td>NaN</td>\n",
       "      <td>NaN</td>\n",
       "      <td>NaN</td>\n",
       "      <td>NaN</td>\n",
       "    </tr>\n",
       "    <tr>\n",
       "      <th>18</th>\n",
       "      <td>market for iron scrap, unsorted</td>\n",
       "      <td>iron scrap, unsorted</td>\n",
       "      <td>GLO</td>\n",
       "      <td>64040.00</td>\n",
       "      <td>kg</td>\n",
       "      <td>ecoinvent 3.9.1 cutoff</td>\n",
       "      <td>technosphere</td>\n",
       "      <td>NaN</td>\n",
       "      <td>NaN</td>\n",
       "      <td>NaN</td>\n",
       "      <td>NaN</td>\n",
       "      <td>NaN</td>\n",
       "      <td>NaN</td>\n",
       "    </tr>\n",
       "    <tr>\n",
       "      <th>19</th>\n",
       "      <td>market for tap water</td>\n",
       "      <td>tap water</td>\n",
       "      <td>RoW</td>\n",
       "      <td>125460.00</td>\n",
       "      <td>kg</td>\n",
       "      <td>ecoinvent 3.9.1 cutoff</td>\n",
       "      <td>technosphere</td>\n",
       "      <td>NaN</td>\n",
       "      <td>NaN</td>\n",
       "      <td>NaN</td>\n",
       "      <td>NaN</td>\n",
       "      <td>NaN</td>\n",
       "      <td>NaN</td>\n",
       "    </tr>\n",
       "    <tr>\n",
       "      <th>20</th>\n",
       "      <td>market group for electricity, medium voltage</td>\n",
       "      <td>electricity, medium voltage</td>\n",
       "      <td>CN</td>\n",
       "      <td>30404.30</td>\n",
       "      <td>kWh</td>\n",
       "      <td>ecoinvent 3.9.1 cutoff</td>\n",
       "      <td>technosphere</td>\n",
       "      <td>NaN</td>\n",
       "      <td>NaN</td>\n",
       "      <td>NaN</td>\n",
       "      <td>NaN</td>\n",
       "      <td>NaN</td>\n",
       "      <td>NaN</td>\n",
       "    </tr>\n",
       "    <tr>\n",
       "      <th>21</th>\n",
       "      <td>market for sewage sludge, 97% water, WWT, WW, ...</td>\n",
       "      <td>sewage sludge, 97% water, WWT, WW, average</td>\n",
       "      <td>RoW</td>\n",
       "      <td>96050.00</td>\n",
       "      <td>kg</td>\n",
       "      <td>ecoinvent 3.9.1 cutoff</td>\n",
       "      <td>technosphere</td>\n",
       "      <td>NaN</td>\n",
       "      <td>NaN</td>\n",
       "      <td>NaN</td>\n",
       "      <td>NaN</td>\n",
       "      <td>NaN</td>\n",
       "      <td>NaN</td>\n",
       "    </tr>\n",
       "    <tr>\n",
       "      <th>22</th>\n",
       "      <td>Transformation, to mineral extraction site</td>\n",
       "      <td>NaN</td>\n",
       "      <td>NaN</td>\n",
       "      <td>88.31</td>\n",
       "      <td>NaN</td>\n",
       "      <td>biosphere3</td>\n",
       "      <td>biosphere</td>\n",
       "      <td>natural resource::land</td>\n",
       "      <td>NaN</td>\n",
       "      <td>NaN</td>\n",
       "      <td>NaN</td>\n",
       "      <td>NaN</td>\n",
       "      <td>NaN</td>\n",
       "    </tr>\n",
       "    <tr>\n",
       "      <th>23</th>\n",
       "      <td>Transformation, from unspecified</td>\n",
       "      <td>NaN</td>\n",
       "      <td>NaN</td>\n",
       "      <td>88.31</td>\n",
       "      <td>NaN</td>\n",
       "      <td>biosphere3</td>\n",
       "      <td>biosphere</td>\n",
       "      <td>natural resource::land</td>\n",
       "      <td>NaN</td>\n",
       "      <td>NaN</td>\n",
       "      <td>NaN</td>\n",
       "      <td>NaN</td>\n",
       "      <td>NaN</td>\n",
       "    </tr>\n",
       "    <tr>\n",
       "      <th>24</th>\n",
       "      <td>Waste water</td>\n",
       "      <td>NaN</td>\n",
       "      <td>NaN</td>\n",
       "      <td>254840.00</td>\n",
       "      <td>NaN</td>\n",
       "      <td>biosphere3</td>\n",
       "      <td>biosphere</td>\n",
       "      <td>water</td>\n",
       "      <td>NaN</td>\n",
       "      <td>NaN</td>\n",
       "      <td>NaN</td>\n",
       "      <td>NaN</td>\n",
       "      <td>NaN</td>\n",
       "    </tr>\n",
       "    <tr>\n",
       "      <th>25</th>\n",
       "      <td>Transformation, to mineral extraction site</td>\n",
       "      <td>NaN</td>\n",
       "      <td>NaN</td>\n",
       "      <td>1.99</td>\n",
       "      <td>NaN</td>\n",
       "      <td>biosphere3</td>\n",
       "      <td>biosphere</td>\n",
       "      <td>natural resource::land</td>\n",
       "      <td>NaN</td>\n",
       "      <td>NaN</td>\n",
       "      <td>NaN</td>\n",
       "      <td>NaN</td>\n",
       "      <td>NaN</td>\n",
       "    </tr>\n",
       "    <tr>\n",
       "      <th>26</th>\n",
       "      <td>Transformation, from unspecified</td>\n",
       "      <td>NaN</td>\n",
       "      <td>NaN</td>\n",
       "      <td>1.99</td>\n",
       "      <td>NaN</td>\n",
       "      <td>biosphere3</td>\n",
       "      <td>biosphere</td>\n",
       "      <td>natural resource::land</td>\n",
       "      <td>NaN</td>\n",
       "      <td>NaN</td>\n",
       "      <td>NaN</td>\n",
       "      <td>NaN</td>\n",
       "      <td>NaN</td>\n",
       "    </tr>\n",
       "    <tr>\n",
       "      <th>27</th>\n",
       "      <td>Water, unspecified natural origin</td>\n",
       "      <td>NaN</td>\n",
       "      <td>CN</td>\n",
       "      <td>20.91</td>\n",
       "      <td>NaN</td>\n",
       "      <td>biosphere3</td>\n",
       "      <td>biosphere</td>\n",
       "      <td>natural resource::in ground</td>\n",
       "      <td>NaN</td>\n",
       "      <td>NaN</td>\n",
       "      <td>NaN</td>\n",
       "      <td>NaN</td>\n",
       "      <td>NaN</td>\n",
       "    </tr>\n",
       "  </tbody>\n",
       "</table>\n",
       "</div>"
      ],
      "text/plain": [
       "                                                 name  \\\n",
       "0         [M+C] tungsten ore mining and concentration   \n",
       "1                         market for explosive, tovex   \n",
       "2                       market for steel, low-alloyed   \n",
       "3   particleboard production, uncoated, from virgi...   \n",
       "4                                  Not to be modelled   \n",
       "5                       market for steel, low-alloyed   \n",
       "6                              market for iron pellet   \n",
       "7                    market for sodium ethyl xanthate   \n",
       "8                           market for light fuel oil   \n",
       "9                                 market for kerosene   \n",
       "10  market for sodium hydroxide, without water, in...   \n",
       "11                              market for fatty acid   \n",
       "12                  market for sodium silicate, solid   \n",
       "13                          market for copper sulfate   \n",
       "14                  market for sodium silicate, solid   \n",
       "15  treatment of sewage sludge, 75% water, WWT, WW...   \n",
       "16     treatment of non-sulfidic overburden, off-site   \n",
       "17                   market for waste wood, untreated   \n",
       "18                    market for iron scrap, unsorted   \n",
       "19                               market for tap water   \n",
       "20       market group for electricity, medium voltage   \n",
       "21  market for sewage sludge, 97% water, WWT, WW, ...   \n",
       "22         Transformation, to mineral extraction site   \n",
       "23                   Transformation, from unspecified   \n",
       "24                                        Waste water   \n",
       "25         Transformation, to mineral extraction site   \n",
       "26                   Transformation, from unspecified   \n",
       "27                  Water, unspecified natural origin   \n",
       "\n",
       "                                    reference product location     amount  \\\n",
       "0                                tungsten concentrate       CN       1.00   \n",
       "1                                    explosive, tovex      GLO     510.00   \n",
       "2                                  steel, low-alloyed      GLO     680.00   \n",
       "3                             particleboard, uncoated      RoW       1.77   \n",
       "4                                                 NaN      NaN        NaN   \n",
       "5                                  steel, low-alloyed      GLO     200.00   \n",
       "6                                         iron pellet      GLO     150.00   \n",
       "7                               sodium ethyl xanthate      GLO      28.54   \n",
       "8                                      light fuel oil      RoW       8.80   \n",
       "9                                            kerosene      RoW      53.34   \n",
       "10  sodium hydroxide, without water, in 50% soluti...      GLO     106.68   \n",
       "11                                         fatty acid      GLO      53.34   \n",
       "12                             sodium silicate, solid      RoW     150.00   \n",
       "13                                     copper sulfate      GLO      32.00   \n",
       "14                             sodium silicate, solid      RoW      66.67   \n",
       "15         sewage sludge, 75% water, WWT, WW, average      RoW   88210.00   \n",
       "16                  non-sulfidic overburden, off-site      GLO  363760.00   \n",
       "17                              waste wood, untreated      RoW   46200.00   \n",
       "18                               iron scrap, unsorted      GLO   64040.00   \n",
       "19                                          tap water      RoW  125460.00   \n",
       "20                        electricity, medium voltage       CN   30404.30   \n",
       "21         sewage sludge, 97% water, WWT, WW, average      RoW   96050.00   \n",
       "22                                                NaN      NaN      88.31   \n",
       "23                                                NaN      NaN      88.31   \n",
       "24                                                NaN      NaN  254840.00   \n",
       "25                                                NaN      NaN       1.99   \n",
       "26                                                NaN      NaN       1.99   \n",
       "27                                                NaN       CN      20.91   \n",
       "\n",
       "        unit                database          type  \\\n",
       "0   kilogram                            production   \n",
       "1         kg  ecoinvent 3.9.1 cutoff  technosphere   \n",
       "2         kg  ecoinvent 3.9.1 cutoff  technosphere   \n",
       "3         m3  ecoinvent 3.9.1 cutoff  technosphere   \n",
       "4        NaN  ecoinvent 3.9.1 cutoff  technosphere   \n",
       "5         kg  ecoinvent 3.9.1 cutoff  technosphere   \n",
       "6         kg  ecoinvent 3.9.1 cutoff  technosphere   \n",
       "7         kg  ecoinvent 3.9.1 cutoff  technosphere   \n",
       "8         kg  ecoinvent 3.9.1 cutoff  technosphere   \n",
       "9         kg  ecoinvent 3.9.1 cutoff  technosphere   \n",
       "10        kg  ecoinvent 3.9.1 cutoff  technosphere   \n",
       "11        kg  ecoinvent 3.9.1 cutoff  technosphere   \n",
       "12        kg  ecoinvent 3.9.1 cutoff  technosphere   \n",
       "13        kg  ecoinvent 3.9.1 cutoff  technosphere   \n",
       "14        kg  ecoinvent 3.9.1 cutoff  technosphere   \n",
       "15        kg  ecoinvent 3.9.1 cutoff  technosphere   \n",
       "16        kg  ecoinvent 3.9.1 cutoff  technosphere   \n",
       "17        kg  ecoinvent 3.9.1 cutoff  technosphere   \n",
       "18        kg  ecoinvent 3.9.1 cutoff  technosphere   \n",
       "19        kg  ecoinvent 3.9.1 cutoff  technosphere   \n",
       "20       kWh  ecoinvent 3.9.1 cutoff  technosphere   \n",
       "21        kg  ecoinvent 3.9.1 cutoff  technosphere   \n",
       "22       NaN              biosphere3     biosphere   \n",
       "23       NaN              biosphere3     biosphere   \n",
       "24       NaN              biosphere3     biosphere   \n",
       "25       NaN              biosphere3     biosphere   \n",
       "26       NaN              biosphere3     biosphere   \n",
       "27       NaN              biosphere3     biosphere   \n",
       "\n",
       "                     categories uncertainty type  loc scale minimum maximum  \n",
       "0                                                                            \n",
       "1                           NaN              NaN  NaN   NaN     NaN     NaN  \n",
       "2                           NaN              NaN  NaN   NaN     NaN     NaN  \n",
       "3                           NaN              NaN  NaN   NaN     NaN     NaN  \n",
       "4                           NaN              NaN  NaN   NaN     NaN     NaN  \n",
       "5                           NaN              NaN  NaN   NaN     NaN     NaN  \n",
       "6                           NaN              NaN  NaN   NaN     NaN     NaN  \n",
       "7                           NaN              NaN  NaN   NaN     NaN     NaN  \n",
       "8                           NaN              NaN  NaN   NaN     NaN     NaN  \n",
       "9                           NaN              NaN  NaN   NaN     NaN     NaN  \n",
       "10                          NaN              NaN  NaN   NaN     NaN     NaN  \n",
       "11                          NaN              NaN  NaN   NaN     NaN     NaN  \n",
       "12                          NaN              NaN  NaN   NaN     NaN     NaN  \n",
       "13                          NaN              NaN  NaN   NaN     NaN     NaN  \n",
       "14                          NaN              NaN  NaN   NaN     NaN     NaN  \n",
       "15                          NaN              NaN  NaN   NaN     NaN     NaN  \n",
       "16                          NaN              NaN  NaN   NaN     NaN     NaN  \n",
       "17                          NaN              NaN  NaN   NaN     NaN     NaN  \n",
       "18                          NaN              NaN  NaN   NaN     NaN     NaN  \n",
       "19                          NaN              NaN  NaN   NaN     NaN     NaN  \n",
       "20                          NaN              NaN  NaN   NaN     NaN     NaN  \n",
       "21                          NaN              NaN  NaN   NaN     NaN     NaN  \n",
       "22       natural resource::land              NaN  NaN   NaN     NaN     NaN  \n",
       "23       natural resource::land              NaN  NaN   NaN     NaN     NaN  \n",
       "24                        water              NaN  NaN   NaN     NaN     NaN  \n",
       "25       natural resource::land              NaN  NaN   NaN     NaN     NaN  \n",
       "26       natural resource::land              NaN  NaN   NaN     NaN     NaN  \n",
       "27  natural resource::in ground              NaN  NaN   NaN     NaN     NaN  "
      ]
     },
     "execution_count": 8,
     "metadata": {},
     "output_type": "execute_result"
    }
   ],
   "source": [
    "#add first inventory\n",
    "path_LCI_BW=Path('C:/Users/philippea/Desktop/Python/Impmet')\n",
    "name_file='LCI_modelling_step3_BW.xlsx'\n",
    "path_LCI_BW=path_LCI_BW / name_file\n",
    "\n",
    "data_activity_blue=pd.read_excel(\"D:/Documents/philippea/OneDrive - BRGM/IMPMET/Python/Data/LCI_modelling_step2.xlsx\")\n",
    "\n",
    "data_activity=pd.read_excel(path_LCI_BW,header=None,index_col=0)\n",
    "\n",
    "line1=[data_activity.loc['Activity'].values[0],data_activity.loc['reference product'].values[0],data_activity.loc['location'].values[0],\n",
    "       data_activity.loc['amount'].values[0],data_activity.loc['unit'].values[0], '',' production',' ' ,'','','','','']\n",
    "data_LCI_activity_BW=pd.DataFrame(data=[line1],columns=columns_name_BW)\n",
    "\n",
    "\n",
    "data_selected=data_activity_blue.loc[data_activity_blue.loc[:,'Corresponding life cycle stage'].str.contains('Mining')| \n",
    "                    data_activity_blue.loc[:,'Corresponding life cycle stage'].str.contains('Concentration')\n",
    "                    |data_activity_blue.loc[:,'Corresponding life cycle stage'].str.contains('Agg \\- M\\+C')] # pour selectionner les lines qui ont les étapes demandées \n",
    "#data_activity_blue\n",
    "col_need_BW_activity=['Ei - Activity name','Ei - Reference product', 'Ei - Location', 'Modified value','Unit']\n",
    "data_activity_ei_selec=data_selected.loc[:,col_need_BW_activity].dropna(subset=['Ei - Activity name']).reset_index(drop=True).copy()\n",
    "\n",
    "data_activity_ei_selec.columns=[\"name\", \"reference product\",\t\"location\",\t\"amount\",\t\"unit\"]\n",
    "data_activity_BW=pd.DataFrame(data=data_activity_ei_selec,columns=columns_name_BW)\n",
    "data_activity_BW['database']='ecoinvent 3.9.1 cutoff'\n",
    "data_activity_BW['type']='technosphere'\n",
    "\n",
    "col_need_BW_flow=['Elementary flow','Elementary flow category', 'Ei - Location', 'Modified value','Unit']\n",
    "#!! need to change elementary flow category with :: and sub category\n",
    "data_flow_selec=data_selected.loc[:,col_need_BW_flow].dropna(subset=['Elementary flow']).reset_index(drop=True).copy()\n",
    "data_flow_selec.columns=[\"name\", \"categories\",\t\"location\",\t\"amount\",\t\"unit\"]\n",
    "\n",
    "data_flow_BW=pd.DataFrame(data=data_flow_selec,columns=columns_name_BW)\n",
    "data_flow_BW['database']='biosphere3'\n",
    "data_flow_BW['type']='biosphere'\n",
    "\n",
    "all_pd=[data_LCI_activity_BW,data_activity_BW,data_flow_BW]\n",
    "data_BW=pd.concat(all_pd,ignore_index=True)\n",
    "data_BW"
   ]
  },
  {
   "cell_type": "code",
   "execution_count": 30,
   "id": "8d664495-d61e-4924-b146-0c8220c778f2",
   "metadata": {},
   "outputs": [],
   "source": [
    "with pd.ExcelWriter('C:/Users/philippea/Desktop/Python/Impmet/LCI_modelling_step3_BW.xlsx',mode='a', engine='openpyxl',if_sheet_exists='overlay') as writer:  #, engine='xlsxwriter'\n",
    "       data_BW.to_excel(writer, sheet_name='PR' + str(0) + '_LCI_BW',index=False,startrow=8)"
   ]
  },
  {
   "cell_type": "code",
   "execution_count": 47,
   "id": "54497784-519e-44fb-9065-52688a2e3792",
   "metadata": {},
   "outputs": [
    {
     "name": "stderr",
     "output_type": "stream",
     "text": [
      "C:\\Users\\philippea\\AppData\\Local\\Temp\\ipykernel_8592\\4039961195.py:2: UserWarning: This pattern is interpreted as a regular expression, and has match groups. To actually get the groups, use str.extract.\n",
      "  c.str.contains(\"\"\"Mining (M)\"\"\")#| data_activity_blue.loc[:,'Corresponding life cycle stage'].str.contains('Concentration (C)') |data_activity_blue.loc[:,'Corresponding life cycle stage'].str.contains('Agg - M+C')\n"
     ]
    },
    {
     "data": {
      "text/plain": [
       "0     False\n",
       "1     False\n",
       "2     False\n",
       "3     False\n",
       "4     False\n",
       "5     False\n",
       "6     False\n",
       "7     False\n",
       "8     False\n",
       "9     False\n",
       "10    False\n",
       "11    False\n",
       "12    False\n",
       "13    False\n",
       "14    False\n",
       "15    False\n",
       "16    False\n",
       "17    False\n",
       "18    False\n",
       "19    False\n",
       "20    False\n",
       "21    False\n",
       "22    False\n",
       "23    False\n",
       "24    False\n",
       "25    False\n",
       "26    False\n",
       "27    False\n",
       "28    False\n",
       "29    False\n",
       "30    False\n",
       "31    False\n",
       "32    False\n",
       "33    False\n",
       "34    False\n",
       "35    False\n",
       "36    False\n",
       "37    False\n",
       "38    False\n",
       "39    False\n",
       "40    False\n",
       "41    False\n",
       "42    False\n",
       "43    False\n",
       "44    False\n",
       "45    False\n",
       "46    False\n",
       "47    False\n",
       "48    False\n",
       "49    False\n",
       "50    False\n",
       "51    False\n",
       "52    False\n",
       "Name: Corresponding life cycle stage, dtype: bool"
      ]
     },
     "execution_count": 47,
     "metadata": {},
     "output_type": "execute_result"
    }
   ],
   "source": [
    "c=data_activity_blue.loc[:,'Corresponding life cycle stage']\n",
    "c.str.contains(\"\"\"Mining (M)\"\"\")#| data_activity_blue.loc[:,'Corresponding life cycle stage'].str.contains('Concentration (C)') |data_activity_blue.loc[:,'Corresponding life cycle stage'].str.contains('Agg - M+C')"
   ]
  },
  {
   "cell_type": "code",
   "execution_count": null,
   "id": "711d5805-e1ce-4875-b56f-e7866f6442cb",
   "metadata": {},
   "outputs": [],
   "source": []
  },
  {
   "cell_type": "code",
   "execution_count": null,
   "id": "50a24cd1-c7f1-4161-9a59-7b32ab8a1173",
   "metadata": {},
   "outputs": [],
   "source": []
  },
  {
   "cell_type": "code",
   "execution_count": null,
   "id": "13726f83-d6ce-45bb-a33e-1dcbe1a5d004",
   "metadata": {},
   "outputs": [],
   "source": []
  },
  {
   "cell_type": "code",
   "execution_count": null,
   "id": "49b49442-1bf6-4f70-90bd-3ec4d8573dbe",
   "metadata": {},
   "outputs": [],
   "source": []
  },
  {
   "cell_type": "code",
   "execution_count": null,
   "id": "af6cbb85-b85a-4de0-bcdf-2ce430fbdb44",
   "metadata": {},
   "outputs": [],
   "source": []
  },
  {
   "cell_type": "code",
   "execution_count": null,
   "id": "24635864-8f5f-4568-90a4-d1ddcf76c4cb",
   "metadata": {},
   "outputs": [],
   "source": []
  },
  {
   "cell_type": "code",
   "execution_count": null,
   "id": "249a2981-6a42-47cb-939a-f0541673119f",
   "metadata": {},
   "outputs": [],
   "source": []
  },
  {
   "cell_type": "code",
   "execution_count": null,
   "id": "0a525f15-dc5d-4ef0-bc4f-029288a15333",
   "metadata": {},
   "outputs": [],
   "source": []
  },
  {
   "cell_type": "code",
   "execution_count": 30,
   "id": "8c804d7a-03b3-44ab-8c13-f35e4b1dec1c",
   "metadata": {},
   "outputs": [],
   "source": [
    "path1=Path('D:/Documents/philippea/OneDrive - BRGM/IMPMET/Python/Data')\n",
    "name_file='EF 3.0v2.xlsx'\n",
    "pathEF=path1 / name_file\n",
    "\n",
    "name_sheet='Cut-Off AO'"
   ]
  },
  {
   "cell_type": "code",
   "execution_count": 31,
   "id": "a3d5624b-0e0c-46f5-ba0d-f1b9428bd849",
   "metadata": {},
   "outputs": [
    {
     "ename": "KeyError",
     "evalue": "'kg CO2 eq'",
     "output_type": "error",
     "traceback": [
      "\u001b[1;31m---------------------------------------------------------------------------\u001b[0m",
      "\u001b[1;31mKeyError\u001b[0m                                  Traceback (most recent call last)",
      "File \u001b[1;32m~\\AppData\\Local\\Programs\\Python\\Python311\\Lib\\site-packages\\pandas\\core\\indexes\\base.py:3653\u001b[0m, in \u001b[0;36mIndex.get_loc\u001b[1;34m(self, key)\u001b[0m\n\u001b[0;32m   3652\u001b[0m \u001b[38;5;28;01mtry\u001b[39;00m:\n\u001b[1;32m-> 3653\u001b[0m     \u001b[38;5;28;01mreturn\u001b[39;00m \u001b[38;5;28;43mself\u001b[39;49m\u001b[38;5;241;43m.\u001b[39;49m\u001b[43m_engine\u001b[49m\u001b[38;5;241;43m.\u001b[39;49m\u001b[43mget_loc\u001b[49m\u001b[43m(\u001b[49m\u001b[43mcasted_key\u001b[49m\u001b[43m)\u001b[49m\n\u001b[0;32m   3654\u001b[0m \u001b[38;5;28;01mexcept\u001b[39;00m \u001b[38;5;167;01mKeyError\u001b[39;00m \u001b[38;5;28;01mas\u001b[39;00m err:\n",
      "File \u001b[1;32m~\\AppData\\Local\\Programs\\Python\\Python311\\Lib\\site-packages\\pandas\\_libs\\index.pyx:147\u001b[0m, in \u001b[0;36mpandas._libs.index.IndexEngine.get_loc\u001b[1;34m()\u001b[0m\n",
      "File \u001b[1;32m~\\AppData\\Local\\Programs\\Python\\Python311\\Lib\\site-packages\\pandas\\_libs\\index.pyx:176\u001b[0m, in \u001b[0;36mpandas._libs.index.IndexEngine.get_loc\u001b[1;34m()\u001b[0m\n",
      "File \u001b[1;32mpandas\\_libs\\hashtable_class_helper.pxi:7080\u001b[0m, in \u001b[0;36mpandas._libs.hashtable.PyObjectHashTable.get_item\u001b[1;34m()\u001b[0m\n",
      "File \u001b[1;32mpandas\\_libs\\hashtable_class_helper.pxi:7088\u001b[0m, in \u001b[0;36mpandas._libs.hashtable.PyObjectHashTable.get_item\u001b[1;34m()\u001b[0m\n",
      "\u001b[1;31mKeyError\u001b[0m: 'kg CO2 eq'",
      "\nThe above exception was the direct cause of the following exception:\n",
      "\u001b[1;31mKeyError\u001b[0m                                  Traceback (most recent call last)",
      "Cell \u001b[1;32mIn[31], line 1\u001b[0m\n\u001b[1;32m----> 1\u001b[0m \u001b[43mpd\u001b[49m\u001b[38;5;241;43m.\u001b[39;49m\u001b[43mread_excel\u001b[49m\u001b[43m(\u001b[49m\u001b[43mpathEF\u001b[49m\u001b[43m)\u001b[49m\u001b[38;5;241;43m.\u001b[39;49m\u001b[43mloc\u001b[49m\u001b[43m[\u001b[49m\u001b[43m:\u001b[49m\u001b[43m,\u001b[49m\u001b[38;5;124;43m'\u001b[39;49m\u001b[38;5;124;43mkg CO2 eq\u001b[39;49m\u001b[38;5;124;43m'\u001b[39;49m\u001b[43m]\u001b[49m\u001b[38;5;241m.\u001b[39mdrop_duplicates()\n",
      "File \u001b[1;32m~\\AppData\\Local\\Programs\\Python\\Python311\\Lib\\site-packages\\pandas\\core\\indexing.py:1097\u001b[0m, in \u001b[0;36m_LocationIndexer.__getitem__\u001b[1;34m(self, key)\u001b[0m\n\u001b[0;32m   1095\u001b[0m     \u001b[38;5;28;01mif\u001b[39;00m \u001b[38;5;28mself\u001b[39m\u001b[38;5;241m.\u001b[39m_is_scalar_access(key):\n\u001b[0;32m   1096\u001b[0m         \u001b[38;5;28;01mreturn\u001b[39;00m \u001b[38;5;28mself\u001b[39m\u001b[38;5;241m.\u001b[39mobj\u001b[38;5;241m.\u001b[39m_get_value(\u001b[38;5;241m*\u001b[39mkey, takeable\u001b[38;5;241m=\u001b[39m\u001b[38;5;28mself\u001b[39m\u001b[38;5;241m.\u001b[39m_takeable)\n\u001b[1;32m-> 1097\u001b[0m     \u001b[38;5;28;01mreturn\u001b[39;00m \u001b[38;5;28;43mself\u001b[39;49m\u001b[38;5;241;43m.\u001b[39;49m\u001b[43m_getitem_tuple\u001b[49m\u001b[43m(\u001b[49m\u001b[43mkey\u001b[49m\u001b[43m)\u001b[49m\n\u001b[0;32m   1098\u001b[0m \u001b[38;5;28;01melse\u001b[39;00m:\n\u001b[0;32m   1099\u001b[0m     \u001b[38;5;66;03m# we by definition only have the 0th axis\u001b[39;00m\n\u001b[0;32m   1100\u001b[0m     axis \u001b[38;5;241m=\u001b[39m \u001b[38;5;28mself\u001b[39m\u001b[38;5;241m.\u001b[39maxis \u001b[38;5;129;01mor\u001b[39;00m \u001b[38;5;241m0\u001b[39m\n",
      "File \u001b[1;32m~\\AppData\\Local\\Programs\\Python\\Python311\\Lib\\site-packages\\pandas\\core\\indexing.py:1280\u001b[0m, in \u001b[0;36m_LocIndexer._getitem_tuple\u001b[1;34m(self, tup)\u001b[0m\n\u001b[0;32m   1278\u001b[0m \u001b[38;5;28;01mwith\u001b[39;00m suppress(IndexingError):\n\u001b[0;32m   1279\u001b[0m     tup \u001b[38;5;241m=\u001b[39m \u001b[38;5;28mself\u001b[39m\u001b[38;5;241m.\u001b[39m_expand_ellipsis(tup)\n\u001b[1;32m-> 1280\u001b[0m     \u001b[38;5;28;01mreturn\u001b[39;00m \u001b[38;5;28;43mself\u001b[39;49m\u001b[38;5;241;43m.\u001b[39;49m\u001b[43m_getitem_lowerdim\u001b[49m\u001b[43m(\u001b[49m\u001b[43mtup\u001b[49m\u001b[43m)\u001b[49m\n\u001b[0;32m   1282\u001b[0m \u001b[38;5;66;03m# no multi-index, so validate all of the indexers\u001b[39;00m\n\u001b[0;32m   1283\u001b[0m tup \u001b[38;5;241m=\u001b[39m \u001b[38;5;28mself\u001b[39m\u001b[38;5;241m.\u001b[39m_validate_tuple_indexer(tup)\n",
      "File \u001b[1;32m~\\AppData\\Local\\Programs\\Python\\Python311\\Lib\\site-packages\\pandas\\core\\indexing.py:1000\u001b[0m, in \u001b[0;36m_LocationIndexer._getitem_lowerdim\u001b[1;34m(self, tup)\u001b[0m\n\u001b[0;32m    996\u001b[0m \u001b[38;5;28;01mfor\u001b[39;00m i, key \u001b[38;5;129;01min\u001b[39;00m \u001b[38;5;28menumerate\u001b[39m(tup):\n\u001b[0;32m    997\u001b[0m     \u001b[38;5;28;01mif\u001b[39;00m is_label_like(key):\n\u001b[0;32m    998\u001b[0m         \u001b[38;5;66;03m# We don't need to check for tuples here because those are\u001b[39;00m\n\u001b[0;32m    999\u001b[0m         \u001b[38;5;66;03m#  caught by the _is_nested_tuple_indexer check above.\u001b[39;00m\n\u001b[1;32m-> 1000\u001b[0m         section \u001b[38;5;241m=\u001b[39m \u001b[38;5;28;43mself\u001b[39;49m\u001b[38;5;241;43m.\u001b[39;49m\u001b[43m_getitem_axis\u001b[49m\u001b[43m(\u001b[49m\u001b[43mkey\u001b[49m\u001b[43m,\u001b[49m\u001b[43m \u001b[49m\u001b[43maxis\u001b[49m\u001b[38;5;241;43m=\u001b[39;49m\u001b[43mi\u001b[49m\u001b[43m)\u001b[49m\n\u001b[0;32m   1002\u001b[0m         \u001b[38;5;66;03m# We should never have a scalar section here, because\u001b[39;00m\n\u001b[0;32m   1003\u001b[0m         \u001b[38;5;66;03m#  _getitem_lowerdim is only called after a check for\u001b[39;00m\n\u001b[0;32m   1004\u001b[0m         \u001b[38;5;66;03m#  is_scalar_access, which that would be.\u001b[39;00m\n\u001b[0;32m   1005\u001b[0m         \u001b[38;5;28;01mif\u001b[39;00m section\u001b[38;5;241m.\u001b[39mndim \u001b[38;5;241m==\u001b[39m \u001b[38;5;28mself\u001b[39m\u001b[38;5;241m.\u001b[39mndim:\n\u001b[0;32m   1006\u001b[0m             \u001b[38;5;66;03m# we're in the middle of slicing through a MultiIndex\u001b[39;00m\n\u001b[0;32m   1007\u001b[0m             \u001b[38;5;66;03m# revise the key wrt to `section` by inserting an _NS\u001b[39;00m\n",
      "File \u001b[1;32m~\\AppData\\Local\\Programs\\Python\\Python311\\Lib\\site-packages\\pandas\\core\\indexing.py:1343\u001b[0m, in \u001b[0;36m_LocIndexer._getitem_axis\u001b[1;34m(self, key, axis)\u001b[0m\n\u001b[0;32m   1341\u001b[0m \u001b[38;5;66;03m# fall thru to straight lookup\u001b[39;00m\n\u001b[0;32m   1342\u001b[0m \u001b[38;5;28mself\u001b[39m\u001b[38;5;241m.\u001b[39m_validate_key(key, axis)\n\u001b[1;32m-> 1343\u001b[0m \u001b[38;5;28;01mreturn\u001b[39;00m \u001b[38;5;28;43mself\u001b[39;49m\u001b[38;5;241;43m.\u001b[39;49m\u001b[43m_get_label\u001b[49m\u001b[43m(\u001b[49m\u001b[43mkey\u001b[49m\u001b[43m,\u001b[49m\u001b[43m \u001b[49m\u001b[43maxis\u001b[49m\u001b[38;5;241;43m=\u001b[39;49m\u001b[43maxis\u001b[49m\u001b[43m)\u001b[49m\n",
      "File \u001b[1;32m~\\AppData\\Local\\Programs\\Python\\Python311\\Lib\\site-packages\\pandas\\core\\indexing.py:1293\u001b[0m, in \u001b[0;36m_LocIndexer._get_label\u001b[1;34m(self, label, axis)\u001b[0m\n\u001b[0;32m   1291\u001b[0m \u001b[38;5;28;01mdef\u001b[39;00m \u001b[38;5;21m_get_label\u001b[39m(\u001b[38;5;28mself\u001b[39m, label, axis: AxisInt):\n\u001b[0;32m   1292\u001b[0m     \u001b[38;5;66;03m# GH#5567 this will fail if the label is not present in the axis.\u001b[39;00m\n\u001b[1;32m-> 1293\u001b[0m     \u001b[38;5;28;01mreturn\u001b[39;00m \u001b[38;5;28;43mself\u001b[39;49m\u001b[38;5;241;43m.\u001b[39;49m\u001b[43mobj\u001b[49m\u001b[38;5;241;43m.\u001b[39;49m\u001b[43mxs\u001b[49m\u001b[43m(\u001b[49m\u001b[43mlabel\u001b[49m\u001b[43m,\u001b[49m\u001b[43m \u001b[49m\u001b[43maxis\u001b[49m\u001b[38;5;241;43m=\u001b[39;49m\u001b[43maxis\u001b[49m\u001b[43m)\u001b[49m\n",
      "File \u001b[1;32m~\\AppData\\Local\\Programs\\Python\\Python311\\Lib\\site-packages\\pandas\\core\\generic.py:4082\u001b[0m, in \u001b[0;36mNDFrame.xs\u001b[1;34m(self, key, axis, level, drop_level)\u001b[0m\n\u001b[0;32m   4080\u001b[0m \u001b[38;5;28;01mif\u001b[39;00m axis \u001b[38;5;241m==\u001b[39m \u001b[38;5;241m1\u001b[39m:\n\u001b[0;32m   4081\u001b[0m     \u001b[38;5;28;01mif\u001b[39;00m drop_level:\n\u001b[1;32m-> 4082\u001b[0m         \u001b[38;5;28;01mreturn\u001b[39;00m \u001b[38;5;28;43mself\u001b[39;49m\u001b[43m[\u001b[49m\u001b[43mkey\u001b[49m\u001b[43m]\u001b[49m\n\u001b[0;32m   4083\u001b[0m     index \u001b[38;5;241m=\u001b[39m \u001b[38;5;28mself\u001b[39m\u001b[38;5;241m.\u001b[39mcolumns\n\u001b[0;32m   4084\u001b[0m \u001b[38;5;28;01melse\u001b[39;00m:\n",
      "File \u001b[1;32m~\\AppData\\Local\\Programs\\Python\\Python311\\Lib\\site-packages\\pandas\\core\\frame.py:3761\u001b[0m, in \u001b[0;36mDataFrame.__getitem__\u001b[1;34m(self, key)\u001b[0m\n\u001b[0;32m   3759\u001b[0m \u001b[38;5;28;01mif\u001b[39;00m \u001b[38;5;28mself\u001b[39m\u001b[38;5;241m.\u001b[39mcolumns\u001b[38;5;241m.\u001b[39mnlevels \u001b[38;5;241m>\u001b[39m \u001b[38;5;241m1\u001b[39m:\n\u001b[0;32m   3760\u001b[0m     \u001b[38;5;28;01mreturn\u001b[39;00m \u001b[38;5;28mself\u001b[39m\u001b[38;5;241m.\u001b[39m_getitem_multilevel(key)\n\u001b[1;32m-> 3761\u001b[0m indexer \u001b[38;5;241m=\u001b[39m \u001b[38;5;28;43mself\u001b[39;49m\u001b[38;5;241;43m.\u001b[39;49m\u001b[43mcolumns\u001b[49m\u001b[38;5;241;43m.\u001b[39;49m\u001b[43mget_loc\u001b[49m\u001b[43m(\u001b[49m\u001b[43mkey\u001b[49m\u001b[43m)\u001b[49m\n\u001b[0;32m   3762\u001b[0m \u001b[38;5;28;01mif\u001b[39;00m is_integer(indexer):\n\u001b[0;32m   3763\u001b[0m     indexer \u001b[38;5;241m=\u001b[39m [indexer]\n",
      "File \u001b[1;32m~\\AppData\\Local\\Programs\\Python\\Python311\\Lib\\site-packages\\pandas\\core\\indexes\\base.py:3655\u001b[0m, in \u001b[0;36mIndex.get_loc\u001b[1;34m(self, key)\u001b[0m\n\u001b[0;32m   3653\u001b[0m     \u001b[38;5;28;01mreturn\u001b[39;00m \u001b[38;5;28mself\u001b[39m\u001b[38;5;241m.\u001b[39m_engine\u001b[38;5;241m.\u001b[39mget_loc(casted_key)\n\u001b[0;32m   3654\u001b[0m \u001b[38;5;28;01mexcept\u001b[39;00m \u001b[38;5;167;01mKeyError\u001b[39;00m \u001b[38;5;28;01mas\u001b[39;00m err:\n\u001b[1;32m-> 3655\u001b[0m     \u001b[38;5;28;01mraise\u001b[39;00m \u001b[38;5;167;01mKeyError\u001b[39;00m(key) \u001b[38;5;28;01mfrom\u001b[39;00m \u001b[38;5;21;01merr\u001b[39;00m\n\u001b[0;32m   3656\u001b[0m \u001b[38;5;28;01mexcept\u001b[39;00m \u001b[38;5;167;01mTypeError\u001b[39;00m:\n\u001b[0;32m   3657\u001b[0m     \u001b[38;5;66;03m# If we have a listlike key, _check_indexing_error will raise\u001b[39;00m\n\u001b[0;32m   3658\u001b[0m     \u001b[38;5;66;03m#  InvalidIndexError. Otherwise we fall through and re-raise\u001b[39;00m\n\u001b[0;32m   3659\u001b[0m     \u001b[38;5;66;03m#  the TypeError.\u001b[39;00m\n\u001b[0;32m   3660\u001b[0m     \u001b[38;5;28mself\u001b[39m\u001b[38;5;241m.\u001b[39m_check_indexing_error(key)\n",
      "\u001b[1;31mKeyError\u001b[0m: 'kg CO2 eq'"
     ]
    }
   ],
   "source": [
    "pd.read_excel(pathEF).loc[:,'kg CO2 eq'].drop_duplicates()"
   ]
  },
  {
   "cell_type": "code",
   "execution_count": 32,
   "id": "22c3cb20-4a59-4f8d-b541-427a6852e42f",
   "metadata": {},
   "outputs": [
    {
     "data": {
      "text/plain": [
       "['Feuil28',\n",
       " 'Feuil27',\n",
       " 'Feuil26',\n",
       " 'Feuil25',\n",
       " 'Feuil24',\n",
       " 'Feuil23',\n",
       " 'Feuil22',\n",
       " 'Feuil21',\n",
       " 'Feuil20',\n",
       " 'Feuil19',\n",
       " 'Feuil18',\n",
       " 'Feuil17',\n",
       " 'Feuil16',\n",
       " 'Feuil15',\n",
       " 'Feuil14',\n",
       " 'Feuil13',\n",
       " 'Feuil12',\n",
       " 'Feuil11',\n",
       " 'Feuil10',\n",
       " 'Feuil9',\n",
       " 'Feuil8',\n",
       " 'Feuil7',\n",
       " 'Feuil6',\n",
       " 'Feuil5',\n",
       " 'Feuil4',\n",
       " 'Feuil3',\n",
       " 'Feuil2',\n",
       " 'Feuil1']"
      ]
     },
     "execution_count": 32,
     "metadata": {},
     "output_type": "execute_result"
    }
   ],
   "source": [
    "docEF=pd.ExcelFile(pathEF)\n",
    "all_sheetsEF=docEF.sheet_names#.str.contains('PR')\n",
    "#sheet_names_list = [name for name in all_sheetsEF if \"PR\" in name]\n",
    "all_sheetsEF"
   ]
  },
  {
   "cell_type": "code",
   "execution_count": 64,
   "id": "a9906460-6c79-4ad2-aa13-b7613783c908",
   "metadata": {},
   "outputs": [],
   "source": [
    "path1=Path('D:/Documents/philippea/OneDrive - BRGM/IMPMET/Python/Data')\n",
    "name_file='list_country_virgule.xlsx'\n",
    "pathcv=path1 / name_file\n",
    "\n",
    "name_sheet='Cut-Off AO'\n",
    "list_pays_virgule=pd.read_excel(pathcv)#.values.to_list()\n",
    "list_pays_virgule=list_pays_virgule.loc[:,'Unnamed: 0'].values.tolist()"
   ]
  },
  {
   "cell_type": "code",
   "execution_count": 70,
   "id": "98ec9200-5d69-4a7b-a720-cfda0f0416d0",
   "metadata": {},
   "outputs": [
    {
     "data": {
      "text/html": [
       "<div>\n",
       "<style scoped>\n",
       "    .dataframe tbody tr th:only-of-type {\n",
       "        vertical-align: middle;\n",
       "    }\n",
       "\n",
       "    .dataframe tbody tr th {\n",
       "        vertical-align: top;\n",
       "    }\n",
       "\n",
       "    .dataframe thead th {\n",
       "        text-align: right;\n",
       "    }\n",
       "</style>\n",
       "<table border=\"1\" class=\"dataframe\">\n",
       "  <thead>\n",
       "    <tr style=\"text-align: right;\">\n",
       "      <th></th>\n",
       "      <th>comp</th>\n",
       "      <th>sub</th>\n",
       "      <th>flow</th>\n",
       "    </tr>\n",
       "  </thead>\n",
       "  <tbody>\n",
       "    <tr>\n",
       "      <th>0</th>\n",
       "      <td>Air</td>\n",
       "      <td>(unspecified)</td>\n",
       "      <td>1-Butanol</td>\n",
       "    </tr>\n",
       "    <tr>\n",
       "      <th>1</th>\n",
       "      <td>Air</td>\n",
       "      <td>(unspecified)</td>\n",
       "      <td>1-Butene</td>\n",
       "    </tr>\n",
       "    <tr>\n",
       "      <th>2</th>\n",
       "      <td>Air</td>\n",
       "      <td>(unspecified)</td>\n",
       "      <td>1-Butene, 2-methyl-</td>\n",
       "    </tr>\n",
       "    <tr>\n",
       "      <th>3</th>\n",
       "      <td>Air</td>\n",
       "      <td>(unspecified)</td>\n",
       "      <td>1-Butene, 3-methyl-</td>\n",
       "    </tr>\n",
       "    <tr>\n",
       "      <th>4</th>\n",
       "      <td>Air</td>\n",
       "      <td>(unspecified)</td>\n",
       "      <td>1-Hexene</td>\n",
       "    </tr>\n",
       "    <tr>\n",
       "      <th>...</th>\n",
       "      <td>...</td>\n",
       "      <td>...</td>\n",
       "      <td>...</td>\n",
       "    </tr>\n",
       "    <tr>\n",
       "      <th>1865</th>\n",
       "      <td>Air</td>\n",
       "      <td>(unspecified)</td>\n",
       "      <td>Toluene, 3-ethyl-</td>\n",
       "    </tr>\n",
       "    <tr>\n",
       "      <th>1866</th>\n",
       "      <td>Air</td>\n",
       "      <td>(unspecified)</td>\n",
       "      <td>Toluene, 3,5-diethyl-</td>\n",
       "    </tr>\n",
       "    <tr>\n",
       "      <th>1867</th>\n",
       "      <td>Air</td>\n",
       "      <td>(unspecified)</td>\n",
       "      <td>Toluene, 4-ethyl-</td>\n",
       "    </tr>\n",
       "    <tr>\n",
       "      <th>1868</th>\n",
       "      <td>Air</td>\n",
       "      <td>(unspecified)</td>\n",
       "      <td>Undecane</td>\n",
       "    </tr>\n",
       "    <tr>\n",
       "      <th>1869</th>\n",
       "      <td>Air</td>\n",
       "      <td>(unspecified)</td>\n",
       "      <td>VOC, volatile organic compounds, unspecified o...</td>\n",
       "    </tr>\n",
       "  </tbody>\n",
       "</table>\n",
       "<p>1870 rows × 3 columns</p>\n",
       "</div>"
      ],
      "text/plain": [
       "     comp            sub                                               flow\n",
       "0     Air  (unspecified)                                          1-Butanol\n",
       "1     Air  (unspecified)                                           1-Butene\n",
       "2     Air  (unspecified)                                1-Butene, 2-methyl-\n",
       "3     Air  (unspecified)                                1-Butene, 3-methyl-\n",
       "4     Air  (unspecified)                                           1-Hexene\n",
       "...   ...            ...                                                ...\n",
       "1865  Air  (unspecified)                                  Toluene, 3-ethyl-\n",
       "1866  Air  (unspecified)                              Toluene, 3,5-diethyl-\n",
       "1867  Air  (unspecified)                                  Toluene, 4-ethyl-\n",
       "1868  Air  (unspecified)                                           Undecane\n",
       "1869  Air  (unspecified)  VOC, volatile organic compounds, unspecified o...\n",
       "\n",
       "[1870 rows x 3 columns]"
      ]
     },
     "execution_count": 70,
     "metadata": {},
     "output_type": "execute_result"
    }
   ],
   "source": [
    "data=pd.read_excel(pathEF,sheet_name='Feuil4',usecols='A:C')#,column=['comp','sub','flow'])\n",
    "data.columns=['comp','sub','flow']#.loc[data.iloc[:,2].str.contains('|'.join(list_pays_virgule))== False]\n",
    "data"
   ]
  },
  {
   "cell_type": "code",
   "execution_count": 119,
   "id": "f3707cd6-8f04-4122-92e0-28c005dcf2ad",
   "metadata": {},
   "outputs": [],
   "source": [
    "i=0\n",
    "for feuille in all_sheetsEF:#[0:2]:\n",
    "    data=pd.read_excel(pathEF,sheet_name=feuille,usecols='A:E')\n",
    "    data=data.iloc[:,[0,1,2,4]]\n",
    "    data.columns=['comp','sub','flow','value'+str(i)]\n",
    "    data=data.loc[data.iloc[:,2].str.contains('|'.join(list_pays_virgule))== False]\n",
    "    data=data.drop_duplicates()\n",
    "    if i>0:\n",
    "        #display(data)\n",
    "        merged_data=pd.merge(merged_data,data,on=['comp','sub','flow'],how='outer')#,right_on=['comp','sub','flow'],left_on=['comp','sub','flow'],how='left')\n",
    "        i+=1\n",
    "    else:\n",
    "        merged_data=data.copy()\n",
    "        #display(merged_data)\n",
    "        i+=1"
   ]
  },
  {
   "cell_type": "code",
   "execution_count": 120,
   "id": "cfcb89be-9517-4cdc-8c8c-0d6f75299bd5",
   "metadata": {},
   "outputs": [],
   "source": [
    "merged_data.to_excel('merge_ei_elementary_flow.xlsx')"
   ]
  },
  {
   "cell_type": "code",
   "execution_count": 121,
   "id": "24e51b22-0319-4dea-aeb2-ca39fa67b8f1",
   "metadata": {},
   "outputs": [
    {
     "data": {
      "text/plain": [
       "0           Aluminium\n",
       "10           Antimony\n",
       "20       Antimony III\n",
       "30         Antimony V\n",
       "41            Arsenic\n",
       "             ...     \n",
       "40073     Thorium-230\n",
       "40074     Uranium-234\n",
       "40077     Uranium-235\n",
       "40080     Uranium-238\n",
       "40083       Xenon-133\n",
       "Name: flow, Length: 4257, dtype: object"
      ]
     },
     "execution_count": 121,
     "metadata": {},
     "output_type": "execute_result"
    }
   ],
   "source": [
    "merged_data.loc[:,'flow'].drop_duplicates()"
   ]
  },
  {
   "cell_type": "code",
   "execution_count": 125,
   "id": "2fbd7c21-a449-4f64-b664-5f7585115572",
   "metadata": {},
   "outputs": [
    {
     "data": {
      "text/html": [
       "<div>\n",
       "<style scoped>\n",
       "    .dataframe tbody tr th:only-of-type {\n",
       "        vertical-align: middle;\n",
       "    }\n",
       "\n",
       "    .dataframe tbody tr th {\n",
       "        vertical-align: top;\n",
       "    }\n",
       "\n",
       "    .dataframe thead th {\n",
       "        text-align: right;\n",
       "    }\n",
       "</style>\n",
       "<table border=\"1\" class=\"dataframe\">\n",
       "  <thead>\n",
       "    <tr style=\"text-align: right;\">\n",
       "      <th></th>\n",
       "      <th>comp</th>\n",
       "      <th>sub</th>\n",
       "      <th>flow</th>\n",
       "      <th>value0</th>\n",
       "      <th>value1</th>\n",
       "      <th>value2</th>\n",
       "      <th>value3</th>\n",
       "      <th>value4</th>\n",
       "      <th>value5</th>\n",
       "      <th>value6</th>\n",
       "      <th>...</th>\n",
       "      <th>value18</th>\n",
       "      <th>value19</th>\n",
       "      <th>value20</th>\n",
       "      <th>value21</th>\n",
       "      <th>value22</th>\n",
       "      <th>value23</th>\n",
       "      <th>value24</th>\n",
       "      <th>value25</th>\n",
       "      <th>value26</th>\n",
       "      <th>value27</th>\n",
       "    </tr>\n",
       "  </thead>\n",
       "  <tbody>\n",
       "    <tr>\n",
       "      <th>0</th>\n",
       "      <td>Air</td>\n",
       "      <td>(unspecified)</td>\n",
       "      <td>Aluminium</td>\n",
       "      <td>1.880000e+05</td>\n",
       "      <td>NaN</td>\n",
       "      <td>NaN</td>\n",
       "      <td>NaN</td>\n",
       "      <td>NaN</td>\n",
       "      <td>NaN</td>\n",
       "      <td>2.084800e-08</td>\n",
       "      <td>...</td>\n",
       "      <td>NaN</td>\n",
       "      <td>NaN</td>\n",
       "      <td>NaN</td>\n",
       "      <td>NaN</td>\n",
       "      <td>2.084800e-08</td>\n",
       "      <td>NaN</td>\n",
       "      <td>NaN</td>\n",
       "      <td>NaN</td>\n",
       "      <td>NaN</td>\n",
       "      <td>NaN</td>\n",
       "    </tr>\n",
       "    <tr>\n",
       "      <th>1</th>\n",
       "      <td>Air</td>\n",
       "      <td>low. pop.</td>\n",
       "      <td>Aluminium</td>\n",
       "      <td>1.890000e+05</td>\n",
       "      <td>NaN</td>\n",
       "      <td>NaN</td>\n",
       "      <td>NaN</td>\n",
       "      <td>NaN</td>\n",
       "      <td>NaN</td>\n",
       "      <td>8.194000e-09</td>\n",
       "      <td>...</td>\n",
       "      <td>NaN</td>\n",
       "      <td>NaN</td>\n",
       "      <td>NaN</td>\n",
       "      <td>NaN</td>\n",
       "      <td>8.194000e-09</td>\n",
       "      <td>NaN</td>\n",
       "      <td>NaN</td>\n",
       "      <td>NaN</td>\n",
       "      <td>NaN</td>\n",
       "      <td>NaN</td>\n",
       "    </tr>\n",
       "    <tr>\n",
       "      <th>2</th>\n",
       "      <td>Air</td>\n",
       "      <td>low. pop., long-term</td>\n",
       "      <td>Aluminium</td>\n",
       "      <td>0.000000e+00</td>\n",
       "      <td>NaN</td>\n",
       "      <td>NaN</td>\n",
       "      <td>NaN</td>\n",
       "      <td>NaN</td>\n",
       "      <td>NaN</td>\n",
       "      <td>0.000000e+00</td>\n",
       "      <td>...</td>\n",
       "      <td>NaN</td>\n",
       "      <td>NaN</td>\n",
       "      <td>NaN</td>\n",
       "      <td>NaN</td>\n",
       "      <td>0.000000e+00</td>\n",
       "      <td>NaN</td>\n",
       "      <td>NaN</td>\n",
       "      <td>NaN</td>\n",
       "      <td>NaN</td>\n",
       "      <td>NaN</td>\n",
       "    </tr>\n",
       "    <tr>\n",
       "      <th>3</th>\n",
       "      <td>Air</td>\n",
       "      <td>high. pop.</td>\n",
       "      <td>Aluminium</td>\n",
       "      <td>1.870000e+05</td>\n",
       "      <td>NaN</td>\n",
       "      <td>NaN</td>\n",
       "      <td>NaN</td>\n",
       "      <td>NaN</td>\n",
       "      <td>NaN</td>\n",
       "      <td>3.350200e-08</td>\n",
       "      <td>...</td>\n",
       "      <td>NaN</td>\n",
       "      <td>NaN</td>\n",
       "      <td>NaN</td>\n",
       "      <td>NaN</td>\n",
       "      <td>3.350200e-08</td>\n",
       "      <td>NaN</td>\n",
       "      <td>NaN</td>\n",
       "      <td>NaN</td>\n",
       "      <td>NaN</td>\n",
       "      <td>NaN</td>\n",
       "    </tr>\n",
       "    <tr>\n",
       "      <th>4</th>\n",
       "      <td>Air</td>\n",
       "      <td>stratosphere + troposphere</td>\n",
       "      <td>Aluminium</td>\n",
       "      <td>1.890000e+05</td>\n",
       "      <td>NaN</td>\n",
       "      <td>NaN</td>\n",
       "      <td>NaN</td>\n",
       "      <td>NaN</td>\n",
       "      <td>NaN</td>\n",
       "      <td>8.194000e-09</td>\n",
       "      <td>...</td>\n",
       "      <td>NaN</td>\n",
       "      <td>NaN</td>\n",
       "      <td>NaN</td>\n",
       "      <td>NaN</td>\n",
       "      <td>8.194000e-09</td>\n",
       "      <td>NaN</td>\n",
       "      <td>NaN</td>\n",
       "      <td>NaN</td>\n",
       "      <td>NaN</td>\n",
       "      <td>NaN</td>\n",
       "    </tr>\n",
       "    <tr>\n",
       "      <th>5</th>\n",
       "      <td>Water</td>\n",
       "      <td>(unspecified)</td>\n",
       "      <td>Aluminium</td>\n",
       "      <td>2.045000e+05</td>\n",
       "      <td>NaN</td>\n",
       "      <td>NaN</td>\n",
       "      <td>NaN</td>\n",
       "      <td>NaN</td>\n",
       "      <td>NaN</td>\n",
       "      <td>7.731500e-10</td>\n",
       "      <td>...</td>\n",
       "      <td>NaN</td>\n",
       "      <td>NaN</td>\n",
       "      <td>NaN</td>\n",
       "      <td>NaN</td>\n",
       "      <td>7.731500e-10</td>\n",
       "      <td>NaN</td>\n",
       "      <td>NaN</td>\n",
       "      <td>NaN</td>\n",
       "      <td>NaN</td>\n",
       "      <td>NaN</td>\n",
       "    </tr>\n",
       "    <tr>\n",
       "      <th>6</th>\n",
       "      <td>Water</td>\n",
       "      <td>groundwater, long-term</td>\n",
       "      <td>Aluminium</td>\n",
       "      <td>0.000000e+00</td>\n",
       "      <td>NaN</td>\n",
       "      <td>NaN</td>\n",
       "      <td>NaN</td>\n",
       "      <td>NaN</td>\n",
       "      <td>NaN</td>\n",
       "      <td>0.000000e+00</td>\n",
       "      <td>...</td>\n",
       "      <td>NaN</td>\n",
       "      <td>NaN</td>\n",
       "      <td>NaN</td>\n",
       "      <td>NaN</td>\n",
       "      <td>0.000000e+00</td>\n",
       "      <td>NaN</td>\n",
       "      <td>NaN</td>\n",
       "      <td>NaN</td>\n",
       "      <td>NaN</td>\n",
       "      <td>NaN</td>\n",
       "    </tr>\n",
       "    <tr>\n",
       "      <th>7</th>\n",
       "      <td>Water</td>\n",
       "      <td>ocean</td>\n",
       "      <td>Aluminium</td>\n",
       "      <td>1.430000e-15</td>\n",
       "      <td>NaN</td>\n",
       "      <td>NaN</td>\n",
       "      <td>NaN</td>\n",
       "      <td>NaN</td>\n",
       "      <td>NaN</td>\n",
       "      <td>3.001600e-13</td>\n",
       "      <td>...</td>\n",
       "      <td>NaN</td>\n",
       "      <td>NaN</td>\n",
       "      <td>NaN</td>\n",
       "      <td>NaN</td>\n",
       "      <td>3.001600e-13</td>\n",
       "      <td>NaN</td>\n",
       "      <td>NaN</td>\n",
       "      <td>NaN</td>\n",
       "      <td>NaN</td>\n",
       "      <td>NaN</td>\n",
       "    </tr>\n",
       "    <tr>\n",
       "      <th>8</th>\n",
       "      <td>Water</td>\n",
       "      <td>river</td>\n",
       "      <td>Aluminium</td>\n",
       "      <td>4.090000e+05</td>\n",
       "      <td>NaN</td>\n",
       "      <td>NaN</td>\n",
       "      <td>NaN</td>\n",
       "      <td>NaN</td>\n",
       "      <td>NaN</td>\n",
       "      <td>1.546000e-09</td>\n",
       "      <td>...</td>\n",
       "      <td>NaN</td>\n",
       "      <td>NaN</td>\n",
       "      <td>NaN</td>\n",
       "      <td>NaN</td>\n",
       "      <td>1.546000e-09</td>\n",
       "      <td>NaN</td>\n",
       "      <td>NaN</td>\n",
       "      <td>NaN</td>\n",
       "      <td>NaN</td>\n",
       "      <td>NaN</td>\n",
       "    </tr>\n",
       "    <tr>\n",
       "      <th>9</th>\n",
       "      <td>Soil</td>\n",
       "      <td>(unspecified)</td>\n",
       "      <td>Aluminium</td>\n",
       "      <td>2.760000e+05</td>\n",
       "      <td>NaN</td>\n",
       "      <td>NaN</td>\n",
       "      <td>NaN</td>\n",
       "      <td>NaN</td>\n",
       "      <td>NaN</td>\n",
       "      <td>1.036700e-09</td>\n",
       "      <td>...</td>\n",
       "      <td>NaN</td>\n",
       "      <td>NaN</td>\n",
       "      <td>NaN</td>\n",
       "      <td>NaN</td>\n",
       "      <td>1.036700e-09</td>\n",
       "      <td>NaN</td>\n",
       "      <td>NaN</td>\n",
       "      <td>NaN</td>\n",
       "      <td>NaN</td>\n",
       "      <td>NaN</td>\n",
       "    </tr>\n",
       "    <tr>\n",
       "      <th>37792</th>\n",
       "      <td>Air</td>\n",
       "      <td>indoor</td>\n",
       "      <td>Aluminium</td>\n",
       "      <td>NaN</td>\n",
       "      <td>NaN</td>\n",
       "      <td>NaN</td>\n",
       "      <td>NaN</td>\n",
       "      <td>NaN</td>\n",
       "      <td>NaN</td>\n",
       "      <td>2.454700e-06</td>\n",
       "      <td>...</td>\n",
       "      <td>NaN</td>\n",
       "      <td>NaN</td>\n",
       "      <td>NaN</td>\n",
       "      <td>NaN</td>\n",
       "      <td>2.454700e-06</td>\n",
       "      <td>NaN</td>\n",
       "      <td>NaN</td>\n",
       "      <td>NaN</td>\n",
       "      <td>NaN</td>\n",
       "      <td>NaN</td>\n",
       "    </tr>\n",
       "    <tr>\n",
       "      <th>37793</th>\n",
       "      <td>Soil</td>\n",
       "      <td>agricultural</td>\n",
       "      <td>Aluminium</td>\n",
       "      <td>NaN</td>\n",
       "      <td>NaN</td>\n",
       "      <td>NaN</td>\n",
       "      <td>NaN</td>\n",
       "      <td>NaN</td>\n",
       "      <td>NaN</td>\n",
       "      <td>1.738600e-09</td>\n",
       "      <td>...</td>\n",
       "      <td>NaN</td>\n",
       "      <td>NaN</td>\n",
       "      <td>NaN</td>\n",
       "      <td>NaN</td>\n",
       "      <td>1.738600e-09</td>\n",
       "      <td>NaN</td>\n",
       "      <td>NaN</td>\n",
       "      <td>NaN</td>\n",
       "      <td>NaN</td>\n",
       "      <td>NaN</td>\n",
       "    </tr>\n",
       "    <tr>\n",
       "      <th>37794</th>\n",
       "      <td>Soil</td>\n",
       "      <td>industrial</td>\n",
       "      <td>Aluminium</td>\n",
       "      <td>NaN</td>\n",
       "      <td>NaN</td>\n",
       "      <td>NaN</td>\n",
       "      <td>NaN</td>\n",
       "      <td>NaN</td>\n",
       "      <td>NaN</td>\n",
       "      <td>3.348900e-10</td>\n",
       "      <td>...</td>\n",
       "      <td>NaN</td>\n",
       "      <td>NaN</td>\n",
       "      <td>NaN</td>\n",
       "      <td>NaN</td>\n",
       "      <td>3.348900e-10</td>\n",
       "      <td>NaN</td>\n",
       "      <td>NaN</td>\n",
       "      <td>NaN</td>\n",
       "      <td>NaN</td>\n",
       "      <td>NaN</td>\n",
       "    </tr>\n",
       "    <tr>\n",
       "      <th>39319</th>\n",
       "      <td>Raw</td>\n",
       "      <td>(unspecified)</td>\n",
       "      <td>Aluminium</td>\n",
       "      <td>NaN</td>\n",
       "      <td>NaN</td>\n",
       "      <td>NaN</td>\n",
       "      <td>NaN</td>\n",
       "      <td>NaN</td>\n",
       "      <td>NaN</td>\n",
       "      <td>NaN</td>\n",
       "      <td>...</td>\n",
       "      <td>NaN</td>\n",
       "      <td>NaN</td>\n",
       "      <td>NaN</td>\n",
       "      <td>NaN</td>\n",
       "      <td>NaN</td>\n",
       "      <td>NaN</td>\n",
       "      <td>NaN</td>\n",
       "      <td>NaN</td>\n",
       "      <td>NaN</td>\n",
       "      <td>NaN</td>\n",
       "    </tr>\n",
       "  </tbody>\n",
       "</table>\n",
       "<p>14 rows × 31 columns</p>\n",
       "</div>"
      ],
      "text/plain": [
       "        comp                         sub       flow        value0  value1  \\\n",
       "0        Air               (unspecified)  Aluminium  1.880000e+05     NaN   \n",
       "1        Air                   low. pop.  Aluminium  1.890000e+05     NaN   \n",
       "2        Air        low. pop., long-term  Aluminium  0.000000e+00     NaN   \n",
       "3        Air                  high. pop.  Aluminium  1.870000e+05     NaN   \n",
       "4        Air  stratosphere + troposphere  Aluminium  1.890000e+05     NaN   \n",
       "5      Water               (unspecified)  Aluminium  2.045000e+05     NaN   \n",
       "6      Water      groundwater, long-term  Aluminium  0.000000e+00     NaN   \n",
       "7      Water                       ocean  Aluminium  1.430000e-15     NaN   \n",
       "8      Water                       river  Aluminium  4.090000e+05     NaN   \n",
       "9       Soil               (unspecified)  Aluminium  2.760000e+05     NaN   \n",
       "37792    Air                      indoor  Aluminium           NaN     NaN   \n",
       "37793   Soil                agricultural  Aluminium           NaN     NaN   \n",
       "37794   Soil                  industrial  Aluminium           NaN     NaN   \n",
       "39319    Raw               (unspecified)  Aluminium           NaN     NaN   \n",
       "\n",
       "       value2  value3  value4  value5        value6  ...  value18  value19  \\\n",
       "0         NaN     NaN     NaN     NaN  2.084800e-08  ...      NaN      NaN   \n",
       "1         NaN     NaN     NaN     NaN  8.194000e-09  ...      NaN      NaN   \n",
       "2         NaN     NaN     NaN     NaN  0.000000e+00  ...      NaN      NaN   \n",
       "3         NaN     NaN     NaN     NaN  3.350200e-08  ...      NaN      NaN   \n",
       "4         NaN     NaN     NaN     NaN  8.194000e-09  ...      NaN      NaN   \n",
       "5         NaN     NaN     NaN     NaN  7.731500e-10  ...      NaN      NaN   \n",
       "6         NaN     NaN     NaN     NaN  0.000000e+00  ...      NaN      NaN   \n",
       "7         NaN     NaN     NaN     NaN  3.001600e-13  ...      NaN      NaN   \n",
       "8         NaN     NaN     NaN     NaN  1.546000e-09  ...      NaN      NaN   \n",
       "9         NaN     NaN     NaN     NaN  1.036700e-09  ...      NaN      NaN   \n",
       "37792     NaN     NaN     NaN     NaN  2.454700e-06  ...      NaN      NaN   \n",
       "37793     NaN     NaN     NaN     NaN  1.738600e-09  ...      NaN      NaN   \n",
       "37794     NaN     NaN     NaN     NaN  3.348900e-10  ...      NaN      NaN   \n",
       "39319     NaN     NaN     NaN     NaN           NaN  ...      NaN      NaN   \n",
       "\n",
       "       value20  value21       value22  value23  value24  value25  value26  \\\n",
       "0          NaN      NaN  2.084800e-08      NaN      NaN      NaN      NaN   \n",
       "1          NaN      NaN  8.194000e-09      NaN      NaN      NaN      NaN   \n",
       "2          NaN      NaN  0.000000e+00      NaN      NaN      NaN      NaN   \n",
       "3          NaN      NaN  3.350200e-08      NaN      NaN      NaN      NaN   \n",
       "4          NaN      NaN  8.194000e-09      NaN      NaN      NaN      NaN   \n",
       "5          NaN      NaN  7.731500e-10      NaN      NaN      NaN      NaN   \n",
       "6          NaN      NaN  0.000000e+00      NaN      NaN      NaN      NaN   \n",
       "7          NaN      NaN  3.001600e-13      NaN      NaN      NaN      NaN   \n",
       "8          NaN      NaN  1.546000e-09      NaN      NaN      NaN      NaN   \n",
       "9          NaN      NaN  1.036700e-09      NaN      NaN      NaN      NaN   \n",
       "37792      NaN      NaN  2.454700e-06      NaN      NaN      NaN      NaN   \n",
       "37793      NaN      NaN  1.738600e-09      NaN      NaN      NaN      NaN   \n",
       "37794      NaN      NaN  3.348900e-10      NaN      NaN      NaN      NaN   \n",
       "39319      NaN      NaN           NaN      NaN      NaN      NaN      NaN   \n",
       "\n",
       "       value27  \n",
       "0          NaN  \n",
       "1          NaN  \n",
       "2          NaN  \n",
       "3          NaN  \n",
       "4          NaN  \n",
       "5          NaN  \n",
       "6          NaN  \n",
       "7          NaN  \n",
       "8          NaN  \n",
       "9          NaN  \n",
       "37792      NaN  \n",
       "37793      NaN  \n",
       "37794      NaN  \n",
       "39319      NaN  \n",
       "\n",
       "[14 rows x 31 columns]"
      ]
     },
     "execution_count": 125,
     "metadata": {},
     "output_type": "execute_result"
    }
   ],
   "source": [
    "merged_data[merged_data['flow']=='Aluminium']#drop_na()"
   ]
  },
  {
   "cell_type": "code",
   "execution_count": 12,
   "id": "058e9dba-cc95-4660-b1f8-b07d1ea5cd3f",
   "metadata": {},
   "outputs": [
    {
     "data": {
      "text/plain": [
       "0        bark chips, wet, measured as dry mass to gener...\n",
       "1                                 market for nitrous oxide\n",
       "2            market for sawdust, wet, measured as dry mass\n",
       "3        market for sewage sludge, 70% water, WWT, WW f...\n",
       "4                                phenolic resin production\n",
       "                               ...                        \n",
       "21202                          market for dimethyl sulfide\n",
       "21218    coffee green bean production, arabica, mechanized\n",
       "21224      market for hard disk drive, for laptop computer\n",
       "21229        market for storage building, chemicals, solid\n",
       "21230     market for washing, drying and finishing laundry\n",
       "Name: Activity Name, Length: 8278, dtype: object"
      ]
     },
     "execution_count": 12,
     "metadata": {},
     "output_type": "execute_result"
    }
   ],
   "source": [
    "a=ecoinvent_data.loc[:,['Activity Name','Geography']].drop_duplicates()\n",
    "\n",
    "act_name=ecoinvent_data.loc[:,'Activity Name'].drop_duplicates()\n",
    "nb=0\n",
    "\n",
    "for name in act_name:\n",
    "    if len(a."
   ]
  },
  {
   "cell_type": "code",
   "execution_count": 13,
   "id": "cb2d2daf-c291-49ca-a581-3208793be952",
   "metadata": {},
   "outputs": [
    {
     "data": {
      "text/html": [
       "<div>\n",
       "<style scoped>\n",
       "    .dataframe tbody tr th:only-of-type {\n",
       "        vertical-align: middle;\n",
       "    }\n",
       "\n",
       "    .dataframe tbody tr th {\n",
       "        vertical-align: top;\n",
       "    }\n",
       "\n",
       "    .dataframe thead th {\n",
       "        text-align: right;\n",
       "    }\n",
       "</style>\n",
       "<table border=\"1\" class=\"dataframe\">\n",
       "  <thead>\n",
       "    <tr style=\"text-align: right;\">\n",
       "      <th></th>\n",
       "      <th>Activity Name</th>\n",
       "      <th>Geography</th>\n",
       "    </tr>\n",
       "  </thead>\n",
       "  <tbody>\n",
       "    <tr>\n",
       "      <th>0</th>\n",
       "      <td>bark chips, wet, measured as dry mass to gener...</td>\n",
       "      <td>CH</td>\n",
       "    </tr>\n",
       "    <tr>\n",
       "      <th>1</th>\n",
       "      <td>market for nitrous oxide</td>\n",
       "      <td>GLO</td>\n",
       "    </tr>\n",
       "    <tr>\n",
       "      <th>2</th>\n",
       "      <td>market for sawdust, wet, measured as dry mass</td>\n",
       "      <td>CH</td>\n",
       "    </tr>\n",
       "    <tr>\n",
       "      <th>3</th>\n",
       "      <td>market for sewage sludge, 70% water, WWT, WW f...</td>\n",
       "      <td>CH</td>\n",
       "    </tr>\n",
       "    <tr>\n",
       "      <th>4</th>\n",
       "      <td>phenolic resin production</td>\n",
       "      <td>RER</td>\n",
       "    </tr>\n",
       "    <tr>\n",
       "      <th>...</th>\n",
       "      <td>...</td>\n",
       "      <td>...</td>\n",
       "    </tr>\n",
       "    <tr>\n",
       "      <th>21231</th>\n",
       "      <td>market for kerosene</td>\n",
       "      <td>BR</td>\n",
       "    </tr>\n",
       "    <tr>\n",
       "      <th>21232</th>\n",
       "      <td>treatment of used bus</td>\n",
       "      <td>CH</td>\n",
       "    </tr>\n",
       "    <tr>\n",
       "      <th>21234</th>\n",
       "      <td>market for isophorondiisocyante</td>\n",
       "      <td>RoW</td>\n",
       "    </tr>\n",
       "    <tr>\n",
       "      <th>21236</th>\n",
       "      <td>methacrylic acid production</td>\n",
       "      <td>RER</td>\n",
       "    </tr>\n",
       "    <tr>\n",
       "      <th>21237</th>\n",
       "      <td>inverter production, 500kW</td>\n",
       "      <td>RoW</td>\n",
       "    </tr>\n",
       "  </tbody>\n",
       "</table>\n",
       "<p>18919 rows × 2 columns</p>\n",
       "</div>"
      ],
      "text/plain": [
       "                                           Activity Name Geography\n",
       "0      bark chips, wet, measured as dry mass to gener...        CH\n",
       "1                               market for nitrous oxide       GLO\n",
       "2          market for sawdust, wet, measured as dry mass        CH\n",
       "3      market for sewage sludge, 70% water, WWT, WW f...        CH\n",
       "4                              phenolic resin production       RER\n",
       "...                                                  ...       ...\n",
       "21231                                market for kerosene        BR\n",
       "21232                              treatment of used bus        CH\n",
       "21234                    market for isophorondiisocyante       RoW\n",
       "21236                        methacrylic acid production       RER\n",
       "21237                         inverter production, 500kW       RoW\n",
       "\n",
       "[18919 rows x 2 columns]"
      ]
     },
     "execution_count": 13,
     "metadata": {},
     "output_type": "execute_result"
    }
   ],
   "source": [
    "a"
   ]
  },
  {
   "cell_type": "code",
   "execution_count": 14,
   "id": "18edabf4-449a-4d04-9078-fd5e84bc8347",
   "metadata": {},
   "outputs": [
    {
     "data": {
      "text/plain": [
       "0        bark chips, wet, measured as dry mass to gener...\n",
       "1                                 market for nitrous oxide\n",
       "2            market for sawdust, wet, measured as dry mass\n",
       "3        market for sewage sludge, 70% water, WWT, WW f...\n",
       "4                                phenolic resin production\n",
       "                               ...                        \n",
       "21202                          market for dimethyl sulfide\n",
       "21218    coffee green bean production, arabica, mechanized\n",
       "21224      market for hard disk drive, for laptop computer\n",
       "21229        market for storage building, chemicals, solid\n",
       "21230     market for washing, drying and finishing laundry\n",
       "Name: Activity Name, Length: 8278, dtype: object"
      ]
     },
     "execution_count": 14,
     "metadata": {},
     "output_type": "execute_result"
    }
   ],
   "source": [
    "act_name"
   ]
  },
  {
   "cell_type": "code",
   "execution_count": null,
   "id": "de92eb03-0643-40b2-b4ed-48563c1f0ebe",
   "metadata": {},
   "outputs": [],
   "source": []
  },
  {
   "cell_type": "code",
   "execution_count": null,
   "id": "4b48d844-17a9-4171-b625-675062a801c0",
   "metadata": {},
   "outputs": [],
   "source": []
  },
  {
   "cell_type": "code",
   "execution_count": null,
   "id": "a503a9de-941d-4717-858f-8e3e822d59d7",
   "metadata": {},
   "outputs": [],
   "source": []
  },
  {
   "cell_type": "code",
   "execution_count": null,
   "id": "8bd69ccd-f1eb-4a43-b35c-1005928aebcb",
   "metadata": {},
   "outputs": [],
   "source": []
  },
  {
   "cell_type": "code",
   "execution_count": null,
   "id": "47490043-45c5-4849-b0e4-5f104db529b6",
   "metadata": {},
   "outputs": [],
   "source": []
  },
  {
   "cell_type": "code",
   "execution_count": 94,
   "id": "c2a03deb-f4f5-4dd0-bec3-7bb5c3778caa",
   "metadata": {},
   "outputs": [],
   "source": [
    "import asyncio\n",
    "def wait_for_change(widget, value):\n",
    "    future = asyncio.Future()\n",
    "    def getvalue(change):\n",
    "        # make the new value available\n",
    "        future.set_result(change.new)\n",
    "        widget.unobserve(getvalue, value)\n",
    "    widget.observe(getvalue, value)\n",
    "    return future"
   ]
  },
  {
   "cell_type": "code",
   "execution_count": 99,
   "id": "bbd0c101-83ea-4150-9a3d-b4b283e31284",
   "metadata": {},
   "outputs": [
    {
     "data": {
      "application/vnd.jupyter.widget-view+json": {
       "model_id": "83b0afaf3a8f48d29d2172dbb22fe51b",
       "version_major": 2,
       "version_minor": 0
      },
      "text/plain": [
       "IntSlider(value=0)"
      ]
     },
     "execution_count": 99,
     "metadata": {},
     "output_type": "execute_result"
    }
   ],
   "source": [
    "from ipywidgets import IntSlider, Output\n",
    "slider = IntSlider()\n",
    "out = Output()\n",
    "\n",
    "async def f():\n",
    "    for i in range(10):\n",
    "        out.append_stdout('did work ' + str(i) + '\\n')\n",
    "        x = await wait_for_change(slider, 'value')\n",
    "        out.append_stdout('async function continued with value ' + str(x) + '\\n')\n",
    "asyncio.ensure_future(f())\n",
    "\n",
    "slider"
   ]
  },
  {
   "cell_type": "code",
   "execution_count": 100,
   "id": "d8847974-9e33-4edf-bc60-bc8e8607ba35",
   "metadata": {},
   "outputs": [
    {
     "data": {
      "application/vnd.jupyter.widget-view+json": {
       "model_id": "d857e0292acf463ba7ce4fa2b6d257cd",
       "version_major": 2,
       "version_minor": 0
      },
      "text/plain": [
       "Output(outputs=({'output_type': 'stream', 'name': 'stdout', 'text': 'did work 0\\n'}, {'output_type': 'stream',…"
      ]
     },
     "execution_count": 100,
     "metadata": {},
     "output_type": "execute_result"
    }
   ],
   "source": [
    "out"
   ]
  },
  {
   "cell_type": "code",
   "execution_count": 101,
   "id": "219880f4-6d37-4aff-9aa6-ead261690ad1",
   "metadata": {},
   "outputs": [
    {
     "data": {
      "application/vnd.jupyter.widget-view+json": {
       "model_id": "4d6d85ffb51146768f13ba218f6051bf",
       "version_major": 2,
       "version_minor": 0
      },
      "text/plain": [
       "FloatProgress(value=0.0, max=1.0)"
      ]
     },
     "metadata": {},
     "output_type": "display_data"
    }
   ],
   "source": [
    "import threading\n",
    "from IPython.display import display\n",
    "import ipywidgets as widgets\n",
    "import time\n",
    "progress = widgets.FloatProgress(value=0.0, min=0.0, max=1.0)\n",
    "\n",
    "def work(progress):\n",
    "    total = 100\n",
    "    for i in range(total):\n",
    "        time.sleep(0.2)\n",
    "        progress.value = float(i+1)/total\n",
    "\n",
    "thread = threading.Thread(target=work, args=(progress,))\n",
    "display(progress)\n",
    "thread.start()"
   ]
  },
  {
   "cell_type": "code",
   "execution_count": 114,
   "id": "52292a50-7032-4756-8a0e-8aa67cc69bac",
   "metadata": {},
   "outputs": [
    {
     "data": {
      "application/vnd.jupyter.widget-view+json": {
       "model_id": "066a026845b24791be4276a6d0a7e6ac",
       "version_major": 2,
       "version_minor": 0
      },
      "text/plain": [
       "Button(description='Click', style=ButtonStyle())"
      ]
     },
     "metadata": {},
     "output_type": "display_data"
    },
    {
     "data": {
      "application/vnd.jupyter.widget-view+json": {
       "model_id": "f794c02a1794412f9411c38595e44af2",
       "version_major": 2,
       "version_minor": 0
      },
      "text/plain": [
       "Output()"
      ]
     },
     "metadata": {},
     "output_type": "display_data"
    },
    {
     "name": "stdout",
     "output_type": "stream",
     "text": [
      "python waited for the button click\n"
     ]
    }
   ],
   "source": [
    "from jupyter_ui_poll import ui_events\n",
    "import time\n",
    "\n",
    "button = widgets.Button(description = \"Click\")\n",
    "output = widgets.Output()\n",
    "display(button, output)\n",
    "\n",
    "clicked = False\n",
    "def on_button_clicked(b):\n",
    "    global clicked\n",
    "    clicked = True\n",
    "    with output:\n",
    "        print(\"button clicked\")\n",
    "\n",
    "button.on_click(on_button_clicked)\n",
    "\n",
    "with ui_events() as poll:\n",
    "    while not clicked:\n",
    "        poll(10) # poll queued UI events including button\n",
    "        time.sleep(1) # wait for 1 second before checking again\n",
    "print('python waited for the button click')"
   ]
  },
  {
   "cell_type": "code",
   "execution_count": 112,
   "id": "d9d835c7-0d96-46b3-8402-17e6643efe03",
   "metadata": {},
   "outputs": [
    {
     "name": "stdout",
     "output_type": "stream",
     "text": [
      "Collecting jupyter_ui_poll\n",
      "  Downloading jupyter_ui_poll-0.2.2-py2.py3-none-any.whl (9.0 kB)\n",
      "Requirement already satisfied: ipython in c:\\users\\philippea\\appdata\\local\\programs\\python\\python311\\lib\\site-packages (from jupyter_ui_poll) (8.14.0)\n",
      "Requirement already satisfied: backcall in c:\\users\\philippea\\appdata\\local\\programs\\python\\python311\\lib\\site-packages (from ipython->jupyter_ui_poll) (0.2.0)\n",
      "Requirement already satisfied: decorator in c:\\users\\philippea\\appdata\\local\\programs\\python\\python311\\lib\\site-packages (from ipython->jupyter_ui_poll) (5.1.1)\n",
      "Requirement already satisfied: jedi>=0.16 in c:\\users\\philippea\\appdata\\local\\programs\\python\\python311\\lib\\site-packages (from ipython->jupyter_ui_poll) (0.19.0)\n",
      "Requirement already satisfied: matplotlib-inline in c:\\users\\philippea\\appdata\\local\\programs\\python\\python311\\lib\\site-packages (from ipython->jupyter_ui_poll) (0.1.6)\n",
      "Requirement already satisfied: pickleshare in c:\\users\\philippea\\appdata\\local\\programs\\python\\python311\\lib\\site-packages (from ipython->jupyter_ui_poll) (0.7.5)\n",
      "Requirement already satisfied: prompt-toolkit!=3.0.37,<3.1.0,>=3.0.30 in c:\\users\\philippea\\appdata\\local\\programs\\python\\python311\\lib\\site-packages (from ipython->jupyter_ui_poll) (3.0.39)\n",
      "Requirement already satisfied: pygments>=2.4.0 in c:\\users\\philippea\\appdata\\local\\programs\\python\\python311\\lib\\site-packages (from ipython->jupyter_ui_poll) (2.15.1)\n",
      "Requirement already satisfied: stack-data in c:\\users\\philippea\\appdata\\local\\programs\\python\\python311\\lib\\site-packages (from ipython->jupyter_ui_poll) (0.6.2)\n",
      "Requirement already satisfied: traitlets>=5 in c:\\users\\philippea\\appdata\\local\\programs\\python\\python311\\lib\\site-packages (from ipython->jupyter_ui_poll) (5.9.0)\n",
      "Requirement already satisfied: colorama in c:\\users\\philippea\\appdata\\local\\programs\\python\\python311\\lib\\site-packages (from ipython->jupyter_ui_poll) (0.4.6)\n",
      "Requirement already satisfied: parso<0.9.0,>=0.8.3 in c:\\users\\philippea\\appdata\\local\\programs\\python\\python311\\lib\\site-packages (from jedi>=0.16->ipython->jupyter_ui_poll) (0.8.3)\n",
      "Requirement already satisfied: wcwidth in c:\\users\\philippea\\appdata\\local\\programs\\python\\python311\\lib\\site-packages (from prompt-toolkit!=3.0.37,<3.1.0,>=3.0.30->ipython->jupyter_ui_poll) (0.2.6)\n",
      "Requirement already satisfied: executing>=1.2.0 in c:\\users\\philippea\\appdata\\local\\programs\\python\\python311\\lib\\site-packages (from stack-data->ipython->jupyter_ui_poll) (1.2.0)\n",
      "Requirement already satisfied: asttokens>=2.1.0 in c:\\users\\philippea\\appdata\\local\\programs\\python\\python311\\lib\\site-packages (from stack-data->ipython->jupyter_ui_poll) (2.2.1)\n",
      "Requirement already satisfied: pure-eval in c:\\users\\philippea\\appdata\\local\\programs\\python\\python311\\lib\\site-packages (from stack-data->ipython->jupyter_ui_poll) (0.2.2)\n",
      "Requirement already satisfied: six in c:\\users\\philippea\\appdata\\local\\programs\\python\\python311\\lib\\site-packages (from asttokens>=2.1.0->stack-data->ipython->jupyter_ui_poll) (1.16.0)\n",
      "Installing collected packages: jupyter_ui_poll\n",
      "Successfully installed jupyter_ui_poll-0.2.2\n",
      "Note: you may need to restart the kernel to use updated packages.\n"
     ]
    },
    {
     "name": "stderr",
     "output_type": "stream",
     "text": [
      "\n",
      "[notice] A new release of pip is available: 23.3.2 -> 24.0\n",
      "[notice] To update, run: python.exe -m pip install --upgrade pip\n"
     ]
    }
   ],
   "source": [
    "pip install jupyter_ui_poll"
   ]
  },
  {
   "cell_type": "code",
   "execution_count": null,
   "id": "b3d2a069-ae64-449e-aea8-aa3fd57bb843",
   "metadata": {},
   "outputs": [],
   "source": []
  }
 ],
 "metadata": {
  "kernelspec": {
   "display_name": "Python 3 (ipykernel)",
   "language": "python",
   "name": "python3"
  },
  "language_info": {
   "codemirror_mode": {
    "name": "ipython",
    "version": 3
   },
   "file_extension": ".py",
   "mimetype": "text/x-python",
   "name": "python",
   "nbconvert_exporter": "python",
   "pygments_lexer": "ipython3",
   "version": "3.11.4"
  }
 },
 "nbformat": 4,
 "nbformat_minor": 5
}
