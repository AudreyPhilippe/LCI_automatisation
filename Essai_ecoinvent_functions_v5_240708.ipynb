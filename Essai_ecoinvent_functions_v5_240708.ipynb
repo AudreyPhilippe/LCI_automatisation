{
 "cells": [
  {
   "cell_type": "markdown",
   "id": "33a5aee1-e633-46e1-ac1d-ecaf9f28fbf9",
   "metadata": {},
   "source": [
    "# Change the name of the excel file with  inventory\n",
    "\n",
    "Runs the functions need"
   ]
  },
  {
   "cell_type": "code",
   "execution_count": 1,
   "id": "ff50b02d-7e0d-4f77-b6aa-beeebd0c8edb",
   "metadata": {},
   "outputs": [],
   "source": [
    "file_LCI_step0='' #TO CHANGE to the name of the excel file"
   ]
  },
  {
   "cell_type": "code",
   "execution_count": 13,
   "id": "2cda8e8d-2e23-48e7-aadc-b58594fe996c",
   "metadata": {},
   "outputs": [],
   "source": [
    "%run Functions_ei_v2_240708.ipynb"
   ]
  },
  {
   "cell_type": "markdown",
   "id": "b84b233f-d2b8-4006-9cb8-3253fdc53dd8",
   "metadata": {},
   "source": [
    "# Part 1\n",
    "# Code: From LCI collection to ecoinvent names"
   ]
  },
  {
   "cell_type": "markdown",
   "id": "a91f4b2e-ad4c-4e28-9e22-449149516a86",
   "metadata": {},
   "source": [
    "First cell: Check that all the sheets with data are named like that 'PRi_XXX' with i the number of the route. Also check if no other sheet have \"PR\" in their name."
   ]
  },
  {
   "cell_type": "code",
   "execution_count": 5,
   "id": "2590c0ec-e7f8-44b9-b691-11b7a1f4088d",
   "metadata": {},
   "outputs": [
    {
     "data": {
      "text/plain": [
       "['PR1_WC_China',\n",
       " 'PR2_WC_UnitedStates',\n",
       " 'PR3_WC_Europe',\n",
       " 'PR4_APT_Europe_Recycling']"
      ]
     },
     "execution_count": 5,
     "metadata": {},
     "output_type": "execute_result"
    }
   ],
   "source": [
    "doc=pd.ExcelFile(path_step0)\n",
    "all_sheets=doc.sheet_names#.str.contains('PR')\n",
    "sheet_names_list = [name for name in all_sheets if \"PR\" in name] #change with startwith \n",
    "sheet_names_list"
   ]
  },
  {
   "cell_type": "code",
   "execution_count": 7,
   "id": "d51d029a-ccbe-470e-aefc-c27775a3b08f",
   "metadata": {},
   "outputs": [],
   "source": [
    "create_blue(path_step0,sheet_names_list,path_step1)"
   ]
  },
  {
   "cell_type": "markdown",
   "id": "15142fa2-ead5-4635-ba0e-7c330ee61a8d",
   "metadata": {},
   "source": [
    "# Manual: Need to fill columns:\n",
    "\n",
    "O (Ei - Activity name), you can use the file 20240710_LCI_BackgroundModelling_Guidelines&Data_v1.xlsx, sheet Activities List (cut-off) in the folder Data_python\n",
    "\n",
    "P (Elementary flow), you can use the file  20240710_LCI_BackgroundModelling_Guidelines&Data_v1.xlsx, sheet Elementary Exchanges List in the folder Data_python\n",
    "\n",
    "T (Ei - location), use the ecoinvent names. This only need to be filled for the activity. A list of the ountries can be found in the file 20240710_LCI_BackgroundModelling_Guidelines&Data_v1.xlsx, sheet Geographies_Codes "
   ]
  },
  {
   "cell_type": "markdown",
   "id": "9b06fcc3-01de-4ace-97c1-43a7b23ea591",
   "metadata": {},
   "source": [
    "# Part 2\n",
    "# Code: Automatic filling reference product (column L), prefered EI unit (column U), check country attribution (column T) and category for elementary flow (column R)"
   ]
  },
  {
   "cell_type": "markdown",
   "id": "6513133d-139a-4f48-8cf5-798e0bd56cd0",
   "metadata": {},
   "source": [
    "Run the next 2 cells \n",
    "\n",
    "Cell 1: recheck the name of the sheets\n",
    "\n",
    "Cell 2: if there is no problem in the country attribution you can save it. Else check the spelling or that the location is too precise for ecoinvent and need a broader scale and run again the cell"
   ]
  },
  {
   "cell_type": "code",
   "execution_count": 5,
   "id": "4399937c-9652-463c-92c6-a706373851d6",
   "metadata": {},
   "outputs": [
    {
     "data": {
      "text/plain": [
       "['PR1_WC_China',\n",
       " 'PR2_WC_UnitedStates',\n",
       " 'PR3_WC_Europe',\n",
       " 'PR4_APT_Europe_Recycling']"
      ]
     },
     "execution_count": 5,
     "metadata": {},
     "output_type": "execute_result"
    }
   ],
   "source": [
    "doc=pd.ExcelFile(path_step1)\n",
    "all_sheets_model=doc.sheet_names#.str.contains('PR')\n",
    "sheet_names_list_model = [name for name in all_sheets_model if \"PR\" in name] #change with startwith \n",
    "sheet_names_list_model"
   ]
  },
  {
   "cell_type": "code",
   "execution_count": 6,
   "id": "c30f2a1a-3491-4f6b-9acf-5178438d6e50",
   "metadata": {},
   "outputs": [
    {
     "name": "stdout",
     "output_type": "stream",
     "text": [
      "The production route is PR1_WC_China\n"
     ]
    },
    {
     "data": {
      "application/vnd.jupyter.widget-view+json": {
       "model_id": "13d85cb5cd314ad9bc4fe2721acf65dc",
       "version_major": 2,
       "version_minor": 0
      },
      "text/plain": [
       "RadioButtons(description='Choose the best option for the activity: treatment of sewage sludge, 75% water, WWT,…"
      ]
     },
     "metadata": {},
     "output_type": "display_data"
    },
    {
     "data": {
      "application/vnd.jupyter.widget-view+json": {
       "model_id": "47e5ff4faf874edc922a7a1afc7d3de7",
       "version_major": 2,
       "version_minor": 0
      },
      "text/plain": [
       "RadioButtons(description='Choose the best option for the activity: treatment of sewage sludge, 75% water, WWT,…"
      ]
     },
     "metadata": {},
     "output_type": "display_data"
    },
    {
     "data": {
      "application/vnd.jupyter.widget-view+json": {
       "model_id": "c009c1b40c3f4e36a49f828b829e29cc",
       "version_major": 2,
       "version_minor": 0
      },
      "text/plain": [
       "Button(description='Click when good', style=ButtonStyle())"
      ]
     },
     "metadata": {},
     "output_type": "display_data"
    },
    {
     "data": {
      "application/vnd.jupyter.widget-view+json": {
       "model_id": "0c47e3b6b920472499269d4cf67870a9",
       "version_major": 2,
       "version_minor": 0
      },
      "text/plain": [
       "Output()"
      ]
     },
     "metadata": {},
     "output_type": "display_data"
    },
    {
     "name": "stdout",
     "output_type": "stream",
     "text": [
      "FOR THIS ELEMENTARY FLOW: Waste water THERE IS NO CORRESPONDING IN THE ECOINVENT DATABASE\n",
      "There is no problem in the country attribution + in the names of activity and elementary flows\n",
      "The production route is PR2_WC_UnitedStates\n",
      "There is no problem in the country attribution + in the names of activity and elementary flows\n",
      "The production route is PR3_WC_Europe\n",
      "There is no problem in the country attribution + in the names of activity and elementary flows\n",
      "The production route is PR4_APT_Europe_Recycling\n",
      "There is no problem in the country attribution + in the names of activity and elementary flows\n"
     ]
    }
   ],
   "source": [
    "fill_ei_product(1,sheet_names_list_model,dict_flow_efcat,dict_unit,ei_ef_data)"
   ]
  },
  {
   "cell_type": "markdown",
   "id": "7d3ce6b9-d67a-469f-a88e-4c11741681d5",
   "metadata": {},
   "source": [
    "#  MANUAL fill the modelling step 2 file\n",
    "\n",
    "Only the X column is used and must be filled in, the V and W columns can be used to help with the calculations\n",
    "\n",
    "\n",
    "\"Modified value to ei unit\" (column V): the preferred unit of ecoinvent is filled automatically at the previous step, this column is for the conversion from the unit reported by the author to the one for ecoivent\n",
    "\n",
    "\n",
    "\"modified value  (ref flow BW activity)\" (column W): this column is to modify the value to the amount of the activity. For example, 1kg of tungsten concentrate or 1kg of tungsten carbide powder, that will be then used to model the production route\n",
    "\n",
    "\n",
    "\"modified value allocated flow\" (column X): if the production route is allocated, this column is to transform the value to the allocated flow. If there is no allocation it is the same value as column W .\n",
    "\n",
    "\n",
    "For elementary flows fill in the subcategory (column S) where needed"
   ]
  },
  {
   "cell_type": "markdown",
   "id": "3111c5f9-f895-4322-bf22-b80b588cc660",
   "metadata": {},
   "source": [
    " # Part 3\n",
    " # Code: From LCI with ei names to BW template\n",
    "\n",
    "Automatically transform the template to the BW template. \n",
    "\n",
    "\n",
    "You need to precise some data for the different activity.     \n",
    "The amount and unit values, must be the ones you convert the values in the previous step  \n",
    "You check all the unit operations (as reported by the authors) that correspond to the activity name  \n",
    "This form will appear until you have check “If it is the last operation”, when all the unit operation has been selected you can check it, at the same time as other unit operation  \n"
   ]
  },
  {
   "cell_type": "code",
   "execution_count": 8,
   "id": "a72850a2-ca91-461c-9f92-3cd57ba85c78",
   "metadata": {},
   "outputs": [
    {
     "data": {
      "text/plain": [
       "['PR1_WC_China',\n",
       " 'PR2_WC_UnitedStates',\n",
       " 'PR3_WC_Europe',\n",
       " 'PR4_APT_Europe_Recycling']"
      ]
     },
     "execution_count": 8,
     "metadata": {},
     "output_type": "execute_result"
    }
   ],
   "source": [
    "doc=pd.ExcelFile(path_step2)\n",
    "all_sheets_model=doc.sheet_names#.str.contains('PR')\n",
    "sheet_names_list_model = [name for name in all_sheets_model if \"PR\" in name] #change with startwith \n",
    "sheet_names_list_model"
   ]
  },
  {
   "cell_type": "code",
   "execution_count": 14,
   "id": "6d7164db-0f64-4c4d-aab2-fda4e040adf0",
   "metadata": {},
   "outputs": [
    {
     "name": "stdout",
     "output_type": "stream",
     "text": [
      "The production route is PR1_WC_China\n"
     ]
    },
    {
     "data": {
      "application/vnd.jupyter.widget-view+json": {
       "model_id": "1f719d45337546c2862dd9ad96c50e30",
       "version_major": 2,
       "version_minor": 0
      },
      "text/plain": [
       "Text(value='', description='Activity name')"
      ]
     },
     "metadata": {},
     "output_type": "display_data"
    },
    {
     "data": {
      "application/vnd.jupyter.widget-view+json": {
       "model_id": "49e1777d361b4b7b966fc35325260e38",
       "version_major": 2,
       "version_minor": 0
      },
      "text/plain": [
       "Text(value='', description='Reference product')"
      ]
     },
     "metadata": {},
     "output_type": "display_data"
    },
    {
     "data": {
      "application/vnd.jupyter.widget-view+json": {
       "model_id": "7ff7605e7bb64dcfb6ef0bc5b8a110fd",
       "version_major": 2,
       "version_minor": 0
      },
      "text/plain": [
       "Text(value='', description='Location')"
      ]
     },
     "metadata": {},
     "output_type": "display_data"
    },
    {
     "data": {
      "application/vnd.jupyter.widget-view+json": {
       "model_id": "32f24470606a4eedb7ad6c50389bceeb",
       "version_major": 2,
       "version_minor": 0
      },
      "text/plain": [
       "Text(value='', description='Amount')"
      ]
     },
     "metadata": {},
     "output_type": "display_data"
    },
    {
     "data": {
      "application/vnd.jupyter.widget-view+json": {
       "model_id": "c8e1d2d450544c208f31fe60aabf26ef",
       "version_major": 2,
       "version_minor": 0
      },
      "text/plain": [
       "Dropdown(description='Unit', options=('cubic meter', 'kilogram', 'kilowatt hour', 'megajoule', 'unit', 'ton ki…"
      ]
     },
     "metadata": {},
     "output_type": "display_data"
    },
    {
     "data": {
      "application/vnd.jupyter.widget-view+json": {
       "model_id": "1ece9a171d9345f8b0e89cd19827873f",
       "version_major": 2,
       "version_minor": 0
      },
      "text/plain": [
       "Text(value='n/a', description='Comment')"
      ]
     },
     "metadata": {},
     "output_type": "display_data"
    },
    {
     "data": {
      "application/vnd.jupyter.widget-view+json": {
       "model_id": "dedafb668ba34e4d8225e58770cf0e12",
       "version_major": 2,
       "version_minor": 0
      },
      "text/plain": [
       "VBox(children=(Checkbox(value=False, description='W ore mining'), Checkbox(value=False, description='W concent…"
      ]
     },
     "metadata": {},
     "output_type": "display_data"
    },
    {
     "data": {
      "application/vnd.jupyter.widget-view+json": {
       "model_id": "565f8d953b844c2cabbf2f7b1f459102",
       "version_major": 2,
       "version_minor": 0
      },
      "text/plain": [
       "Checkbox(value=False, description='If it is the last operation')"
      ]
     },
     "metadata": {},
     "output_type": "display_data"
    },
    {
     "data": {
      "application/vnd.jupyter.widget-view+json": {
       "model_id": "856aebae7bcd414d9e5ff9238399f5ce",
       "version_major": 2,
       "version_minor": 0
      },
      "text/plain": [
       "Button(description='Click when good', style=ButtonStyle())"
      ]
     },
     "metadata": {},
     "output_type": "display_data"
    },
    {
     "data": {
      "application/vnd.jupyter.widget-view+json": {
       "model_id": "fb9283e4607e473d999f59da0ea96410",
       "version_major": 2,
       "version_minor": 0
      },
      "text/plain": [
       "Output()"
      ]
     },
     "metadata": {},
     "output_type": "display_data"
    },
    {
     "data": {
      "application/vnd.jupyter.widget-view+json": {
       "model_id": "c55f809afc474e3889511a964dfcf745",
       "version_major": 2,
       "version_minor": 0
      },
      "text/plain": [
       "Text(value='', description='Activity name')"
      ]
     },
     "metadata": {},
     "output_type": "display_data"
    },
    {
     "data": {
      "application/vnd.jupyter.widget-view+json": {
       "model_id": "2bb108df0b7e440cb9c075c7bc4143ac",
       "version_major": 2,
       "version_minor": 0
      },
      "text/plain": [
       "Text(value='', description='Reference product')"
      ]
     },
     "metadata": {},
     "output_type": "display_data"
    },
    {
     "data": {
      "application/vnd.jupyter.widget-view+json": {
       "model_id": "50819535e6834e27a40c33ab558aa81f",
       "version_major": 2,
       "version_minor": 0
      },
      "text/plain": [
       "Text(value='', description='Location')"
      ]
     },
     "metadata": {},
     "output_type": "display_data"
    },
    {
     "data": {
      "application/vnd.jupyter.widget-view+json": {
       "model_id": "fbcb690f2de24457978a0ea9f68289ae",
       "version_major": 2,
       "version_minor": 0
      },
      "text/plain": [
       "Text(value='', description='Amount')"
      ]
     },
     "metadata": {},
     "output_type": "display_data"
    },
    {
     "data": {
      "application/vnd.jupyter.widget-view+json": {
       "model_id": "4c8c5e02f8cd4c83825effa3e7f435ce",
       "version_major": 2,
       "version_minor": 0
      },
      "text/plain": [
       "Dropdown(description='Unit', options=('cubic meter', 'kilogram', 'kilowatt hour', 'megajoule', 'unit', 'ton ki…"
      ]
     },
     "metadata": {},
     "output_type": "display_data"
    },
    {
     "data": {
      "application/vnd.jupyter.widget-view+json": {
       "model_id": "d25b41c01b5f4a0a84756dda2ff3ce9b",
       "version_major": 2,
       "version_minor": 0
      },
      "text/plain": [
       "Text(value='n/a', description='Comment')"
      ]
     },
     "metadata": {},
     "output_type": "display_data"
    },
    {
     "data": {
      "application/vnd.jupyter.widget-view+json": {
       "model_id": "ebbc74a9328a4c23ae793080b4a3ad20",
       "version_major": 2,
       "version_minor": 0
      },
      "text/plain": [
       "VBox(children=(Checkbox(value=False, description='W ore mining'), Checkbox(value=False, description='W concent…"
      ]
     },
     "metadata": {},
     "output_type": "display_data"
    },
    {
     "data": {
      "application/vnd.jupyter.widget-view+json": {
       "model_id": "e698ba472529488e9c434491c6c3c834",
       "version_major": 2,
       "version_minor": 0
      },
      "text/plain": [
       "Checkbox(value=False, description='If it is the last operation')"
      ]
     },
     "metadata": {},
     "output_type": "display_data"
    },
    {
     "data": {
      "application/vnd.jupyter.widget-view+json": {
       "model_id": "bb740e0d1a25454eb490803541c7bdd1",
       "version_major": 2,
       "version_minor": 0
      },
      "text/plain": [
       "Button(description='Click when good', style=ButtonStyle())"
      ]
     },
     "metadata": {},
     "output_type": "display_data"
    },
    {
     "data": {
      "application/vnd.jupyter.widget-view+json": {
       "model_id": "6fb467268c99494f82d3750961a183f1",
       "version_major": 2,
       "version_minor": 0
      },
      "text/plain": [
       "Output()"
      ]
     },
     "metadata": {},
     "output_type": "display_data"
    },
    {
     "name": "stdout",
     "output_type": "stream",
     "text": [
      "The production route is PR2_WC_UnitedStates\n"
     ]
    },
    {
     "data": {
      "application/vnd.jupyter.widget-view+json": {
       "model_id": "8da82a5aafca49de830ed4cdcdb46ac6",
       "version_major": 2,
       "version_minor": 0
      },
      "text/plain": [
       "Text(value='', description='Activity name')"
      ]
     },
     "metadata": {},
     "output_type": "display_data"
    },
    {
     "data": {
      "application/vnd.jupyter.widget-view+json": {
       "model_id": "626d8fec83c548a3b279b557449305d6",
       "version_major": 2,
       "version_minor": 0
      },
      "text/plain": [
       "Text(value='', description='Reference product')"
      ]
     },
     "metadata": {},
     "output_type": "display_data"
    },
    {
     "data": {
      "application/vnd.jupyter.widget-view+json": {
       "model_id": "25be31d160974132aacc060ead5bb1dd",
       "version_major": 2,
       "version_minor": 0
      },
      "text/plain": [
       "Text(value='', description='Location')"
      ]
     },
     "metadata": {},
     "output_type": "display_data"
    },
    {
     "data": {
      "application/vnd.jupyter.widget-view+json": {
       "model_id": "6d2ab21d8d16400fac4898c578a7576f",
       "version_major": 2,
       "version_minor": 0
      },
      "text/plain": [
       "Text(value='', description='Amount')"
      ]
     },
     "metadata": {},
     "output_type": "display_data"
    },
    {
     "data": {
      "application/vnd.jupyter.widget-view+json": {
       "model_id": "8c35258841494999bac5977f9ef38d5f",
       "version_major": 2,
       "version_minor": 0
      },
      "text/plain": [
       "Dropdown(description='Unit', options=('cubic meter', 'kilogram', 'kilowatt hour', 'megajoule', 'unit', 'ton ki…"
      ]
     },
     "metadata": {},
     "output_type": "display_data"
    },
    {
     "data": {
      "application/vnd.jupyter.widget-view+json": {
       "model_id": "1f991644231949b9b72c5bb7ba476d78",
       "version_major": 2,
       "version_minor": 0
      },
      "text/plain": [
       "Text(value='n/a', description='Comment')"
      ]
     },
     "metadata": {},
     "output_type": "display_data"
    },
    {
     "data": {
      "application/vnd.jupyter.widget-view+json": {
       "model_id": "0519e337cdff4b31ba4f0d29f2faf5e5",
       "version_major": 2,
       "version_minor": 0
      },
      "text/plain": [
       "VBox(children=(Checkbox(value=False, description='Mining'), Checkbox(value=False, description='Transport'), Ch…"
      ]
     },
     "metadata": {},
     "output_type": "display_data"
    },
    {
     "data": {
      "application/vnd.jupyter.widget-view+json": {
       "model_id": "f82e73ff18a34450890fd3498798adfb",
       "version_major": 2,
       "version_minor": 0
      },
      "text/plain": [
       "Checkbox(value=False, description='If it is the last operation')"
      ]
     },
     "metadata": {},
     "output_type": "display_data"
    },
    {
     "data": {
      "application/vnd.jupyter.widget-view+json": {
       "model_id": "0534b8907d6d4de8be4918975748d5f3",
       "version_major": 2,
       "version_minor": 0
      },
      "text/plain": [
       "Button(description='Click when good', style=ButtonStyle())"
      ]
     },
     "metadata": {},
     "output_type": "display_data"
    },
    {
     "data": {
      "application/vnd.jupyter.widget-view+json": {
       "model_id": "e3bc7beddf154d6fb6e33a716c8d7fe0",
       "version_major": 2,
       "version_minor": 0
      },
      "text/plain": [
       "Output()"
      ]
     },
     "metadata": {},
     "output_type": "display_data"
    },
    {
     "name": "stdout",
     "output_type": "stream",
     "text": [
      "The production route is PR3_WC_Europe\n"
     ]
    },
    {
     "data": {
      "application/vnd.jupyter.widget-view+json": {
       "model_id": "4769e8b11bcd49afabcf01c49ec07d97",
       "version_major": 2,
       "version_minor": 0
      },
      "text/plain": [
       "Text(value='', description='Activity name')"
      ]
     },
     "metadata": {},
     "output_type": "display_data"
    },
    {
     "data": {
      "application/vnd.jupyter.widget-view+json": {
       "model_id": "81d2da5650834a02b965b2a0f4f43e94",
       "version_major": 2,
       "version_minor": 0
      },
      "text/plain": [
       "Text(value='', description='Reference product')"
      ]
     },
     "metadata": {},
     "output_type": "display_data"
    },
    {
     "data": {
      "application/vnd.jupyter.widget-view+json": {
       "model_id": "0cec54f1859145178f70b3613570d073",
       "version_major": 2,
       "version_minor": 0
      },
      "text/plain": [
       "Text(value='', description='Location')"
      ]
     },
     "metadata": {},
     "output_type": "display_data"
    },
    {
     "data": {
      "application/vnd.jupyter.widget-view+json": {
       "model_id": "ad6478c7ead84fcfb7736b5e4f2053ad",
       "version_major": 2,
       "version_minor": 0
      },
      "text/plain": [
       "Text(value='', description='Amount')"
      ]
     },
     "metadata": {},
     "output_type": "display_data"
    },
    {
     "data": {
      "application/vnd.jupyter.widget-view+json": {
       "model_id": "de376e7d85a746f7bcd57a7b93d1335d",
       "version_major": 2,
       "version_minor": 0
      },
      "text/plain": [
       "Dropdown(description='Unit', options=('cubic meter', 'kilogram', 'kilowatt hour', 'megajoule', 'unit', 'ton ki…"
      ]
     },
     "metadata": {},
     "output_type": "display_data"
    },
    {
     "data": {
      "application/vnd.jupyter.widget-view+json": {
       "model_id": "fe07b7d79ffb43feb6975a5b46cac2a5",
       "version_major": 2,
       "version_minor": 0
      },
      "text/plain": [
       "Text(value='n/a', description='Comment')"
      ]
     },
     "metadata": {},
     "output_type": "display_data"
    },
    {
     "data": {
      "application/vnd.jupyter.widget-view+json": {
       "model_id": "794d8335b25d4393bbc37b34ff8758be",
       "version_major": 2,
       "version_minor": 0
      },
      "text/plain": [
       "VBox(children=(Checkbox(value=False, description='WO3 production'), Checkbox(value=False, description='WC prod…"
      ]
     },
     "metadata": {},
     "output_type": "display_data"
    },
    {
     "data": {
      "application/vnd.jupyter.widget-view+json": {
       "model_id": "8f2ee97709234ddd9f129206d2679acc",
       "version_major": 2,
       "version_minor": 0
      },
      "text/plain": [
       "Checkbox(value=False, description='If it is the last operation')"
      ]
     },
     "metadata": {},
     "output_type": "display_data"
    },
    {
     "data": {
      "application/vnd.jupyter.widget-view+json": {
       "model_id": "f907b3a48ffe432098badbe6018ff9c9",
       "version_major": 2,
       "version_minor": 0
      },
      "text/plain": [
       "Button(description='Click when good', style=ButtonStyle())"
      ]
     },
     "metadata": {},
     "output_type": "display_data"
    },
    {
     "data": {
      "application/vnd.jupyter.widget-view+json": {
       "model_id": "5b6d15b8a1c44c9a8dc97de8f570a4d3",
       "version_major": 2,
       "version_minor": 0
      },
      "text/plain": [
       "Output()"
      ]
     },
     "metadata": {},
     "output_type": "display_data"
    },
    {
     "name": "stdout",
     "output_type": "stream",
     "text": [
      "The production route is PR4_APT_Europe_Recycling\n"
     ]
    },
    {
     "data": {
      "application/vnd.jupyter.widget-view+json": {
       "model_id": "21d051bb83604cd8a14e8102ca610ea9",
       "version_major": 2,
       "version_minor": 0
      },
      "text/plain": [
       "Text(value='', description='Activity name')"
      ]
     },
     "metadata": {},
     "output_type": "display_data"
    },
    {
     "data": {
      "application/vnd.jupyter.widget-view+json": {
       "model_id": "1fb58a3e14604326a95f84bb23e1962f",
       "version_major": 2,
       "version_minor": 0
      },
      "text/plain": [
       "Text(value='', description='Reference product')"
      ]
     },
     "metadata": {},
     "output_type": "display_data"
    },
    {
     "data": {
      "application/vnd.jupyter.widget-view+json": {
       "model_id": "bcd7a4c5418449c3b8bde3fc7fd3977e",
       "version_major": 2,
       "version_minor": 0
      },
      "text/plain": [
       "Text(value='', description='Location')"
      ]
     },
     "metadata": {},
     "output_type": "display_data"
    },
    {
     "data": {
      "application/vnd.jupyter.widget-view+json": {
       "model_id": "c1e3f3c042814960a9d1bcc26e5e6c6c",
       "version_major": 2,
       "version_minor": 0
      },
      "text/plain": [
       "Text(value='', description='Amount')"
      ]
     },
     "metadata": {},
     "output_type": "display_data"
    },
    {
     "data": {
      "application/vnd.jupyter.widget-view+json": {
       "model_id": "5f25960ea80544baa336cf49da978bd8",
       "version_major": 2,
       "version_minor": 0
      },
      "text/plain": [
       "Dropdown(description='Unit', options=('cubic meter', 'kilogram', 'kilowatt hour', 'megajoule', 'unit', 'ton ki…"
      ]
     },
     "metadata": {},
     "output_type": "display_data"
    },
    {
     "data": {
      "application/vnd.jupyter.widget-view+json": {
       "model_id": "0bf15d770725430bb714cd20b9a2afc4",
       "version_major": 2,
       "version_minor": 0
      },
      "text/plain": [
       "Text(value='n/a', description='Comment')"
      ]
     },
     "metadata": {},
     "output_type": "display_data"
    },
    {
     "data": {
      "application/vnd.jupyter.widget-view+json": {
       "model_id": "f605f60c54b94ed9a5142614c055f493",
       "version_major": 2,
       "version_minor": 0
      },
      "text/plain": [
       "VBox(children=(Checkbox(value=False, description='Oxidation'), Checkbox(value=False, description='Alkali leach…"
      ]
     },
     "metadata": {},
     "output_type": "display_data"
    },
    {
     "data": {
      "application/vnd.jupyter.widget-view+json": {
       "model_id": "72822cc83fd24c0f8a8c92f57022e5e8",
       "version_major": 2,
       "version_minor": 0
      },
      "text/plain": [
       "Checkbox(value=False, description='If it is the last operation')"
      ]
     },
     "metadata": {},
     "output_type": "display_data"
    },
    {
     "data": {
      "application/vnd.jupyter.widget-view+json": {
       "model_id": "634c292381634e42951dc0c828bbd803",
       "version_major": 2,
       "version_minor": 0
      },
      "text/plain": [
       "Button(description='Click when good', style=ButtonStyle())"
      ]
     },
     "metadata": {},
     "output_type": "display_data"
    },
    {
     "data": {
      "application/vnd.jupyter.widget-view+json": {
       "model_id": "7ff8887d08ba4cb0918077db9126ec33",
       "version_major": 2,
       "version_minor": 0
      },
      "text/plain": [
       "Output()"
      ]
     },
     "metadata": {},
     "output_type": "display_data"
    }
   ],
   "source": [
    "createBW(sheet_names_list_model)"
   ]
  },
  {
   "cell_type": "markdown",
   "id": "06bf0a39-2462-46b2-b9e9-1235052d1096",
   "metadata": {},
   "source": [
    "# END"
   ]
  },
  {
   "cell_type": "code",
   "execution_count": null,
   "id": "348aa765-5c95-4682-9a8d-f9d09997a4be",
   "metadata": {},
   "outputs": [],
   "source": []
  },
  {
   "cell_type": "code",
   "execution_count": null,
   "id": "139e267e-4526-4f31-b6aa-e072d53cf0fc",
   "metadata": {},
   "outputs": [],
   "source": []
  },
  {
   "cell_type": "code",
   "execution_count": null,
   "id": "b44a8b92-e4ce-4cce-ab4f-10589e9e13cf",
   "metadata": {},
   "outputs": [],
   "source": []
  },
  {
   "cell_type": "code",
   "execution_count": null,
   "id": "aa0c001c-df13-4811-a522-0e2f51310e6f",
   "metadata": {},
   "outputs": [],
   "source": []
  },
  {
   "cell_type": "code",
   "execution_count": null,
   "id": "3d136e2d-c501-48d4-92e0-4f2c8835d28e",
   "metadata": {},
   "outputs": [],
   "source": []
  },
  {
   "cell_type": "code",
   "execution_count": null,
   "id": "e7ca9950-2d06-47f7-9fff-9293f673429e",
   "metadata": {},
   "outputs": [],
   "source": []
  },
  {
   "cell_type": "code",
   "execution_count": null,
   "id": "342de713-92b5-48de-8f5b-96789db351ec",
   "metadata": {},
   "outputs": [],
   "source": []
  },
  {
   "cell_type": "code",
   "execution_count": null,
   "id": "fefe3aa3-cb1b-41c2-8714-d5d50db3f007",
   "metadata": {},
   "outputs": [],
   "source": []
  },
  {
   "cell_type": "code",
   "execution_count": null,
   "id": "96e0f0f6-7690-4a93-8a1b-209aeabf23c9",
   "metadata": {},
   "outputs": [],
   "source": []
  },
  {
   "cell_type": "code",
   "execution_count": null,
   "id": "75584158-f135-4b91-bb80-4266877f094f",
   "metadata": {},
   "outputs": [],
   "source": []
  },
  {
   "cell_type": "code",
   "execution_count": null,
   "id": "4b81045f-734d-403c-b39d-620495344793",
   "metadata": {},
   "outputs": [],
   "source": []
  },
  {
   "cell_type": "code",
   "execution_count": null,
   "id": "604ada6c-e80d-4a9f-a628-44b1a012e02f",
   "metadata": {},
   "outputs": [],
   "source": []
  },
  {
   "cell_type": "code",
   "execution_count": null,
   "id": "31022322-7544-43e2-af1f-99874baf82a2",
   "metadata": {},
   "outputs": [],
   "source": []
  }
 ],
 "metadata": {
  "kernelspec": {
   "display_name": "Python 3 (ipykernel)",
   "language": "python",
   "name": "python3"
  },
  "language_info": {
   "codemirror_mode": {
    "name": "ipython",
    "version": 3
   },
   "file_extension": ".py",
   "mimetype": "text/x-python",
   "name": "python",
   "nbconvert_exporter": "python",
   "pygments_lexer": "ipython3",
   "version": "3.11.4"
  }
 },
 "nbformat": 4,
 "nbformat_minor": 5
}
