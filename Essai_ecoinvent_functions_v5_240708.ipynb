{
 "cells": [
  {
   "cell_type": "markdown",
   "id": "33a5aee1-e633-46e1-ac1d-ecaf9f28fbf9",
   "metadata": {},
   "source": [
    "# Change the name of the excel file with  inventory\n",
    "\n",
    "Runs the functions need"
   ]
  },
  {
   "cell_type": "code",
   "execution_count": 1,
   "id": "ff50b02d-7e0d-4f77-b6aa-beeebd0c8edb",
   "metadata": {},
   "outputs": [],
   "source": [
    "file_LCI_step0='' #TO CHANGE to the name of the excel file"
   ]
  },
  {
   "cell_type": "code",
   "execution_count": 14,
   "id": "2cda8e8d-2e23-48e7-aadc-b58594fe996c",
   "metadata": {},
   "outputs": [],
   "source": [
    "%run Functions_ei_v2_240708.ipynb"
   ]
  },
  {
   "cell_type": "markdown",
   "id": "b84b233f-d2b8-4006-9cb8-3253fdc53dd8",
   "metadata": {},
   "source": [
    "# Code: From LCI collection to ecoinvent names"
   ]
  },
  {
   "cell_type": "markdown",
   "id": "a91f4b2e-ad4c-4e28-9e22-449149516a86",
   "metadata": {},
   "source": [
    "First cell: Check that all the sheets with data are named like that 'PRi_XXX' with i the number of the route. Also check if no other sheet have \"PR\" in their name."
   ]
  },
  {
   "cell_type": "code",
   "execution_count": 5,
   "id": "2590c0ec-e7f8-44b9-b691-11b7a1f4088d",
   "metadata": {},
   "outputs": [
    {
     "data": {
      "text/plain": [
       "['PR1_WC_China',\n",
       " 'PR2_WC_UnitedStates',\n",
       " 'PR3_WC_Europe',\n",
       " 'PR4_APT_Europe_Recycling']"
      ]
     },
     "execution_count": 5,
     "metadata": {},
     "output_type": "execute_result"
    }
   ],
   "source": [
    "doc=pd.ExcelFile(path_step0)\n",
    "all_sheets=doc.sheet_names#.str.contains('PR')\n",
    "sheet_names_list = [name for name in all_sheets if \"PR\" in name] #change with startwith \n",
    "sheet_names_list"
   ]
  },
  {
   "cell_type": "code",
   "execution_count": 7,
   "id": "d51d029a-ccbe-470e-aefc-c27775a3b08f",
   "metadata": {},
   "outputs": [],
   "source": [
    "create_blue(path_step0,sheet_names_list,path_step1)"
   ]
  },
  {
   "cell_type": "markdown",
   "id": "15142fa2-ead5-4635-ba0e-7c330ee61a8d",
   "metadata": {},
   "source": [
    "# Manual: Need to fill columns:\n",
    "\n",
    "O (Ei - Activity name), you can use the file Database-Overview-for-ecoinvent-v3.9.1.xlsx, sheet cut-off AO in the folder Data_python\n",
    "\n",
    "P (Elementary flow), you can use the file  Database-Overview-for-ecoinvent-v3.9.1.xlsx, sheet elementary exchanges in the folder Data_python\n",
    "\n",
    "T (Ei - location), use the ecoinvent names. This only need to be filled for the activity"
   ]
  },
  {
   "cell_type": "markdown",
   "id": "9b06fcc3-01de-4ace-97c1-43a7b23ea591",
   "metadata": {},
   "source": [
    "# Code: Automatic filling reference product (column L), prefered EI unit (column U), check country attribution (column T) and category for elementary flow (column R)"
   ]
  },
  {
   "cell_type": "markdown",
   "id": "6513133d-139a-4f48-8cf5-798e0bd56cd0",
   "metadata": {},
   "source": [
    "Run the next 2 cells \n",
    "\n",
    "Cell 1: recheck the name of the sheets\n",
    "\n",
    "Cell 2: if there is no problem in the country attribution you can save it. Else check the spelling or that the location is too precise for ecoinvent and need a broader scale and run again the cell"
   ]
  },
  {
   "cell_type": "code",
   "execution_count": 8,
   "id": "4399937c-9652-463c-92c6-a706373851d6",
   "metadata": {},
   "outputs": [
    {
     "data": {
      "text/plain": [
       "['PR1_WC_China',\n",
       " 'PR2_WC_UnitedStates',\n",
       " 'PR3_WC_Europe',\n",
       " 'PR4_APT_Europe_Recycling']"
      ]
     },
     "execution_count": 8,
     "metadata": {},
     "output_type": "execute_result"
    }
   ],
   "source": [
    "doc=pd.ExcelFile(path_step1)\n",
    "all_sheets_model=doc.sheet_names#.str.contains('PR')\n",
    "sheet_names_list_model = [name for name in all_sheets_model if \"PR\" in name] #change with startwith \n",
    "sheet_names_list_model"
   ]
  },
  {
   "cell_type": "code",
   "execution_count": 9,
   "id": "c30f2a1a-3491-4f6b-9acf-5178438d6e50",
   "metadata": {},
   "outputs": [
    {
     "name": "stdout",
     "output_type": "stream",
     "text": [
      "The production route is PR1_WC_China\n"
     ]
    },
    {
     "data": {
      "application/vnd.jupyter.widget-view+json": {
       "model_id": "ecd289f3e7824f03a121c75df026691a",
       "version_major": 2,
       "version_minor": 0
      },
      "text/plain": [
       "RadioButtons(description='Choose the best option for the activity: treatment of sewage sludge, 75% water, WWT,…"
      ]
     },
     "metadata": {},
     "output_type": "display_data"
    },
    {
     "data": {
      "application/vnd.jupyter.widget-view+json": {
       "model_id": "786677bdd3e541e7910535722645aa0e",
       "version_major": 2,
       "version_minor": 0
      },
      "text/plain": [
       "RadioButtons(description='Choose the best option for the activity: treatment of sewage sludge, 75% water, WWT,…"
      ]
     },
     "metadata": {},
     "output_type": "display_data"
    },
    {
     "data": {
      "application/vnd.jupyter.widget-view+json": {
       "model_id": "63d02703c9bf4d2490d29f376e788ef4",
       "version_major": 2,
       "version_minor": 0
      },
      "text/plain": [
       "Button(description='Click when good', style=ButtonStyle())"
      ]
     },
     "metadata": {},
     "output_type": "display_data"
    },
    {
     "data": {
      "application/vnd.jupyter.widget-view+json": {
       "model_id": "fbce514042bc4bd2b4336c099ff6a2eb",
       "version_major": 2,
       "version_minor": 0
      },
      "text/plain": [
       "Output()"
      ]
     },
     "metadata": {},
     "output_type": "display_data"
    },
    {
     "name": "stdout",
     "output_type": "stream",
     "text": [
      "FOR THIS ELEMENTARY FLOW: Waste water THERE IS NO CORRESPONDING IN THE ECOINVENT DATABASE\n",
      "There is no problem in the country attribution + in the names of activity and elementary flows\n",
      "The production route is PR2_WC_UnitedStates\n",
      "There is no problem in the country attribution + in the names of activity and elementary flows\n",
      "The production route is PR3_WC_Europe\n",
      "There is no problem in the country attribution + in the names of activity and elementary flows\n",
      "The production route is PR4_APT_Europe_Recycling\n",
      "There is no problem in the country attribution + in the names of activity and elementary flows\n"
     ]
    }
   ],
   "source": [
    "fill_ei_product(1,sheet_names_list_model,dict_flow_efcat,dict_unit,ei_ef_data)"
   ]
  },
  {
   "cell_type": "markdown",
   "id": "7d3ce6b9-d67a-469f-a88e-4c11741681d5",
   "metadata": {},
   "source": [
    "#  MANUAL fill the modelling step 2 file\n",
    "\n",
    "Only the X column is used and must be filled in, the V and W columns can be used to help with the calculations\n",
    "\n",
    "\n",
    "\"Modified value to ei unit\" (column V): the preferred unit of ecoinvent is filled automatically at the previous step, this column is for the conversion from the unit reported by the author to the one for ecoivent\n",
    "\n",
    "\n",
    "\"modified value  (ref flow BW activity)\" (column W): this column is to modify the value to the amount of the activity. For example, 1kg of tungsten concentrate or 1kg of tungsten carbide powder, that will be then used to model the production route\n",
    "\n",
    "\n",
    "\"modified value allocated flow\" (column X): if the production route is allocated, this column is to transform the value to the allocated flow. If there is no allocation it is the same value as column W .\n",
    "\n",
    "\n",
    "For elementary flows fill in the subcategory (column S) where needed"
   ]
  },
  {
   "cell_type": "markdown",
   "id": "3111c5f9-f895-4322-bf22-b80b588cc660",
   "metadata": {},
   "source": [
    " # Code: From LCI with ei names to BW template\n",
    "\n",
    "Automatically transform the template to the BW template. \n",
    "\n",
    "\n",
    "You need to precise some data for the different activity.     \n",
    "The amount and unit values, must be the ones you convert the values in the previous step  \n",
    "You check all the unit operations (as reported by the authors) that correspond to the activity name  \n",
    "This form will appear until you have check “If it is the last operation”, when all the unit operation has been selected you can check it, at the same time as other unit operation  \n"
   ]
  },
  {
   "cell_type": "code",
   "execution_count": 15,
   "id": "6d7164db-0f64-4c4d-aab2-fda4e040adf0",
   "metadata": {},
   "outputs": [
    {
     "name": "stdout",
     "output_type": "stream",
     "text": [
      "The production route is PR1_WC_China\n"
     ]
    },
    {
     "data": {
      "application/vnd.jupyter.widget-view+json": {
       "model_id": "a05268a0920f4f379d8a42715a33dc43",
       "version_major": 2,
       "version_minor": 0
      },
      "text/plain": [
       "Text(value='', description='Activity name')"
      ]
     },
     "metadata": {},
     "output_type": "display_data"
    },
    {
     "data": {
      "application/vnd.jupyter.widget-view+json": {
       "model_id": "6d072f37b35845e0bb73015cd0157973",
       "version_major": 2,
       "version_minor": 0
      },
      "text/plain": [
       "Text(value='', description='Reference product')"
      ]
     },
     "metadata": {},
     "output_type": "display_data"
    },
    {
     "data": {
      "application/vnd.jupyter.widget-view+json": {
       "model_id": "6d8f1afc6dd146d291564e23fddd42cc",
       "version_major": 2,
       "version_minor": 0
      },
      "text/plain": [
       "Text(value='', description='Location')"
      ]
     },
     "metadata": {},
     "output_type": "display_data"
    },
    {
     "data": {
      "application/vnd.jupyter.widget-view+json": {
       "model_id": "9da595c99f154ffcbdfb706669a0818a",
       "version_major": 2,
       "version_minor": 0
      },
      "text/plain": [
       "Text(value='', description='Amount')"
      ]
     },
     "metadata": {},
     "output_type": "display_data"
    },
    {
     "data": {
      "application/vnd.jupyter.widget-view+json": {
       "model_id": "86253cf649834bcc98fdfe13e0f46f65",
       "version_major": 2,
       "version_minor": 0
      },
      "text/plain": [
       "Dropdown(description='Unit', options=('cubic meter', 'kilogram', 'kilowatt hour', 'megajoule', 'unit', 'ton ki…"
      ]
     },
     "metadata": {},
     "output_type": "display_data"
    },
    {
     "data": {
      "application/vnd.jupyter.widget-view+json": {
       "model_id": "716855a070484727b3a454c99dced8f1",
       "version_major": 2,
       "version_minor": 0
      },
      "text/plain": [
       "Text(value='n/a', description='Comment')"
      ]
     },
     "metadata": {},
     "output_type": "display_data"
    },
    {
     "data": {
      "application/vnd.jupyter.widget-view+json": {
       "model_id": "75e8e19247044ceba79476a0410d51e2",
       "version_major": 2,
       "version_minor": 0
      },
      "text/plain": [
       "VBox(children=(Checkbox(value=False, description='W ore mining'), Checkbox(value=False, description='W concent…"
      ]
     },
     "metadata": {},
     "output_type": "display_data"
    },
    {
     "data": {
      "application/vnd.jupyter.widget-view+json": {
       "model_id": "ff4a5ba834974a7da5ebd74edd7bb378",
       "version_major": 2,
       "version_minor": 0
      },
      "text/plain": [
       "Checkbox(value=False, description='If it is the last operation')"
      ]
     },
     "metadata": {},
     "output_type": "display_data"
    },
    {
     "data": {
      "application/vnd.jupyter.widget-view+json": {
       "model_id": "f0bbabf36c39486db135b2e775334b3e",
       "version_major": 2,
       "version_minor": 0
      },
      "text/plain": [
       "Button(description='Click when good', style=ButtonStyle())"
      ]
     },
     "metadata": {},
     "output_type": "display_data"
    },
    {
     "data": {
      "application/vnd.jupyter.widget-view+json": {
       "model_id": "fa2aa0d8ae9342fbb3bb66e0f0879275",
       "version_major": 2,
       "version_minor": 0
      },
      "text/plain": [
       "Output()"
      ]
     },
     "metadata": {},
     "output_type": "display_data"
    },
    {
     "data": {
      "application/vnd.jupyter.widget-view+json": {
       "model_id": "8dbab0357cc44857b5f97e660d90cc22",
       "version_major": 2,
       "version_minor": 0
      },
      "text/plain": [
       "Text(value='', description='Activity name')"
      ]
     },
     "metadata": {},
     "output_type": "display_data"
    },
    {
     "data": {
      "application/vnd.jupyter.widget-view+json": {
       "model_id": "2c36de6d05434dae92b872491f3c22f0",
       "version_major": 2,
       "version_minor": 0
      },
      "text/plain": [
       "Text(value='', description='Reference product')"
      ]
     },
     "metadata": {},
     "output_type": "display_data"
    },
    {
     "data": {
      "application/vnd.jupyter.widget-view+json": {
       "model_id": "c5613f0a03fa492494216ca76954fb20",
       "version_major": 2,
       "version_minor": 0
      },
      "text/plain": [
       "Text(value='', description='Location')"
      ]
     },
     "metadata": {},
     "output_type": "display_data"
    },
    {
     "data": {
      "application/vnd.jupyter.widget-view+json": {
       "model_id": "41ef610330c44d0885d26454e0adb57e",
       "version_major": 2,
       "version_minor": 0
      },
      "text/plain": [
       "Text(value='', description='Amount')"
      ]
     },
     "metadata": {},
     "output_type": "display_data"
    },
    {
     "data": {
      "application/vnd.jupyter.widget-view+json": {
       "model_id": "fe39cd1339d04d5cb5eadb7fed191abc",
       "version_major": 2,
       "version_minor": 0
      },
      "text/plain": [
       "Dropdown(description='Unit', options=('cubic meter', 'kilogram', 'kilowatt hour', 'megajoule', 'unit', 'ton ki…"
      ]
     },
     "metadata": {},
     "output_type": "display_data"
    },
    {
     "data": {
      "application/vnd.jupyter.widget-view+json": {
       "model_id": "48fa7301e60a40da82e456ab6ddf855b",
       "version_major": 2,
       "version_minor": 0
      },
      "text/plain": [
       "Text(value='n/a', description='Comment')"
      ]
     },
     "metadata": {},
     "output_type": "display_data"
    },
    {
     "data": {
      "application/vnd.jupyter.widget-view+json": {
       "model_id": "311ea3437d524bab9b0dbef4c259f5e2",
       "version_major": 2,
       "version_minor": 0
      },
      "text/plain": [
       "VBox(children=(Checkbox(value=False, description='W ore mining'), Checkbox(value=False, description='W concent…"
      ]
     },
     "metadata": {},
     "output_type": "display_data"
    },
    {
     "data": {
      "application/vnd.jupyter.widget-view+json": {
       "model_id": "20147ad6eb0345148c6153ad0b8b78f1",
       "version_major": 2,
       "version_minor": 0
      },
      "text/plain": [
       "Checkbox(value=False, description='If it is the last operation')"
      ]
     },
     "metadata": {},
     "output_type": "display_data"
    },
    {
     "data": {
      "application/vnd.jupyter.widget-view+json": {
       "model_id": "e80be8f29ac04ba397bb56e2e27f2138",
       "version_major": 2,
       "version_minor": 0
      },
      "text/plain": [
       "Button(description='Click when good', style=ButtonStyle())"
      ]
     },
     "metadata": {},
     "output_type": "display_data"
    },
    {
     "data": {
      "application/vnd.jupyter.widget-view+json": {
       "model_id": "01312a55b9a44f799f4de5f52c43b288",
       "version_major": 2,
       "version_minor": 0
      },
      "text/plain": [
       "Output()"
      ]
     },
     "metadata": {},
     "output_type": "display_data"
    },
    {
     "name": "stdout",
     "output_type": "stream",
     "text": [
      "The production route is PR2_WC_UnitedStates\n"
     ]
    },
    {
     "data": {
      "application/vnd.jupyter.widget-view+json": {
       "model_id": "851663fd957044319d97d138578e5127",
       "version_major": 2,
       "version_minor": 0
      },
      "text/plain": [
       "Text(value='', description='Activity name')"
      ]
     },
     "metadata": {},
     "output_type": "display_data"
    },
    {
     "data": {
      "application/vnd.jupyter.widget-view+json": {
       "model_id": "4c76e6fcc5b14e1ba980dc8f03c27cee",
       "version_major": 2,
       "version_minor": 0
      },
      "text/plain": [
       "Text(value='', description='Reference product')"
      ]
     },
     "metadata": {},
     "output_type": "display_data"
    },
    {
     "data": {
      "application/vnd.jupyter.widget-view+json": {
       "model_id": "a73454b760024be0b70d5c7967be0bdb",
       "version_major": 2,
       "version_minor": 0
      },
      "text/plain": [
       "Text(value='', description='Location')"
      ]
     },
     "metadata": {},
     "output_type": "display_data"
    },
    {
     "data": {
      "application/vnd.jupyter.widget-view+json": {
       "model_id": "82c709ae6436407c910ee9d8c3bbefee",
       "version_major": 2,
       "version_minor": 0
      },
      "text/plain": [
       "Text(value='', description='Amount')"
      ]
     },
     "metadata": {},
     "output_type": "display_data"
    },
    {
     "data": {
      "application/vnd.jupyter.widget-view+json": {
       "model_id": "8883973d99fb4ba0a874ad42ccb086e3",
       "version_major": 2,
       "version_minor": 0
      },
      "text/plain": [
       "Dropdown(description='Unit', options=('cubic meter', 'kilogram', 'kilowatt hour', 'megajoule', 'unit', 'ton ki…"
      ]
     },
     "metadata": {},
     "output_type": "display_data"
    },
    {
     "data": {
      "application/vnd.jupyter.widget-view+json": {
       "model_id": "8bb168db80064a3591c5549c3ddcdc47",
       "version_major": 2,
       "version_minor": 0
      },
      "text/plain": [
       "Text(value='n/a', description='Comment')"
      ]
     },
     "metadata": {},
     "output_type": "display_data"
    },
    {
     "data": {
      "application/vnd.jupyter.widget-view+json": {
       "model_id": "b3504f2e3ed04d149462d9b46d081e45",
       "version_major": 2,
       "version_minor": 0
      },
      "text/plain": [
       "VBox(children=(Checkbox(value=False, description='Mining'), Checkbox(value=False, description='Transport'), Ch…"
      ]
     },
     "metadata": {},
     "output_type": "display_data"
    },
    {
     "data": {
      "application/vnd.jupyter.widget-view+json": {
       "model_id": "fa864c8daf4647eca54266ce4fd6c5b9",
       "version_major": 2,
       "version_minor": 0
      },
      "text/plain": [
       "Checkbox(value=False, description='If it is the last operation')"
      ]
     },
     "metadata": {},
     "output_type": "display_data"
    },
    {
     "data": {
      "application/vnd.jupyter.widget-view+json": {
       "model_id": "79252415b9e64a1ea48d1daaf9600907",
       "version_major": 2,
       "version_minor": 0
      },
      "text/plain": [
       "Button(description='Click when good', style=ButtonStyle())"
      ]
     },
     "metadata": {},
     "output_type": "display_data"
    },
    {
     "data": {
      "application/vnd.jupyter.widget-view+json": {
       "model_id": "1c155ece835d48819eea16e51e883737",
       "version_major": 2,
       "version_minor": 0
      },
      "text/plain": [
       "Output()"
      ]
     },
     "metadata": {},
     "output_type": "display_data"
    },
    {
     "name": "stdout",
     "output_type": "stream",
     "text": [
      "The production route is PR3_WC_Europe\n"
     ]
    },
    {
     "data": {
      "application/vnd.jupyter.widget-view+json": {
       "model_id": "6f116e83cfb64f11aff6e35fc91f02f4",
       "version_major": 2,
       "version_minor": 0
      },
      "text/plain": [
       "Text(value='', description='Activity name')"
      ]
     },
     "metadata": {},
     "output_type": "display_data"
    },
    {
     "data": {
      "application/vnd.jupyter.widget-view+json": {
       "model_id": "989e52d5d581457590da050fd73aa31e",
       "version_major": 2,
       "version_minor": 0
      },
      "text/plain": [
       "Text(value='', description='Reference product')"
      ]
     },
     "metadata": {},
     "output_type": "display_data"
    },
    {
     "data": {
      "application/vnd.jupyter.widget-view+json": {
       "model_id": "a80aa6342ccf446db46510512871f95c",
       "version_major": 2,
       "version_minor": 0
      },
      "text/plain": [
       "Text(value='', description='Location')"
      ]
     },
     "metadata": {},
     "output_type": "display_data"
    },
    {
     "data": {
      "application/vnd.jupyter.widget-view+json": {
       "model_id": "bc666fe3f2c948cd8f5fde1b349b9b12",
       "version_major": 2,
       "version_minor": 0
      },
      "text/plain": [
       "Text(value='', description='Amount')"
      ]
     },
     "metadata": {},
     "output_type": "display_data"
    },
    {
     "data": {
      "application/vnd.jupyter.widget-view+json": {
       "model_id": "57f2874739ff484480094b9d6cfa78f8",
       "version_major": 2,
       "version_minor": 0
      },
      "text/plain": [
       "Dropdown(description='Unit', options=('cubic meter', 'kilogram', 'kilowatt hour', 'megajoule', 'unit', 'ton ki…"
      ]
     },
     "metadata": {},
     "output_type": "display_data"
    },
    {
     "data": {
      "application/vnd.jupyter.widget-view+json": {
       "model_id": "2d451b333da14120862c2965f53b46f2",
       "version_major": 2,
       "version_minor": 0
      },
      "text/plain": [
       "Text(value='n/a', description='Comment')"
      ]
     },
     "metadata": {},
     "output_type": "display_data"
    },
    {
     "data": {
      "application/vnd.jupyter.widget-view+json": {
       "model_id": "393cf3807c14451d9fe6083cece514d2",
       "version_major": 2,
       "version_minor": 0
      },
      "text/plain": [
       "VBox(children=(Checkbox(value=False, description='WO3 production'), Checkbox(value=False, description='WC prod…"
      ]
     },
     "metadata": {},
     "output_type": "display_data"
    },
    {
     "data": {
      "application/vnd.jupyter.widget-view+json": {
       "model_id": "9cff38984a1a46db991f6f1d2fdcf3a0",
       "version_major": 2,
       "version_minor": 0
      },
      "text/plain": [
       "Checkbox(value=False, description='If it is the last operation')"
      ]
     },
     "metadata": {},
     "output_type": "display_data"
    },
    {
     "data": {
      "application/vnd.jupyter.widget-view+json": {
       "model_id": "f9336c274c1b46b193f03da5bdb535b0",
       "version_major": 2,
       "version_minor": 0
      },
      "text/plain": [
       "Button(description='Click when good', style=ButtonStyle())"
      ]
     },
     "metadata": {},
     "output_type": "display_data"
    },
    {
     "data": {
      "application/vnd.jupyter.widget-view+json": {
       "model_id": "64fea2a6920c4873a11919974563f974",
       "version_major": 2,
       "version_minor": 0
      },
      "text/plain": [
       "Output()"
      ]
     },
     "metadata": {},
     "output_type": "display_data"
    },
    {
     "name": "stdout",
     "output_type": "stream",
     "text": [
      "The production route is PR4_APT_Europe_Recycling\n"
     ]
    },
    {
     "data": {
      "application/vnd.jupyter.widget-view+json": {
       "model_id": "db811a15071c47da94116d1e64e20062",
       "version_major": 2,
       "version_minor": 0
      },
      "text/plain": [
       "Text(value='', description='Activity name')"
      ]
     },
     "metadata": {},
     "output_type": "display_data"
    },
    {
     "data": {
      "application/vnd.jupyter.widget-view+json": {
       "model_id": "37f556be745b4660a02e1808256310fa",
       "version_major": 2,
       "version_minor": 0
      },
      "text/plain": [
       "Text(value='', description='Reference product')"
      ]
     },
     "metadata": {},
     "output_type": "display_data"
    },
    {
     "data": {
      "application/vnd.jupyter.widget-view+json": {
       "model_id": "281448c76d98422ea122e9c572a44891",
       "version_major": 2,
       "version_minor": 0
      },
      "text/plain": [
       "Text(value='', description='Location')"
      ]
     },
     "metadata": {},
     "output_type": "display_data"
    },
    {
     "data": {
      "application/vnd.jupyter.widget-view+json": {
       "model_id": "12827508c1354fe9972416526605d348",
       "version_major": 2,
       "version_minor": 0
      },
      "text/plain": [
       "Text(value='', description='Amount')"
      ]
     },
     "metadata": {},
     "output_type": "display_data"
    },
    {
     "data": {
      "application/vnd.jupyter.widget-view+json": {
       "model_id": "11c7e60f615449eab90c221117e33083",
       "version_major": 2,
       "version_minor": 0
      },
      "text/plain": [
       "Dropdown(description='Unit', options=('cubic meter', 'kilogram', 'kilowatt hour', 'megajoule', 'unit', 'ton ki…"
      ]
     },
     "metadata": {},
     "output_type": "display_data"
    },
    {
     "data": {
      "application/vnd.jupyter.widget-view+json": {
       "model_id": "eeb00576d6354821944fe431f2873dbe",
       "version_major": 2,
       "version_minor": 0
      },
      "text/plain": [
       "Text(value='n/a', description='Comment')"
      ]
     },
     "metadata": {},
     "output_type": "display_data"
    },
    {
     "data": {
      "application/vnd.jupyter.widget-view+json": {
       "model_id": "4d5978c1363b44e8b484fa1df82cf021",
       "version_major": 2,
       "version_minor": 0
      },
      "text/plain": [
       "VBox(children=(Checkbox(value=False, description='Oxidation'), Checkbox(value=False, description='Alkali leach…"
      ]
     },
     "metadata": {},
     "output_type": "display_data"
    },
    {
     "data": {
      "application/vnd.jupyter.widget-view+json": {
       "model_id": "5f64304141514215a25cc1267044cdeb",
       "version_major": 2,
       "version_minor": 0
      },
      "text/plain": [
       "Checkbox(value=False, description='If it is the last operation')"
      ]
     },
     "metadata": {},
     "output_type": "display_data"
    },
    {
     "data": {
      "application/vnd.jupyter.widget-view+json": {
       "model_id": "b03e451b975c4e4ebb49205039b68afb",
       "version_major": 2,
       "version_minor": 0
      },
      "text/plain": [
       "Button(description='Click when good', style=ButtonStyle())"
      ]
     },
     "metadata": {},
     "output_type": "display_data"
    },
    {
     "data": {
      "application/vnd.jupyter.widget-view+json": {
       "model_id": "fcd37b63d6274c5bbb1051a9f4270d22",
       "version_major": 2,
       "version_minor": 0
      },
      "text/plain": [
       "Output()"
      ]
     },
     "metadata": {},
     "output_type": "display_data"
    }
   ],
   "source": [
    "createBW(sheet_names_list_model)"
   ]
  },
  {
   "cell_type": "markdown",
   "id": "06bf0a39-2462-46b2-b9e9-1235052d1096",
   "metadata": {},
   "source": [
    "# END"
   ]
  },
  {
   "cell_type": "code",
   "execution_count": null,
   "id": "348aa765-5c95-4682-9a8d-f9d09997a4be",
   "metadata": {},
   "outputs": [],
   "source": []
  },
  {
   "cell_type": "code",
   "execution_count": null,
   "id": "139e267e-4526-4f31-b6aa-e072d53cf0fc",
   "metadata": {},
   "outputs": [],
   "source": []
  },
  {
   "cell_type": "code",
   "execution_count": null,
   "id": "b44a8b92-e4ce-4cce-ab4f-10589e9e13cf",
   "metadata": {},
   "outputs": [],
   "source": []
  },
  {
   "cell_type": "code",
   "execution_count": null,
   "id": "aa0c001c-df13-4811-a522-0e2f51310e6f",
   "metadata": {},
   "outputs": [],
   "source": []
  },
  {
   "cell_type": "code",
   "execution_count": null,
   "id": "3d136e2d-c501-48d4-92e0-4f2c8835d28e",
   "metadata": {},
   "outputs": [],
   "source": []
  },
  {
   "cell_type": "code",
   "execution_count": null,
   "id": "e7ca9950-2d06-47f7-9fff-9293f673429e",
   "metadata": {},
   "outputs": [],
   "source": []
  },
  {
   "cell_type": "code",
   "execution_count": null,
   "id": "342de713-92b5-48de-8f5b-96789db351ec",
   "metadata": {},
   "outputs": [],
   "source": []
  },
  {
   "cell_type": "code",
   "execution_count": null,
   "id": "fefe3aa3-cb1b-41c2-8714-d5d50db3f007",
   "metadata": {},
   "outputs": [],
   "source": []
  },
  {
   "cell_type": "code",
   "execution_count": null,
   "id": "96e0f0f6-7690-4a93-8a1b-209aeabf23c9",
   "metadata": {},
   "outputs": [],
   "source": []
  },
  {
   "cell_type": "code",
   "execution_count": null,
   "id": "75584158-f135-4b91-bb80-4266877f094f",
   "metadata": {},
   "outputs": [],
   "source": []
  },
  {
   "cell_type": "code",
   "execution_count": null,
   "id": "4b81045f-734d-403c-b39d-620495344793",
   "metadata": {},
   "outputs": [],
   "source": []
  },
  {
   "cell_type": "code",
   "execution_count": null,
   "id": "604ada6c-e80d-4a9f-a628-44b1a012e02f",
   "metadata": {},
   "outputs": [],
   "source": []
  },
  {
   "cell_type": "code",
   "execution_count": null,
   "id": "31022322-7544-43e2-af1f-99874baf82a2",
   "metadata": {},
   "outputs": [],
   "source": []
  }
 ],
 "metadata": {
  "kernelspec": {
   "display_name": "Python 3 (ipykernel)",
   "language": "python",
   "name": "python3"
  },
  "language_info": {
   "codemirror_mode": {
    "name": "ipython",
    "version": 3
   },
   "file_extension": ".py",
   "mimetype": "text/x-python",
   "name": "python",
   "nbconvert_exporter": "python",
   "pygments_lexer": "ipython3",
   "version": "3.11.4"
  }
 },
 "nbformat": 4,
 "nbformat_minor": 5
}
