{
 "cells": [
  {
   "cell_type": "markdown",
   "id": "33a5aee1-e633-46e1-ac1d-ecaf9f28fbf9",
   "metadata": {},
   "source": [
    "# Change the name of the excel file with  inventory\n",
    "\n",
    "Runs the functions need"
   ]
  },
  {
   "cell_type": "code",
   "execution_count": 6,
   "id": "ff50b02d-7e0d-4f77-b6aa-beeebd0c8edb",
   "metadata": {},
   "outputs": [],
   "source": [
    "file_LCI_step0='' #TO CHANGE to the name of the excel file"
   ]
  },
  {
   "cell_type": "code",
   "execution_count": 24,
   "id": "2cda8e8d-2e23-48e7-aadc-b58594fe996c",
   "metadata": {},
   "outputs": [],
   "source": [
    "%run Functions_ei_v1.ipynb"
   ]
  },
  {
   "cell_type": "markdown",
   "id": "b84b233f-d2b8-4006-9cb8-3253fdc53dd8",
   "metadata": {},
   "source": [
    "# Code: From green to blue"
   ]
  },
  {
   "cell_type": "markdown",
   "id": "a91f4b2e-ad4c-4e28-9e22-449149516a86",
   "metadata": {},
   "source": [
    "Check that all the sheets with data are named like that 'PRi_XXX' with i the number of the route\n",
    "\n",
    "Also check if no other sheet have \"PR\" in their name"
   ]
  },
  {
   "cell_type": "code",
   "execution_count": 12,
   "id": "2590c0ec-e7f8-44b9-b691-11b7a1f4088d",
   "metadata": {},
   "outputs": [
    {
     "data": {
      "text/plain": [
       "['PR1_WC_China',\n",
       " 'PR2_WC_UnitedStates',\n",
       " 'PR3_WC_Europe',\n",
       " 'PR4_APT_Europe_Recycling']"
      ]
     },
     "execution_count": 12,
     "metadata": {},
     "output_type": "execute_result"
    }
   ],
   "source": [
    "\n",
    "doc=pd.ExcelFile(path_step0)\n",
    "all_sheets=doc.sheet_names#.str.contains('PR')\n",
    "sheet_names_list = [name for name in all_sheets if \"PR\" in name] #change with startwith \n",
    "sheet_names_list"
   ]
  },
  {
   "cell_type": "code",
   "execution_count": 13,
   "id": "d51d029a-ccbe-470e-aefc-c27775a3b08f",
   "metadata": {},
   "outputs": [],
   "source": [
    "create_blue(path_step0,sheet_names_list,path_step1)"
   ]
  },
  {
   "cell_type": "markdown",
   "id": "15142fa2-ead5-4635-ba0e-7c330ee61a8d",
   "metadata": {},
   "source": [
    "# Manual: Need to fill columns:\n",
    "\n",
    "J (Ei - Activity name), you can use the file Database-Overview-for-ecoinvent-v3.9.1.xlsx, sheet cut-off AO in the folder Data_python\n",
    "\n",
    "K (Elementary flow), you can use the file  Database-Overview-for-ecoinvent-v3.9.1.xlsx, sheet elementary exchanges in the folder Data_python\n",
    "\n",
    "O (Ei - location), use the ecoinvent names (maybe create an excel with all the names? )"
   ]
  },
  {
   "cell_type": "markdown",
   "id": "9b06fcc3-01de-4ace-97c1-43a7b23ea591",
   "metadata": {},
   "source": [
    "# Code: Fill column L and check column N and add unit (column O)"
   ]
  },
  {
   "cell_type": "markdown",
   "id": "6513133d-139a-4f48-8cf5-798e0bd56cd0",
   "metadata": {},
   "source": [
    "Run the next cell if there is no problem in the country attribution you can save it else check the spelling it can also be that the location is to precise for ecoinvent and run again the cell"
   ]
  },
  {
   "cell_type": "code",
   "execution_count": 14,
   "id": "4399937c-9652-463c-92c6-a706373851d6",
   "metadata": {},
   "outputs": [
    {
     "data": {
      "text/plain": [
       "['PR1_LCI_Modelling',\n",
       " 'PR2_LCI_Modelling',\n",
       " 'PR3_LCI_Modelling',\n",
       " 'PR4_LCI_Modelling']"
      ]
     },
     "execution_count": 14,
     "metadata": {},
     "output_type": "execute_result"
    }
   ],
   "source": [
    "doc=pd.ExcelFile(path_step1)\n",
    "all_sheets_model=doc.sheet_names#.str.contains('PR')\n",
    "sheet_names_list_model = [name for name in all_sheets_model if \"PR\" in name] #change with startwith \n",
    "sheet_names_list_model"
   ]
  },
  {
   "cell_type": "code",
   "execution_count": 18,
   "id": "c30f2a1a-3491-4f6b-9acf-5178438d6e50",
   "metadata": {},
   "outputs": [
    {
     "name": "stdout",
     "output_type": "stream",
     "text": [
      "The production route is PR1_LCI_Modelling\n"
     ]
    },
    {
     "data": {
      "application/vnd.jupyter.widget-view+json": {
       "model_id": "1ec29d2e2d0a4211bcc1c3072d7dd7de",
       "version_major": 2,
       "version_minor": 0
      },
      "text/plain": [
       "RadioButtons(description='Choose the best option for the activity:treatment of sewage sludge, 75% water, WWT, …"
      ]
     },
     "metadata": {},
     "output_type": "display_data"
    },
    {
     "data": {
      "application/vnd.jupyter.widget-view+json": {
       "model_id": "b5513adb9ff5462aa52dcdd818b639c8",
       "version_major": 2,
       "version_minor": 0
      },
      "text/plain": [
       "RadioButtons(description='Choose the best option for the activity:treatment of sewage sludge, 75% water, WWT, …"
      ]
     },
     "metadata": {},
     "output_type": "display_data"
    },
    {
     "data": {
      "application/vnd.jupyter.widget-view+json": {
       "model_id": "f0258e43c3794f15bc707a4b5093ee0a",
       "version_major": 2,
       "version_minor": 0
      },
      "text/plain": [
       "Button(description='Click when good', style=ButtonStyle())"
      ]
     },
     "metadata": {},
     "output_type": "display_data"
    },
    {
     "data": {
      "application/vnd.jupyter.widget-view+json": {
       "model_id": "9bc17ee9ad2749eb9442e0059eb155aa",
       "version_major": 2,
       "version_minor": 0
      },
      "text/plain": [
       "Output()"
      ]
     },
     "metadata": {},
     "output_type": "display_data"
    },
    {
     "name": "stdout",
     "output_type": "stream",
     "text": [
      "False\n",
      "False\n",
      "False\n",
      "False\n",
      "python waited for the button click\n",
      "There is no problem in the country attribution\n",
      "The production route is PR2_LCI_Modelling\n",
      "There is no problem in the country attribution\n",
      "The production route is PR3_LCI_Modelling\n",
      "There is no problem in the country attribution\n",
      "The production route is PR4_LCI_Modelling\n",
      "There is no problem in the country attribution\n"
     ]
    }
   ],
   "source": [
    "fill_ei_product(1,sheet_names_list_model,dict_flow_efcat,dict_unit,ei_ef_data)"
   ]
  },
  {
   "cell_type": "code",
   "execution_count": 5,
   "id": "1c42b07f-6524-40eb-9183-b09bb1844415",
   "metadata": {},
   "outputs": [],
   "source": [
    "####!!! need to create function for elementary flows\n",
    "\n",
    "\n",
    "# data_LCI_PRi_model_ef=data_LCI_PRi_model.loc[data_LCI_PRi_model['Elementary flow']==data_LCI_PRi_model['Elementary flow']]\n",
    "# list_ef=data_LCI_PRi_model_ef['Elementary flow'].drop_duplicates()\n",
    "\n",
    "#     # for ef in list_ef:\n",
    "#     #     unit_ef=ei_ef_data.loc[ei_ef_data['Name']==ef].loc[:,'Unit Name'].drop_duplicates() \n",
    "#     #     index_ef=data_LCI_PRi_model.loc[data_LCI_PRi_model['Elementary flow']==ef].index\n",
    "#     #     data_LCI_PRi_model.loc[index_ef,'Unit']=dict_unit[str(unit_ef.values[0])]\n",
    "\n",
    "# len(unit_ef)"
   ]
  },
  {
   "cell_type": "markdown",
   "id": "7d3ce6b9-d67a-469f-a88e-4c11741681d5",
   "metadata": {},
   "source": [
    "#  MANUAL fill the modelling step 2 file\n",
    "\n",
    "File the values column (check the unit and the reference flow for the LCA)\n",
    "\n",
    "for elementary flow fill the subcompartement where it is needed"
   ]
  },
  {
   "cell_type": "markdown",
   "id": "3111c5f9-f895-4322-bf22-b80b588cc660",
   "metadata": {},
   "source": [
    " # Code: From blue to BW format\n",
    "\n",
    " Comme avant ne fonctionne que pour PR1, si besoin changer sheet_name (à modifier)"
   ]
  },
  {
   "cell_type": "code",
   "execution_count": 25,
   "id": "6d7164db-0f64-4c4d-aab2-fda4e040adf0",
   "metadata": {},
   "outputs": [
    {
     "name": "stdout",
     "output_type": "stream",
     "text": [
      "The production route isPR1_LCI_Modelling\n"
     ]
    },
    {
     "data": {
      "application/vnd.jupyter.widget-view+json": {
       "model_id": "4627af656a2c4ac5aa3c450da3af5621",
       "version_major": 2,
       "version_minor": 0
      },
      "text/plain": [
       "Text(value='', description='Activity name')"
      ]
     },
     "metadata": {},
     "output_type": "display_data"
    },
    {
     "data": {
      "application/vnd.jupyter.widget-view+json": {
       "model_id": "5b5b431e432347f1952c3bb3a36ce37e",
       "version_major": 2,
       "version_minor": 0
      },
      "text/plain": [
       "Text(value='', description='Reference product')"
      ]
     },
     "metadata": {},
     "output_type": "display_data"
    },
    {
     "data": {
      "application/vnd.jupyter.widget-view+json": {
       "model_id": "86228103b27d4aa1a5b64d13b894a4b0",
       "version_major": 2,
       "version_minor": 0
      },
      "text/plain": [
       "Text(value='', description='Location')"
      ]
     },
     "metadata": {},
     "output_type": "display_data"
    },
    {
     "data": {
      "application/vnd.jupyter.widget-view+json": {
       "model_id": "21fc84d8f34744adbc2a8c3e58626c07",
       "version_major": 2,
       "version_minor": 0
      },
      "text/plain": [
       "Text(value='', description='Amount')"
      ]
     },
     "metadata": {},
     "output_type": "display_data"
    },
    {
     "data": {
      "application/vnd.jupyter.widget-view+json": {
       "model_id": "ccebd71696b94b5994de113fecd93080",
       "version_major": 2,
       "version_minor": 0
      },
      "text/plain": [
       "Dropdown(description='Unit', options=('cubic meter', 'kilogram', 'kilowatt hour', 'megajoule', 'unit', 'ton ki…"
      ]
     },
     "metadata": {},
     "output_type": "display_data"
    },
    {
     "data": {
      "application/vnd.jupyter.widget-view+json": {
       "model_id": "55e2ac72dc794abf962802e737a2245e",
       "version_major": 2,
       "version_minor": 0
      },
      "text/plain": [
       "Text(value='n/a', description='Comment')"
      ]
     },
     "metadata": {},
     "output_type": "display_data"
    },
    {
     "data": {
      "application/vnd.jupyter.widget-view+json": {
       "model_id": "1d2fe73d302a41b5b7e2ea8148012e2d",
       "version_major": 2,
       "version_minor": 0
      },
      "text/plain": [
       "Text(value='', description='Exchanges')"
      ]
     },
     "metadata": {},
     "output_type": "display_data"
    },
    {
     "data": {
      "application/vnd.jupyter.widget-view+json": {
       "model_id": "58e6b52f0c584f2bb6be4db2488c0051",
       "version_major": 2,
       "version_minor": 0
      },
      "text/plain": [
       "VBox(children=(Checkbox(value=False, description='W ore mining'), Checkbox(value=False, description='W concent…"
      ]
     },
     "metadata": {},
     "output_type": "display_data"
    },
    {
     "data": {
      "application/vnd.jupyter.widget-view+json": {
       "model_id": "841e65644b3745bdbc25b03782152a75",
       "version_major": 2,
       "version_minor": 0
      },
      "text/plain": [
       "Checkbox(value=False, description='If it is the last operation')"
      ]
     },
     "metadata": {},
     "output_type": "display_data"
    },
    {
     "data": {
      "application/vnd.jupyter.widget-view+json": {
       "model_id": "35be4c51a7eb4f6d87b74bfa2bd1c185",
       "version_major": 2,
       "version_minor": 0
      },
      "text/plain": [
       "Button(description='Click when good', style=ButtonStyle())"
      ]
     },
     "metadata": {},
     "output_type": "display_data"
    },
    {
     "data": {
      "application/vnd.jupyter.widget-view+json": {
       "model_id": "5f60441db4bc468fa2cadd6aa885d09f",
       "version_major": 2,
       "version_minor": 0
      },
      "text/plain": [
       "Output()"
      ]
     },
     "metadata": {},
     "output_type": "display_data"
    },
    {
     "name": "stdout",
     "output_type": "stream",
     "text": [
      "python waited for the button click\n"
     ]
    },
    {
     "data": {
      "application/vnd.jupyter.widget-view+json": {
       "model_id": "71d8ebbe915d4bf8b889b32ff811c30b",
       "version_major": 2,
       "version_minor": 0
      },
      "text/plain": [
       "Text(value='', description='Activity name')"
      ]
     },
     "metadata": {},
     "output_type": "display_data"
    },
    {
     "data": {
      "application/vnd.jupyter.widget-view+json": {
       "model_id": "a882dde426f74489ab29e2b931cd888d",
       "version_major": 2,
       "version_minor": 0
      },
      "text/plain": [
       "Text(value='', description='Reference product')"
      ]
     },
     "metadata": {},
     "output_type": "display_data"
    },
    {
     "data": {
      "application/vnd.jupyter.widget-view+json": {
       "model_id": "39b12132a59e46c9997002bc4a4a87b4",
       "version_major": 2,
       "version_minor": 0
      },
      "text/plain": [
       "Text(value='', description='Location')"
      ]
     },
     "metadata": {},
     "output_type": "display_data"
    },
    {
     "data": {
      "application/vnd.jupyter.widget-view+json": {
       "model_id": "ed1eee91bd1c4dc9a861f518bfe6a019",
       "version_major": 2,
       "version_minor": 0
      },
      "text/plain": [
       "Text(value='', description='Amount')"
      ]
     },
     "metadata": {},
     "output_type": "display_data"
    },
    {
     "data": {
      "application/vnd.jupyter.widget-view+json": {
       "model_id": "5f49e3e063fd4375af6a2426b7b59a8f",
       "version_major": 2,
       "version_minor": 0
      },
      "text/plain": [
       "Dropdown(description='Unit', options=('cubic meter', 'kilogram', 'kilowatt hour', 'megajoule', 'unit', 'ton ki…"
      ]
     },
     "metadata": {},
     "output_type": "display_data"
    },
    {
     "data": {
      "application/vnd.jupyter.widget-view+json": {
       "model_id": "62b9db5bfcac4804a5da6cc5f17af1e0",
       "version_major": 2,
       "version_minor": 0
      },
      "text/plain": [
       "Text(value='n/a', description='Comment')"
      ]
     },
     "metadata": {},
     "output_type": "display_data"
    },
    {
     "data": {
      "application/vnd.jupyter.widget-view+json": {
       "model_id": "772d433a83aa4b339f64bb394adbd70a",
       "version_major": 2,
       "version_minor": 0
      },
      "text/plain": [
       "Text(value='', description='Exchanges')"
      ]
     },
     "metadata": {},
     "output_type": "display_data"
    },
    {
     "data": {
      "application/vnd.jupyter.widget-view+json": {
       "model_id": "ecd3e41ff30945ef8fad2b1cd1ee2b4c",
       "version_major": 2,
       "version_minor": 0
      },
      "text/plain": [
       "VBox(children=(Checkbox(value=False, description='W ore mining'), Checkbox(value=False, description='W concent…"
      ]
     },
     "metadata": {},
     "output_type": "display_data"
    },
    {
     "data": {
      "application/vnd.jupyter.widget-view+json": {
       "model_id": "39b93fd96f36435193e2cd849d9ab395",
       "version_major": 2,
       "version_minor": 0
      },
      "text/plain": [
       "Checkbox(value=False, description='If it is the last operation')"
      ]
     },
     "metadata": {},
     "output_type": "display_data"
    },
    {
     "data": {
      "application/vnd.jupyter.widget-view+json": {
       "model_id": "df2afd8d9de047518385d4205dd837e6",
       "version_major": 2,
       "version_minor": 0
      },
      "text/plain": [
       "Button(description='Click when good', style=ButtonStyle())"
      ]
     },
     "metadata": {},
     "output_type": "display_data"
    },
    {
     "data": {
      "application/vnd.jupyter.widget-view+json": {
       "model_id": "5b12e6833ace4317891e6d6e5d9ef1c9",
       "version_major": 2,
       "version_minor": 0
      },
      "text/plain": [
       "Output()"
      ]
     },
     "metadata": {},
     "output_type": "display_data"
    },
    {
     "name": "stdout",
     "output_type": "stream",
     "text": [
      "python waited for the button click\n",
      "The production route isPR2_LCI_Modelling\n"
     ]
    },
    {
     "data": {
      "application/vnd.jupyter.widget-view+json": {
       "model_id": "b2fa56772db04566909c5091eb03b86e",
       "version_major": 2,
       "version_minor": 0
      },
      "text/plain": [
       "Text(value='', description='Activity name')"
      ]
     },
     "metadata": {},
     "output_type": "display_data"
    },
    {
     "data": {
      "application/vnd.jupyter.widget-view+json": {
       "model_id": "fc5f21f32e1b4aabb89bc3cf9fb5ae7c",
       "version_major": 2,
       "version_minor": 0
      },
      "text/plain": [
       "Text(value='', description='Reference product')"
      ]
     },
     "metadata": {},
     "output_type": "display_data"
    },
    {
     "data": {
      "application/vnd.jupyter.widget-view+json": {
       "model_id": "d9b14b9ead0341d58a0b29d1b001ef8f",
       "version_major": 2,
       "version_minor": 0
      },
      "text/plain": [
       "Text(value='', description='Location')"
      ]
     },
     "metadata": {},
     "output_type": "display_data"
    },
    {
     "data": {
      "application/vnd.jupyter.widget-view+json": {
       "model_id": "18b701e7a9114a1596904953c431973e",
       "version_major": 2,
       "version_minor": 0
      },
      "text/plain": [
       "Text(value='', description='Amount')"
      ]
     },
     "metadata": {},
     "output_type": "display_data"
    },
    {
     "data": {
      "application/vnd.jupyter.widget-view+json": {
       "model_id": "557daa608b184b1283975562c688cff4",
       "version_major": 2,
       "version_minor": 0
      },
      "text/plain": [
       "Dropdown(description='Unit', options=('cubic meter', 'kilogram', 'kilowatt hour', 'megajoule', 'unit', 'ton ki…"
      ]
     },
     "metadata": {},
     "output_type": "display_data"
    },
    {
     "data": {
      "application/vnd.jupyter.widget-view+json": {
       "model_id": "412a761fed6d457791ea7635a1bc3a1a",
       "version_major": 2,
       "version_minor": 0
      },
      "text/plain": [
       "Text(value='n/a', description='Comment')"
      ]
     },
     "metadata": {},
     "output_type": "display_data"
    },
    {
     "data": {
      "application/vnd.jupyter.widget-view+json": {
       "model_id": "51ce133770544a7f94169759b9241422",
       "version_major": 2,
       "version_minor": 0
      },
      "text/plain": [
       "Text(value='', description='Exchanges')"
      ]
     },
     "metadata": {},
     "output_type": "display_data"
    },
    {
     "data": {
      "application/vnd.jupyter.widget-view+json": {
       "model_id": "3b7d48d1fcce40c1bace291249d35be0",
       "version_major": 2,
       "version_minor": 0
      },
      "text/plain": [
       "VBox(children=(Checkbox(value=False, description='Mining'), Checkbox(value=False, description='Transport'), Ch…"
      ]
     },
     "metadata": {},
     "output_type": "display_data"
    },
    {
     "data": {
      "application/vnd.jupyter.widget-view+json": {
       "model_id": "42b7efbd5b6d47f0a694c795a5070621",
       "version_major": 2,
       "version_minor": 0
      },
      "text/plain": [
       "Checkbox(value=False, description='If it is the last operation')"
      ]
     },
     "metadata": {},
     "output_type": "display_data"
    },
    {
     "data": {
      "application/vnd.jupyter.widget-view+json": {
       "model_id": "c08677573dc04b39a15d75f33287c157",
       "version_major": 2,
       "version_minor": 0
      },
      "text/plain": [
       "Button(description='Click when good', style=ButtonStyle())"
      ]
     },
     "metadata": {},
     "output_type": "display_data"
    },
    {
     "data": {
      "application/vnd.jupyter.widget-view+json": {
       "model_id": "98402f28cc6c424ca1d8ab0d13502fab",
       "version_major": 2,
       "version_minor": 0
      },
      "text/plain": [
       "Output()"
      ]
     },
     "metadata": {},
     "output_type": "display_data"
    },
    {
     "name": "stdout",
     "output_type": "stream",
     "text": [
      "python waited for the button click\n",
      "The production route isPR3_LCI_Modelling\n"
     ]
    },
    {
     "data": {
      "application/vnd.jupyter.widget-view+json": {
       "model_id": "656d7f934d654fef84a5bce658d5187f",
       "version_major": 2,
       "version_minor": 0
      },
      "text/plain": [
       "Text(value='', description='Activity name')"
      ]
     },
     "metadata": {},
     "output_type": "display_data"
    },
    {
     "data": {
      "application/vnd.jupyter.widget-view+json": {
       "model_id": "6a21acb77b594f5790fab5d4b7804365",
       "version_major": 2,
       "version_minor": 0
      },
      "text/plain": [
       "Text(value='', description='Reference product')"
      ]
     },
     "metadata": {},
     "output_type": "display_data"
    },
    {
     "data": {
      "application/vnd.jupyter.widget-view+json": {
       "model_id": "555abf7e3a9941259c86d384e193a969",
       "version_major": 2,
       "version_minor": 0
      },
      "text/plain": [
       "Text(value='', description='Location')"
      ]
     },
     "metadata": {},
     "output_type": "display_data"
    },
    {
     "data": {
      "application/vnd.jupyter.widget-view+json": {
       "model_id": "f02237f892934264b475d535c70155f0",
       "version_major": 2,
       "version_minor": 0
      },
      "text/plain": [
       "Text(value='', description='Amount')"
      ]
     },
     "metadata": {},
     "output_type": "display_data"
    },
    {
     "data": {
      "application/vnd.jupyter.widget-view+json": {
       "model_id": "a3779fcc5d3c4bd39dfb1e27cb97bd62",
       "version_major": 2,
       "version_minor": 0
      },
      "text/plain": [
       "Dropdown(description='Unit', options=('cubic meter', 'kilogram', 'kilowatt hour', 'megajoule', 'unit', 'ton ki…"
      ]
     },
     "metadata": {},
     "output_type": "display_data"
    },
    {
     "data": {
      "application/vnd.jupyter.widget-view+json": {
       "model_id": "7fd61e650b3c4b8bbab18bea43b3b901",
       "version_major": 2,
       "version_minor": 0
      },
      "text/plain": [
       "Text(value='n/a', description='Comment')"
      ]
     },
     "metadata": {},
     "output_type": "display_data"
    },
    {
     "data": {
      "application/vnd.jupyter.widget-view+json": {
       "model_id": "1955a863d03149bd9f7b6d8714061a81",
       "version_major": 2,
       "version_minor": 0
      },
      "text/plain": [
       "Text(value='', description='Exchanges')"
      ]
     },
     "metadata": {},
     "output_type": "display_data"
    },
    {
     "data": {
      "application/vnd.jupyter.widget-view+json": {
       "model_id": "56991a921800436895c6088bd42bc47f",
       "version_major": 2,
       "version_minor": 0
      },
      "text/plain": [
       "VBox(children=(Checkbox(value=False, description='WO3 production'), Checkbox(value=False, description='WC prod…"
      ]
     },
     "metadata": {},
     "output_type": "display_data"
    },
    {
     "data": {
      "application/vnd.jupyter.widget-view+json": {
       "model_id": "5187346167b14a04b0590d3730ff3934",
       "version_major": 2,
       "version_minor": 0
      },
      "text/plain": [
       "Checkbox(value=False, description='If it is the last operation')"
      ]
     },
     "metadata": {},
     "output_type": "display_data"
    },
    {
     "data": {
      "application/vnd.jupyter.widget-view+json": {
       "model_id": "7ce0f1a957f441e3a811443444706a3d",
       "version_major": 2,
       "version_minor": 0
      },
      "text/plain": [
       "Button(description='Click when good', style=ButtonStyle())"
      ]
     },
     "metadata": {},
     "output_type": "display_data"
    },
    {
     "data": {
      "application/vnd.jupyter.widget-view+json": {
       "model_id": "60d9ac5f264347c288f225449f67a946",
       "version_major": 2,
       "version_minor": 0
      },
      "text/plain": [
       "Output()"
      ]
     },
     "metadata": {},
     "output_type": "display_data"
    },
    {
     "name": "stdout",
     "output_type": "stream",
     "text": [
      "python waited for the button click\n",
      "The production route isPR4_LCI_Modelling\n"
     ]
    },
    {
     "data": {
      "application/vnd.jupyter.widget-view+json": {
       "model_id": "014917c868a440628b792f42286dbb1f",
       "version_major": 2,
       "version_minor": 0
      },
      "text/plain": [
       "Text(value='', description='Activity name')"
      ]
     },
     "metadata": {},
     "output_type": "display_data"
    },
    {
     "data": {
      "application/vnd.jupyter.widget-view+json": {
       "model_id": "376946c28b60420bb17ee250d07ab56f",
       "version_major": 2,
       "version_minor": 0
      },
      "text/plain": [
       "Text(value='', description='Reference product')"
      ]
     },
     "metadata": {},
     "output_type": "display_data"
    },
    {
     "data": {
      "application/vnd.jupyter.widget-view+json": {
       "model_id": "5c306e097adf47209b3245c38c3693ea",
       "version_major": 2,
       "version_minor": 0
      },
      "text/plain": [
       "Text(value='', description='Location')"
      ]
     },
     "metadata": {},
     "output_type": "display_data"
    },
    {
     "data": {
      "application/vnd.jupyter.widget-view+json": {
       "model_id": "ee186b5258444000abf1fd93a809d776",
       "version_major": 2,
       "version_minor": 0
      },
      "text/plain": [
       "Text(value='', description='Amount')"
      ]
     },
     "metadata": {},
     "output_type": "display_data"
    },
    {
     "data": {
      "application/vnd.jupyter.widget-view+json": {
       "model_id": "036fbbe5d6464929bb3aa32956b97772",
       "version_major": 2,
       "version_minor": 0
      },
      "text/plain": [
       "Dropdown(description='Unit', options=('cubic meter', 'kilogram', 'kilowatt hour', 'megajoule', 'unit', 'ton ki…"
      ]
     },
     "metadata": {},
     "output_type": "display_data"
    },
    {
     "data": {
      "application/vnd.jupyter.widget-view+json": {
       "model_id": "5b8dae22beb540d0ad1d108d39165542",
       "version_major": 2,
       "version_minor": 0
      },
      "text/plain": [
       "Text(value='n/a', description='Comment')"
      ]
     },
     "metadata": {},
     "output_type": "display_data"
    },
    {
     "data": {
      "application/vnd.jupyter.widget-view+json": {
       "model_id": "293dea5baff34399bcdc9bb2fcf316f3",
       "version_major": 2,
       "version_minor": 0
      },
      "text/plain": [
       "Text(value='', description='Exchanges')"
      ]
     },
     "metadata": {},
     "output_type": "display_data"
    },
    {
     "data": {
      "application/vnd.jupyter.widget-view+json": {
       "model_id": "cfa3897834904bc5a43b209c2b2f7c29",
       "version_major": 2,
       "version_minor": 0
      },
      "text/plain": [
       "VBox(children=(Checkbox(value=False, description='Oxidation'), Checkbox(value=False, description='Alkali leach…"
      ]
     },
     "metadata": {},
     "output_type": "display_data"
    },
    {
     "data": {
      "application/vnd.jupyter.widget-view+json": {
       "model_id": "4418344ab8c247bd9299cdb805f67f40",
       "version_major": 2,
       "version_minor": 0
      },
      "text/plain": [
       "Checkbox(value=False, description='If it is the last operation')"
      ]
     },
     "metadata": {},
     "output_type": "display_data"
    },
    {
     "data": {
      "application/vnd.jupyter.widget-view+json": {
       "model_id": "3221665a0e774b5c90e509e5ed084741",
       "version_major": 2,
       "version_minor": 0
      },
      "text/plain": [
       "Button(description='Click when good', style=ButtonStyle())"
      ]
     },
     "metadata": {},
     "output_type": "display_data"
    },
    {
     "data": {
      "application/vnd.jupyter.widget-view+json": {
       "model_id": "abb430bd053a48f092ab2896a5013fba",
       "version_major": 2,
       "version_minor": 0
      },
      "text/plain": [
       "Output()"
      ]
     },
     "metadata": {},
     "output_type": "display_data"
    },
    {
     "name": "stdout",
     "output_type": "stream",
     "text": [
      "python waited for the button click\n"
     ]
    }
   ],
   "source": [
    "createBW(sheet_names_list_model)"
   ]
  },
  {
   "cell_type": "markdown",
   "id": "06bf0a39-2462-46b2-b9e9-1235052d1096",
   "metadata": {},
   "source": [
    "# END"
   ]
  },
  {
   "cell_type": "code",
   "execution_count": null,
   "id": "348aa765-5c95-4682-9a8d-f9d09997a4be",
   "metadata": {},
   "outputs": [],
   "source": []
  },
  {
   "cell_type": "code",
   "execution_count": null,
   "id": "139e267e-4526-4f31-b6aa-e072d53cf0fc",
   "metadata": {},
   "outputs": [],
   "source": []
  },
  {
   "cell_type": "code",
   "execution_count": null,
   "id": "b44a8b92-e4ce-4cce-ab4f-10589e9e13cf",
   "metadata": {},
   "outputs": [],
   "source": []
  },
  {
   "cell_type": "code",
   "execution_count": null,
   "id": "aa0c001c-df13-4811-a522-0e2f51310e6f",
   "metadata": {},
   "outputs": [],
   "source": []
  },
  {
   "cell_type": "code",
   "execution_count": null,
   "id": "3d136e2d-c501-48d4-92e0-4f2c8835d28e",
   "metadata": {},
   "outputs": [],
   "source": []
  },
  {
   "cell_type": "code",
   "execution_count": null,
   "id": "e7ca9950-2d06-47f7-9fff-9293f673429e",
   "metadata": {},
   "outputs": [],
   "source": []
  },
  {
   "cell_type": "code",
   "execution_count": null,
   "id": "342de713-92b5-48de-8f5b-96789db351ec",
   "metadata": {},
   "outputs": [],
   "source": []
  },
  {
   "cell_type": "code",
   "execution_count": null,
   "id": "fefe3aa3-cb1b-41c2-8714-d5d50db3f007",
   "metadata": {},
   "outputs": [],
   "source": []
  },
  {
   "cell_type": "code",
   "execution_count": null,
   "id": "96e0f0f6-7690-4a93-8a1b-209aeabf23c9",
   "metadata": {},
   "outputs": [],
   "source": []
  },
  {
   "cell_type": "code",
   "execution_count": null,
   "id": "75584158-f135-4b91-bb80-4266877f094f",
   "metadata": {},
   "outputs": [],
   "source": []
  },
  {
   "cell_type": "code",
   "execution_count": null,
   "id": "4b81045f-734d-403c-b39d-620495344793",
   "metadata": {},
   "outputs": [],
   "source": []
  },
  {
   "cell_type": "code",
   "execution_count": null,
   "id": "604ada6c-e80d-4a9f-a628-44b1a012e02f",
   "metadata": {},
   "outputs": [],
   "source": []
  },
  {
   "cell_type": "code",
   "execution_count": null,
   "id": "31022322-7544-43e2-af1f-99874baf82a2",
   "metadata": {},
   "outputs": [],
   "source": []
  }
 ],
 "metadata": {
  "kernelspec": {
   "display_name": "Python 3 (ipykernel)",
   "language": "python",
   "name": "python3"
  },
  "language_info": {
   "codemirror_mode": {
    "name": "ipython",
    "version": 3
   },
   "file_extension": ".py",
   "mimetype": "text/x-python",
   "name": "python",
   "nbconvert_exporter": "python",
   "pygments_lexer": "ipython3",
   "version": "3.11.4"
  }
 },
 "nbformat": 4,
 "nbformat_minor": 5
}
