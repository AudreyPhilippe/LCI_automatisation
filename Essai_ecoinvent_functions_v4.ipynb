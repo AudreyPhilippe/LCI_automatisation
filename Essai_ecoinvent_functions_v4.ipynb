{
 "cells": [
  {
   "cell_type": "markdown",
   "id": "33a5aee1-e633-46e1-ac1d-ecaf9f28fbf9",
   "metadata": {},
   "source": [
    "# Change the name of the excel file with  inventory\n",
    "\n",
    "Runs the functions need"
   ]
  },
  {
   "cell_type": "code",
   "execution_count": 4,
   "id": "ff50b02d-7e0d-4f77-b6aa-beeebd0c8edb",
   "metadata": {},
   "outputs": [],
   "source": [
    "file_LCI_step0='LCI_Review&Compilation_W_v1.xlsx' #TO CHANGE to the name of the excel file"
   ]
  },
  {
   "cell_type": "code",
   "execution_count": 2,
   "id": "2cda8e8d-2e23-48e7-aadc-b58594fe996c",
   "metadata": {},
   "outputs": [
    {
     "name": "stderr",
     "output_type": "stream",
     "text": [
      "ERROR: Could not open requirements file: [Errno 2] No such file or directory: 'requirements_all.txt'\n",
      "\n",
      "[notice] A new release of pip is available: 23.3.2 -> 24.0\n",
      "[notice] To update, run: python.exe -m pip install --upgrade pip\n"
     ]
    },
    {
     "name": "stdout",
     "output_type": "stream",
     "text": [
      "Note: you may need to restart the kernel to use updated packages.\n"
     ]
    }
   ],
   "source": [
    "%run Functions_ei_v1.ipynb"
   ]
  },
  {
   "cell_type": "markdown",
   "id": "b84b233f-d2b8-4006-9cb8-3253fdc53dd8",
   "metadata": {},
   "source": [
    "# Code: From green to blue"
   ]
  },
  {
   "cell_type": "markdown",
   "id": "a91f4b2e-ad4c-4e28-9e22-449149516a86",
   "metadata": {},
   "source": [
    "Check that all the sheets with data are named like that 'PRi_XXX' with i the number of the route\n",
    "\n",
    "Also check if no other sheet have \"PR\" in their name"
   ]
  },
  {
   "cell_type": "code",
   "execution_count": 3,
   "id": "2590c0ec-e7f8-44b9-b691-11b7a1f4088d",
   "metadata": {},
   "outputs": [
    {
     "data": {
      "text/plain": [
       "['PR1_WC_China',\n",
       " 'PR2_WC_UnitedStates',\n",
       " 'PR3_WC_Europe',\n",
       " 'PR4_APT_Europe_Recycling']"
      ]
     },
     "execution_count": 3,
     "metadata": {},
     "output_type": "execute_result"
    }
   ],
   "source": [
    "\n",
    "doc=pd.ExcelFile(path_step0)\n",
    "all_sheets=doc.sheet_names#.str.contains('PR')\n",
    "sheet_names_list = [name for name in all_sheets if \"PR\" in name] #change with startwith \n",
    "sheet_names_list"
   ]
  },
  {
   "cell_type": "code",
   "execution_count": 8,
   "id": "d51d029a-ccbe-470e-aefc-c27775a3b08f",
   "metadata": {},
   "outputs": [],
   "source": [
    "create_blue(path_step0,sheet_names_list,path_step1)"
   ]
  },
  {
   "cell_type": "markdown",
   "id": "15142fa2-ead5-4635-ba0e-7c330ee61a8d",
   "metadata": {},
   "source": [
    "# Manual: Need to fill columns:\n",
    "\n",
    "J (Ei - Activity name), you can use the file Database-Overview-for-ecoinvent-v3.9.1.xlsx, sheet cut-off AO in the folder Data_python\n",
    "\n",
    "K (Elementary flow), you can use the file  Database-Overview-for-ecoinvent-v3.9.1.xlsx, sheet elementary exchanges in the folder Data_python\n",
    "\n",
    "O (Ei - location), use the ecoinvent names (maybe create an excel with all the names? )"
   ]
  },
  {
   "cell_type": "markdown",
   "id": "9b06fcc3-01de-4ace-97c1-43a7b23ea591",
   "metadata": {},
   "source": [
    "# Code: Fill column L and check column N and add unit (column O)"
   ]
  },
  {
   "cell_type": "markdown",
   "id": "6513133d-139a-4f48-8cf5-798e0bd56cd0",
   "metadata": {},
   "source": [
    "Run the next cell if there is no problem in the country attribution you can save it else check the spelling it can also be that the location is to precise for ecoinvent and run again the cell"
   ]
  },
  {
   "cell_type": "code",
   "execution_count": 15,
   "id": "4399937c-9652-463c-92c6-a706373851d6",
   "metadata": {},
   "outputs": [
    {
     "data": {
      "text/plain": [
       "['PR1_LCI_Modelling',\n",
       " 'PR2_LCI_Modelling',\n",
       " 'PR3_LCI_Modelling',\n",
       " 'PR4_LCI_Modelling']"
      ]
     },
     "execution_count": 15,
     "metadata": {},
     "output_type": "execute_result"
    }
   ],
   "source": [
    "doc=pd.ExcelFile(path_step1)\n",
    "all_sheets_model=doc.sheet_names#.str.contains('PR')\n",
    "sheet_names_list_model = [name for name in all_sheets_model if \"PR\" in name] #change with startwith \n",
    "sheet_names_list_model"
   ]
  },
  {
   "cell_type": "code",
   "execution_count": 28,
   "id": "c30f2a1a-3491-4f6b-9acf-5178438d6e50",
   "metadata": {},
   "outputs": [
    {
     "name": "stdout",
     "output_type": "stream",
     "text": [
      "The production route is PR1_LCI_Modelling\n"
     ]
    },
    {
     "data": {
      "application/vnd.jupyter.widget-view+json": {
       "model_id": "faab996531b74d4e9c7b81b2fbee6df8",
       "version_major": 2,
       "version_minor": 0
      },
      "text/plain": [
       "RadioButtons(description='Choose the best option for the activity:treatment of sewage sludge, 75% water, WWT, …"
      ]
     },
     "metadata": {},
     "output_type": "display_data"
    },
    {
     "data": {
      "application/vnd.jupyter.widget-view+json": {
       "model_id": "9e18da8bea434875ad8a637ba8072dca",
       "version_major": 2,
       "version_minor": 0
      },
      "text/plain": [
       "RadioButtons(description='Choose the best option for the activity:treatment of sewage sludge, 75% water, WWT, …"
      ]
     },
     "metadata": {},
     "output_type": "display_data"
    },
    {
     "data": {
      "application/vnd.jupyter.widget-view+json": {
       "model_id": "f151eb44d2a54c0d8b304b7224f33c75",
       "version_major": 2,
       "version_minor": 0
      },
      "text/plain": [
       "Button(description='Click when good', style=ButtonStyle())"
      ]
     },
     "metadata": {},
     "output_type": "display_data"
    },
    {
     "data": {
      "application/vnd.jupyter.widget-view+json": {
       "model_id": "d5330bf8a14449378dc8739acdf8128b",
       "version_major": 2,
       "version_minor": 0
      },
      "text/plain": [
       "Output()"
      ]
     },
     "metadata": {},
     "output_type": "display_data"
    },
    {
     "name": "stdout",
     "output_type": "stream",
     "text": [
      "False\n",
      "False\n",
      "False\n",
      "False\n",
      "False\n",
      "python waited for the button click\n",
      "There is no problem in the country attribution\n",
      "The production route is PR2_LCI_Modelling\n",
      "There is no problem in the country attribution\n",
      "The production route is PR3_LCI_Modelling\n",
      "There is no problem in the country attribution\n",
      "The production route is PR4_LCI_Modelling\n",
      "There is no problem in the country attribution\n"
     ]
    }
   ],
   "source": [
    "fill_ei_product(1,sheet_names_list_model,dict_flow_efcat,dict_unit,ei_ef_data)"
   ]
  },
  {
   "cell_type": "code",
   "execution_count": 5,
   "id": "1c42b07f-6524-40eb-9183-b09bb1844415",
   "metadata": {},
   "outputs": [],
   "source": [
    "####!!! need to create function for elementary flows\n",
    "\n",
    "\n",
    "# data_LCI_PRi_model_ef=data_LCI_PRi_model.loc[data_LCI_PRi_model['Elementary flow']==data_LCI_PRi_model['Elementary flow']]\n",
    "# list_ef=data_LCI_PRi_model_ef['Elementary flow'].drop_duplicates()\n",
    "\n",
    "#     # for ef in list_ef:\n",
    "#     #     unit_ef=ei_ef_data.loc[ei_ef_data['Name']==ef].loc[:,'Unit Name'].drop_duplicates() \n",
    "#     #     index_ef=data_LCI_PRi_model.loc[data_LCI_PRi_model['Elementary flow']==ef].index\n",
    "#     #     data_LCI_PRi_model.loc[index_ef,'Unit']=dict_unit[str(unit_ef.values[0])]\n",
    "\n",
    "# len(unit_ef)"
   ]
  },
  {
   "cell_type": "markdown",
   "id": "7d3ce6b9-d67a-469f-a88e-4c11741681d5",
   "metadata": {},
   "source": [
    "#  MANUAL fill the modelling step 2 file\n",
    "\n",
    "File the values column (check the unit and the reference flow for the LCA)\n",
    "\n",
    "for elementary flow fill the subcompartement where it is needed"
   ]
  },
  {
   "cell_type": "markdown",
   "id": "3111c5f9-f895-4322-bf22-b80b588cc660",
   "metadata": {},
   "source": [
    " # Code: From blue to BW format\n",
    "\n",
    " Comme avant ne fonctionne que pour PR1, si besoin changer sheet_name (à modifier)"
   ]
  },
  {
   "cell_type": "code",
   "execution_count": 35,
   "id": "6d7164db-0f64-4c4d-aab2-fda4e040adf0",
   "metadata": {},
   "outputs": [
    {
     "name": "stdout",
     "output_type": "stream",
     "text": [
      "The production route isPR1_LCI_Modelling\n"
     ]
    },
    {
     "data": {
      "application/vnd.jupyter.widget-view+json": {
       "model_id": "a0458deabe9f43f5983e0b0d04a9e418",
       "version_major": 2,
       "version_minor": 0
      },
      "text/plain": [
       "Text(value='', description='Activity name')"
      ]
     },
     "metadata": {},
     "output_type": "display_data"
    },
    {
     "data": {
      "application/vnd.jupyter.widget-view+json": {
       "model_id": "a7fc66c4145a41009723d75d94329028",
       "version_major": 2,
       "version_minor": 0
      },
      "text/plain": [
       "Text(value='', description='Reference product')"
      ]
     },
     "metadata": {},
     "output_type": "display_data"
    },
    {
     "data": {
      "application/vnd.jupyter.widget-view+json": {
       "model_id": "5af2a9e980534aa991d97fe85f00641c",
       "version_major": 2,
       "version_minor": 0
      },
      "text/plain": [
       "Text(value='', description='Location')"
      ]
     },
     "metadata": {},
     "output_type": "display_data"
    },
    {
     "data": {
      "application/vnd.jupyter.widget-view+json": {
       "model_id": "4b05aa52abaf4505bb3d5ec64ee3595f",
       "version_major": 2,
       "version_minor": 0
      },
      "text/plain": [
       "Text(value='', description='Amount')"
      ]
     },
     "metadata": {},
     "output_type": "display_data"
    },
    {
     "data": {
      "application/vnd.jupyter.widget-view+json": {
       "model_id": "ea65788ffe344db6b2e54c80b05511ed",
       "version_major": 2,
       "version_minor": 0
      },
      "text/plain": [
       "Dropdown(description='Unit', options=('cubic meter', 'kilogram', 'kilowatt hour', 'megajoule', 'unit', 'ton ki…"
      ]
     },
     "metadata": {},
     "output_type": "display_data"
    },
    {
     "data": {
      "application/vnd.jupyter.widget-view+json": {
       "model_id": "840a51886517428682f185beb8315d75",
       "version_major": 2,
       "version_minor": 0
      },
      "text/plain": [
       "Text(value='n/a', description='Comment')"
      ]
     },
     "metadata": {},
     "output_type": "display_data"
    },
    {
     "data": {
      "application/vnd.jupyter.widget-view+json": {
       "model_id": "6723ecca13d4475a8756d21054006bfb",
       "version_major": 2,
       "version_minor": 0
      },
      "text/plain": [
       "Text(value='', description='Exchanges')"
      ]
     },
     "metadata": {},
     "output_type": "display_data"
    },
    {
     "data": {
      "application/vnd.jupyter.widget-view+json": {
       "model_id": "5083f65d38b541c288d4ac9498616584",
       "version_major": 2,
       "version_minor": 0
      },
      "text/plain": [
       "VBox(children=(Checkbox(value=False, description='W ore mining'), Checkbox(value=False, description='W concent…"
      ]
     },
     "metadata": {},
     "output_type": "display_data"
    },
    {
     "data": {
      "application/vnd.jupyter.widget-view+json": {
       "model_id": "bbdc62d7f9004dfa928cf8e7e3b52647",
       "version_major": 2,
       "version_minor": 0
      },
      "text/plain": [
       "Checkbox(value=False, description='If it is the last operation')"
      ]
     },
     "metadata": {},
     "output_type": "display_data"
    },
    {
     "data": {
      "application/vnd.jupyter.widget-view+json": {
       "model_id": "33e15d1c980f4b1a87f9e9fe14d6a70f",
       "version_major": 2,
       "version_minor": 0
      },
      "text/plain": [
       "Button(description='Click when good', style=ButtonStyle())"
      ]
     },
     "metadata": {},
     "output_type": "display_data"
    },
    {
     "data": {
      "application/vnd.jupyter.widget-view+json": {
       "model_id": "033c59888d5b46528b6234bdaf0e48fd",
       "version_major": 2,
       "version_minor": 0
      },
      "text/plain": [
       "Output()"
      ]
     },
     "metadata": {},
     "output_type": "display_data"
    },
    {
     "name": "stdout",
     "output_type": "stream",
     "text": [
      "python waited for the button click\n"
     ]
    },
    {
     "data": {
      "application/vnd.jupyter.widget-view+json": {
       "model_id": "8274925b9adb43e1ab0896578d2b5da2",
       "version_major": 2,
       "version_minor": 0
      },
      "text/plain": [
       "Text(value='', description='Activity name')"
      ]
     },
     "metadata": {},
     "output_type": "display_data"
    },
    {
     "data": {
      "application/vnd.jupyter.widget-view+json": {
       "model_id": "0f0c30ea4a2e4589a4637b853f961e13",
       "version_major": 2,
       "version_minor": 0
      },
      "text/plain": [
       "Text(value='', description='Reference product')"
      ]
     },
     "metadata": {},
     "output_type": "display_data"
    },
    {
     "data": {
      "application/vnd.jupyter.widget-view+json": {
       "model_id": "b102074cc278451191e8d80f62c65d50",
       "version_major": 2,
       "version_minor": 0
      },
      "text/plain": [
       "Text(value='', description='Location')"
      ]
     },
     "metadata": {},
     "output_type": "display_data"
    },
    {
     "data": {
      "application/vnd.jupyter.widget-view+json": {
       "model_id": "e5945991489649598beb4155348b9fe6",
       "version_major": 2,
       "version_minor": 0
      },
      "text/plain": [
       "Text(value='', description='Amount')"
      ]
     },
     "metadata": {},
     "output_type": "display_data"
    },
    {
     "data": {
      "application/vnd.jupyter.widget-view+json": {
       "model_id": "3274445bf8d6418697965e039638f582",
       "version_major": 2,
       "version_minor": 0
      },
      "text/plain": [
       "Dropdown(description='Unit', options=('cubic meter', 'kilogram', 'kilowatt hour', 'megajoule', 'unit', 'ton ki…"
      ]
     },
     "metadata": {},
     "output_type": "display_data"
    },
    {
     "data": {
      "application/vnd.jupyter.widget-view+json": {
       "model_id": "70677a4bad7e47179269fdbbf6654dd4",
       "version_major": 2,
       "version_minor": 0
      },
      "text/plain": [
       "Text(value='n/a', description='Comment')"
      ]
     },
     "metadata": {},
     "output_type": "display_data"
    },
    {
     "data": {
      "application/vnd.jupyter.widget-view+json": {
       "model_id": "400a4c6d966f40bda436cce4a567c854",
       "version_major": 2,
       "version_minor": 0
      },
      "text/plain": [
       "Text(value='', description='Exchanges')"
      ]
     },
     "metadata": {},
     "output_type": "display_data"
    },
    {
     "data": {
      "application/vnd.jupyter.widget-view+json": {
       "model_id": "aaad3b57dee84f91b840f7acab95a888",
       "version_major": 2,
       "version_minor": 0
      },
      "text/plain": [
       "VBox(children=(Checkbox(value=False, description='W ore mining'), Checkbox(value=False, description='W concent…"
      ]
     },
     "metadata": {},
     "output_type": "display_data"
    },
    {
     "data": {
      "application/vnd.jupyter.widget-view+json": {
       "model_id": "ace07c3729724efcb650cfb24dfdf55d",
       "version_major": 2,
       "version_minor": 0
      },
      "text/plain": [
       "Checkbox(value=False, description='If it is the last operation')"
      ]
     },
     "metadata": {},
     "output_type": "display_data"
    },
    {
     "data": {
      "application/vnd.jupyter.widget-view+json": {
       "model_id": "6177aadd41364356b9182965e0b63715",
       "version_major": 2,
       "version_minor": 0
      },
      "text/plain": [
       "Button(description='Click when good', style=ButtonStyle())"
      ]
     },
     "metadata": {},
     "output_type": "display_data"
    },
    {
     "data": {
      "application/vnd.jupyter.widget-view+json": {
       "model_id": "895ca32fe7374d26860ebab9fa6ea808",
       "version_major": 2,
       "version_minor": 0
      },
      "text/plain": [
       "Output()"
      ]
     },
     "metadata": {},
     "output_type": "display_data"
    },
    {
     "name": "stdout",
     "output_type": "stream",
     "text": [
      "python waited for the button click\n"
     ]
    },
    {
     "data": {
      "application/vnd.jupyter.widget-view+json": {
       "model_id": "5cf56578b07a4270af6680285cc87796",
       "version_major": 2,
       "version_minor": 0
      },
      "text/plain": [
       "Text(value='', description='Activity name')"
      ]
     },
     "metadata": {},
     "output_type": "display_data"
    },
    {
     "data": {
      "application/vnd.jupyter.widget-view+json": {
       "model_id": "29b26bae6a6149caa5ff0ca630462c00",
       "version_major": 2,
       "version_minor": 0
      },
      "text/plain": [
       "Text(value='', description='Reference product')"
      ]
     },
     "metadata": {},
     "output_type": "display_data"
    },
    {
     "data": {
      "application/vnd.jupyter.widget-view+json": {
       "model_id": "f89d57a713154d2db9dc38cb20751161",
       "version_major": 2,
       "version_minor": 0
      },
      "text/plain": [
       "Text(value='', description='Location')"
      ]
     },
     "metadata": {},
     "output_type": "display_data"
    },
    {
     "data": {
      "application/vnd.jupyter.widget-view+json": {
       "model_id": "94dbcf06865f444dae76760376581ae9",
       "version_major": 2,
       "version_minor": 0
      },
      "text/plain": [
       "Text(value='', description='Amount')"
      ]
     },
     "metadata": {},
     "output_type": "display_data"
    },
    {
     "data": {
      "application/vnd.jupyter.widget-view+json": {
       "model_id": "2b466b28843949c8a411e3033c54a7d3",
       "version_major": 2,
       "version_minor": 0
      },
      "text/plain": [
       "Dropdown(description='Unit', options=('cubic meter', 'kilogram', 'kilowatt hour', 'megajoule', 'unit', 'ton ki…"
      ]
     },
     "metadata": {},
     "output_type": "display_data"
    },
    {
     "data": {
      "application/vnd.jupyter.widget-view+json": {
       "model_id": "42e3a23a436345e1a6c2c03e5737a428",
       "version_major": 2,
       "version_minor": 0
      },
      "text/plain": [
       "Text(value='n/a', description='Comment')"
      ]
     },
     "metadata": {},
     "output_type": "display_data"
    },
    {
     "data": {
      "application/vnd.jupyter.widget-view+json": {
       "model_id": "3e62c815cb3a4641baa115242f89e51c",
       "version_major": 2,
       "version_minor": 0
      },
      "text/plain": [
       "Text(value='', description='Exchanges')"
      ]
     },
     "metadata": {},
     "output_type": "display_data"
    },
    {
     "data": {
      "application/vnd.jupyter.widget-view+json": {
       "model_id": "b8818aed103a48d682fd92c0f5e7d6c1",
       "version_major": 2,
       "version_minor": 0
      },
      "text/plain": [
       "VBox(children=(Checkbox(value=False, description='W ore mining'), Checkbox(value=False, description='W concent…"
      ]
     },
     "metadata": {},
     "output_type": "display_data"
    },
    {
     "data": {
      "application/vnd.jupyter.widget-view+json": {
       "model_id": "52b9399ec9044048a23fe4e8a0a6347f",
       "version_major": 2,
       "version_minor": 0
      },
      "text/plain": [
       "Checkbox(value=False, description='If it is the last operation')"
      ]
     },
     "metadata": {},
     "output_type": "display_data"
    },
    {
     "data": {
      "application/vnd.jupyter.widget-view+json": {
       "model_id": "e9a0c998398a4430993ee21159ff907d",
       "version_major": 2,
       "version_minor": 0
      },
      "text/plain": [
       "Button(description='Click when good', style=ButtonStyle())"
      ]
     },
     "metadata": {},
     "output_type": "display_data"
    },
    {
     "data": {
      "application/vnd.jupyter.widget-view+json": {
       "model_id": "5b2e703c2a084942907d7ad5fb28259d",
       "version_major": 2,
       "version_minor": 0
      },
      "text/plain": [
       "Output()"
      ]
     },
     "metadata": {},
     "output_type": "display_data"
    },
    {
     "name": "stdout",
     "output_type": "stream",
     "text": [
      "python waited for the button click\n",
      "The production route isPR2_LCI_Modelling\n"
     ]
    },
    {
     "data": {
      "application/vnd.jupyter.widget-view+json": {
       "model_id": "34cc1de2442b4115bedd34ba23835427",
       "version_major": 2,
       "version_minor": 0
      },
      "text/plain": [
       "Text(value='', description='Activity name')"
      ]
     },
     "metadata": {},
     "output_type": "display_data"
    },
    {
     "data": {
      "application/vnd.jupyter.widget-view+json": {
       "model_id": "11bb362a2ad444b88d46bdb4888a54e5",
       "version_major": 2,
       "version_minor": 0
      },
      "text/plain": [
       "Text(value='', description='Reference product')"
      ]
     },
     "metadata": {},
     "output_type": "display_data"
    },
    {
     "data": {
      "application/vnd.jupyter.widget-view+json": {
       "model_id": "9bb76ea35bee488da1dcee194de3fc47",
       "version_major": 2,
       "version_minor": 0
      },
      "text/plain": [
       "Text(value='', description='Location')"
      ]
     },
     "metadata": {},
     "output_type": "display_data"
    },
    {
     "data": {
      "application/vnd.jupyter.widget-view+json": {
       "model_id": "c98bcceb1e5e43f5b91ee7b176562ace",
       "version_major": 2,
       "version_minor": 0
      },
      "text/plain": [
       "Text(value='', description='Amount')"
      ]
     },
     "metadata": {},
     "output_type": "display_data"
    },
    {
     "data": {
      "application/vnd.jupyter.widget-view+json": {
       "model_id": "ea88d2676fa84c14b605970db56579af",
       "version_major": 2,
       "version_minor": 0
      },
      "text/plain": [
       "Dropdown(description='Unit', options=('cubic meter', 'kilogram', 'kilowatt hour', 'megajoule', 'unit', 'ton ki…"
      ]
     },
     "metadata": {},
     "output_type": "display_data"
    },
    {
     "data": {
      "application/vnd.jupyter.widget-view+json": {
       "model_id": "6575b8f613cc45ad9c5dbc465607e5cb",
       "version_major": 2,
       "version_minor": 0
      },
      "text/plain": [
       "Text(value='n/a', description='Comment')"
      ]
     },
     "metadata": {},
     "output_type": "display_data"
    },
    {
     "data": {
      "application/vnd.jupyter.widget-view+json": {
       "model_id": "3e7e06246c51403bafc656994a39fc7e",
       "version_major": 2,
       "version_minor": 0
      },
      "text/plain": [
       "Text(value='', description='Exchanges')"
      ]
     },
     "metadata": {},
     "output_type": "display_data"
    },
    {
     "data": {
      "application/vnd.jupyter.widget-view+json": {
       "model_id": "375f866206fe46cb8881829fd3645dc8",
       "version_major": 2,
       "version_minor": 0
      },
      "text/plain": [
       "VBox(children=(Checkbox(value=False, description='Mining'), Checkbox(value=False, description='Transport'), Ch…"
      ]
     },
     "metadata": {},
     "output_type": "display_data"
    },
    {
     "data": {
      "application/vnd.jupyter.widget-view+json": {
       "model_id": "35e33aa71cb148c38f5852c118b14f65",
       "version_major": 2,
       "version_minor": 0
      },
      "text/plain": [
       "Checkbox(value=False, description='If it is the last operation')"
      ]
     },
     "metadata": {},
     "output_type": "display_data"
    },
    {
     "data": {
      "application/vnd.jupyter.widget-view+json": {
       "model_id": "d5bdad0727c3487694a6f3dc32766eb0",
       "version_major": 2,
       "version_minor": 0
      },
      "text/plain": [
       "Button(description='Click when good', style=ButtonStyle())"
      ]
     },
     "metadata": {},
     "output_type": "display_data"
    },
    {
     "data": {
      "application/vnd.jupyter.widget-view+json": {
       "model_id": "d26445aaee3443e68f8b7180e07b99ae",
       "version_major": 2,
       "version_minor": 0
      },
      "text/plain": [
       "Output()"
      ]
     },
     "metadata": {},
     "output_type": "display_data"
    },
    {
     "name": "stdout",
     "output_type": "stream",
     "text": [
      "python waited for the button click\n",
      "The production route isPR3_LCI_Modelling\n"
     ]
    },
    {
     "data": {
      "application/vnd.jupyter.widget-view+json": {
       "model_id": "fadb9ca5f5e34c33860068a46f752273",
       "version_major": 2,
       "version_minor": 0
      },
      "text/plain": [
       "Text(value='', description='Activity name')"
      ]
     },
     "metadata": {},
     "output_type": "display_data"
    },
    {
     "data": {
      "application/vnd.jupyter.widget-view+json": {
       "model_id": "59ac8bd486f84f06bf3bea4d3e14189a",
       "version_major": 2,
       "version_minor": 0
      },
      "text/plain": [
       "Text(value='', description='Reference product')"
      ]
     },
     "metadata": {},
     "output_type": "display_data"
    },
    {
     "data": {
      "application/vnd.jupyter.widget-view+json": {
       "model_id": "c7e93283332d4f748e5964ec3cad55b1",
       "version_major": 2,
       "version_minor": 0
      },
      "text/plain": [
       "Text(value='', description='Location')"
      ]
     },
     "metadata": {},
     "output_type": "display_data"
    },
    {
     "data": {
      "application/vnd.jupyter.widget-view+json": {
       "model_id": "05c14bb79d0042a3b805bb9de4118289",
       "version_major": 2,
       "version_minor": 0
      },
      "text/plain": [
       "Text(value='', description='Amount')"
      ]
     },
     "metadata": {},
     "output_type": "display_data"
    },
    {
     "data": {
      "application/vnd.jupyter.widget-view+json": {
       "model_id": "aa393ba4e39f452c96ba01617325971b",
       "version_major": 2,
       "version_minor": 0
      },
      "text/plain": [
       "Dropdown(description='Unit', options=('cubic meter', 'kilogram', 'kilowatt hour', 'megajoule', 'unit', 'ton ki…"
      ]
     },
     "metadata": {},
     "output_type": "display_data"
    },
    {
     "data": {
      "application/vnd.jupyter.widget-view+json": {
       "model_id": "ede70d09a60941a88383d2eecf757f9f",
       "version_major": 2,
       "version_minor": 0
      },
      "text/plain": [
       "Text(value='n/a', description='Comment')"
      ]
     },
     "metadata": {},
     "output_type": "display_data"
    },
    {
     "data": {
      "application/vnd.jupyter.widget-view+json": {
       "model_id": "9b4f268740bc4c19b858f8455444d286",
       "version_major": 2,
       "version_minor": 0
      },
      "text/plain": [
       "Text(value='', description='Exchanges')"
      ]
     },
     "metadata": {},
     "output_type": "display_data"
    },
    {
     "data": {
      "application/vnd.jupyter.widget-view+json": {
       "model_id": "9a1fa9a014c44a51b28b211fb0d8cdef",
       "version_major": 2,
       "version_minor": 0
      },
      "text/plain": [
       "VBox(children=(Checkbox(value=False, description='WO3 production'), Checkbox(value=False, description='WC prod…"
      ]
     },
     "metadata": {},
     "output_type": "display_data"
    },
    {
     "data": {
      "application/vnd.jupyter.widget-view+json": {
       "model_id": "9325801ab45f401e8f2d6ca598af91e7",
       "version_major": 2,
       "version_minor": 0
      },
      "text/plain": [
       "Checkbox(value=False, description='If it is the last operation')"
      ]
     },
     "metadata": {},
     "output_type": "display_data"
    },
    {
     "data": {
      "application/vnd.jupyter.widget-view+json": {
       "model_id": "fde68d76a4654b5d9ca6ba9f56c58340",
       "version_major": 2,
       "version_minor": 0
      },
      "text/plain": [
       "Button(description='Click when good', style=ButtonStyle())"
      ]
     },
     "metadata": {},
     "output_type": "display_data"
    },
    {
     "data": {
      "application/vnd.jupyter.widget-view+json": {
       "model_id": "7ece0937977e482f9c5a6176116472f2",
       "version_major": 2,
       "version_minor": 0
      },
      "text/plain": [
       "Output()"
      ]
     },
     "metadata": {},
     "output_type": "display_data"
    },
    {
     "name": "stdout",
     "output_type": "stream",
     "text": [
      "python waited for the button click\n",
      "The production route isPR4_LCI_Modelling\n"
     ]
    },
    {
     "data": {
      "application/vnd.jupyter.widget-view+json": {
       "model_id": "86f9d8e2f8ad42e2b0f55f9cf936ca5b",
       "version_major": 2,
       "version_minor": 0
      },
      "text/plain": [
       "Text(value='', description='Activity name')"
      ]
     },
     "metadata": {},
     "output_type": "display_data"
    },
    {
     "data": {
      "application/vnd.jupyter.widget-view+json": {
       "model_id": "6cf41c9e8929464192a7fa6927b19f2f",
       "version_major": 2,
       "version_minor": 0
      },
      "text/plain": [
       "Text(value='', description='Reference product')"
      ]
     },
     "metadata": {},
     "output_type": "display_data"
    },
    {
     "data": {
      "application/vnd.jupyter.widget-view+json": {
       "model_id": "2c29edfc837442c39e0b0389525a901d",
       "version_major": 2,
       "version_minor": 0
      },
      "text/plain": [
       "Text(value='', description='Location')"
      ]
     },
     "metadata": {},
     "output_type": "display_data"
    },
    {
     "data": {
      "application/vnd.jupyter.widget-view+json": {
       "model_id": "31f0f5c8754844d8881cda3ed727d5b1",
       "version_major": 2,
       "version_minor": 0
      },
      "text/plain": [
       "Text(value='', description='Amount')"
      ]
     },
     "metadata": {},
     "output_type": "display_data"
    },
    {
     "data": {
      "application/vnd.jupyter.widget-view+json": {
       "model_id": "ecae4e987f9c4ec3a2932ae845d003e4",
       "version_major": 2,
       "version_minor": 0
      },
      "text/plain": [
       "Dropdown(description='Unit', options=('cubic meter', 'kilogram', 'kilowatt hour', 'megajoule', 'unit', 'ton ki…"
      ]
     },
     "metadata": {},
     "output_type": "display_data"
    },
    {
     "data": {
      "application/vnd.jupyter.widget-view+json": {
       "model_id": "ef4a15df25fd497eacef81193941e74e",
       "version_major": 2,
       "version_minor": 0
      },
      "text/plain": [
       "Text(value='n/a', description='Comment')"
      ]
     },
     "metadata": {},
     "output_type": "display_data"
    },
    {
     "data": {
      "application/vnd.jupyter.widget-view+json": {
       "model_id": "bded4decd4704d8695d97e6de42bdc19",
       "version_major": 2,
       "version_minor": 0
      },
      "text/plain": [
       "Text(value='', description='Exchanges')"
      ]
     },
     "metadata": {},
     "output_type": "display_data"
    },
    {
     "data": {
      "application/vnd.jupyter.widget-view+json": {
       "model_id": "23c7c61f776f4c6089fef0cdb12eaf37",
       "version_major": 2,
       "version_minor": 0
      },
      "text/plain": [
       "VBox(children=(Checkbox(value=False, description='Oxidation'), Checkbox(value=False, description='Alkali leach…"
      ]
     },
     "metadata": {},
     "output_type": "display_data"
    },
    {
     "data": {
      "application/vnd.jupyter.widget-view+json": {
       "model_id": "e05ac7e368364ffdbaf14952be7f7c1f",
       "version_major": 2,
       "version_minor": 0
      },
      "text/plain": [
       "Checkbox(value=False, description='If it is the last operation')"
      ]
     },
     "metadata": {},
     "output_type": "display_data"
    },
    {
     "data": {
      "application/vnd.jupyter.widget-view+json": {
       "model_id": "8a0ed0b2c6a24fb99909efc7d4faf15d",
       "version_major": 2,
       "version_minor": 0
      },
      "text/plain": [
       "Button(description='Click when good', style=ButtonStyle())"
      ]
     },
     "metadata": {},
     "output_type": "display_data"
    },
    {
     "data": {
      "application/vnd.jupyter.widget-view+json": {
       "model_id": "c64367ac49144fb2a865e988aedf0d99",
       "version_major": 2,
       "version_minor": 0
      },
      "text/plain": [
       "Output()"
      ]
     },
     "metadata": {},
     "output_type": "display_data"
    },
    {
     "name": "stdout",
     "output_type": "stream",
     "text": [
      "python waited for the button click\n"
     ]
    }
   ],
   "source": [
    "createBW(sheet_names_list_model)"
   ]
  },
  {
   "cell_type": "markdown",
   "id": "06bf0a39-2462-46b2-b9e9-1235052d1096",
   "metadata": {},
   "source": [
    "# END"
   ]
  },
  {
   "cell_type": "code",
   "execution_count": null,
   "id": "348aa765-5c95-4682-9a8d-f9d09997a4be",
   "metadata": {},
   "outputs": [],
   "source": []
  },
  {
   "cell_type": "code",
   "execution_count": null,
   "id": "139e267e-4526-4f31-b6aa-e072d53cf0fc",
   "metadata": {},
   "outputs": [],
   "source": []
  },
  {
   "cell_type": "code",
   "execution_count": null,
   "id": "b44a8b92-e4ce-4cce-ab4f-10589e9e13cf",
   "metadata": {},
   "outputs": [],
   "source": []
  },
  {
   "cell_type": "code",
   "execution_count": null,
   "id": "aa0c001c-df13-4811-a522-0e2f51310e6f",
   "metadata": {},
   "outputs": [],
   "source": []
  },
  {
   "cell_type": "code",
   "execution_count": null,
   "id": "3d136e2d-c501-48d4-92e0-4f2c8835d28e",
   "metadata": {},
   "outputs": [],
   "source": []
  },
  {
   "cell_type": "code",
   "execution_count": null,
   "id": "e7ca9950-2d06-47f7-9fff-9293f673429e",
   "metadata": {},
   "outputs": [],
   "source": []
  },
  {
   "cell_type": "code",
   "execution_count": null,
   "id": "342de713-92b5-48de-8f5b-96789db351ec",
   "metadata": {},
   "outputs": [],
   "source": []
  },
  {
   "cell_type": "code",
   "execution_count": null,
   "id": "fefe3aa3-cb1b-41c2-8714-d5d50db3f007",
   "metadata": {},
   "outputs": [],
   "source": []
  },
  {
   "cell_type": "code",
   "execution_count": null,
   "id": "96e0f0f6-7690-4a93-8a1b-209aeabf23c9",
   "metadata": {},
   "outputs": [],
   "source": []
  },
  {
   "cell_type": "code",
   "execution_count": null,
   "id": "75584158-f135-4b91-bb80-4266877f094f",
   "metadata": {},
   "outputs": [],
   "source": []
  },
  {
   "cell_type": "code",
   "execution_count": null,
   "id": "4b81045f-734d-403c-b39d-620495344793",
   "metadata": {},
   "outputs": [],
   "source": []
  },
  {
   "cell_type": "code",
   "execution_count": null,
   "id": "604ada6c-e80d-4a9f-a628-44b1a012e02f",
   "metadata": {},
   "outputs": [],
   "source": []
  },
  {
   "cell_type": "code",
   "execution_count": null,
   "id": "31022322-7544-43e2-af1f-99874baf82a2",
   "metadata": {},
   "outputs": [],
   "source": []
  }
 ],
 "metadata": {
  "kernelspec": {
   "display_name": "Python 3 (ipykernel)",
   "language": "python",
   "name": "python3"
  },
  "language_info": {
   "codemirror_mode": {
    "name": "ipython",
    "version": 3
   },
   "file_extension": ".py",
   "mimetype": "text/x-python",
   "name": "python",
   "nbconvert_exporter": "python",
   "pygments_lexer": "ipython3",
   "version": "3.11.4"
  }
 },
 "nbformat": 4,
 "nbformat_minor": 5
}
